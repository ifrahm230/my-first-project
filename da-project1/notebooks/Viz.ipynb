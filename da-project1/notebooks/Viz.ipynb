{
  "cells": [
    {
      "cell_type": "markdown",
      "metadata": {
        "id": "0aStgWSO0E0E"
      },
      "source": [
        "# HACKATHON 1 HEALTH INSURANCE-Visualisations"
      ]
    },
    {
      "cell_type": "markdown",
      "metadata": {},
      "source": [
        "This notebook explores the cleaned insurance datasetwith simple visualisations to highlight relationships between key factors and insurance charges. "
      ]
    },
    {
      "cell_type": "markdown",
      "metadata": {
        "id": "1eLEkw5O0ECa"
      },
      "source": [
        "## Objectives\n",
        "- Load the **cleaned insurance dataset**\n",
        "- Visualise key distributions and relationships that effect **charges**\n",
        "- Note 2-3 insights per chart to support the analysis. \n",
        "* \"Engineer features for modelling and visualisation.\"\n",
        "\n",
        "\n",
        "## Inputs\n",
        "- Files:'cleaned_healthcare_insurance.csv'\n",
        "- Expected columns : 'age', 'sex', 'BMI', 'Children', 'Smoker', 'region', 'charges'\n",
        "- Notes:\"This file is the cleaned output from 'etl.ipynb' and is the only dataset used in this notebook.\" \n",
        "\n"
      ]
    },
    {
      "cell_type": "code",
      "execution_count": 11,
      "metadata": {},
      "outputs": [],
      "source": [
        "import pandas as pd \n",
        "import matplotlib.pyplot as plt\n",
        "import seaborn as sns"
      ]
    },
    {
      "cell_type": "code",
      "execution_count": 12,
      "metadata": {},
      "outputs": [
        {
          "data": {
            "text/html": [
              "<div>\n",
              "<style scoped>\n",
              "    .dataframe tbody tr th:only-of-type {\n",
              "        vertical-align: middle;\n",
              "    }\n",
              "\n",
              "    .dataframe tbody tr th {\n",
              "        vertical-align: top;\n",
              "    }\n",
              "\n",
              "    .dataframe thead th {\n",
              "        text-align: right;\n",
              "    }\n",
              "</style>\n",
              "<table border=\"1\" class=\"dataframe\">\n",
              "  <thead>\n",
              "    <tr style=\"text-align: right;\">\n",
              "      <th></th>\n",
              "      <th>age</th>\n",
              "      <th>sex</th>\n",
              "      <th>bmi</th>\n",
              "      <th>children</th>\n",
              "      <th>smoker</th>\n",
              "      <th>region</th>\n",
              "      <th>charges</th>\n",
              "    </tr>\n",
              "  </thead>\n",
              "  <tbody>\n",
              "    <tr>\n",
              "      <th>0</th>\n",
              "      <td>19</td>\n",
              "      <td>female</td>\n",
              "      <td>27.90</td>\n",
              "      <td>0</td>\n",
              "      <td>yes</td>\n",
              "      <td>southwest</td>\n",
              "      <td>16884.92</td>\n",
              "    </tr>\n",
              "    <tr>\n",
              "      <th>1</th>\n",
              "      <td>18</td>\n",
              "      <td>male</td>\n",
              "      <td>33.77</td>\n",
              "      <td>1</td>\n",
              "      <td>no</td>\n",
              "      <td>southeast</td>\n",
              "      <td>1725.55</td>\n",
              "    </tr>\n",
              "    <tr>\n",
              "      <th>2</th>\n",
              "      <td>28</td>\n",
              "      <td>male</td>\n",
              "      <td>33.00</td>\n",
              "      <td>3</td>\n",
              "      <td>no</td>\n",
              "      <td>southeast</td>\n",
              "      <td>4449.46</td>\n",
              "    </tr>\n",
              "    <tr>\n",
              "      <th>3</th>\n",
              "      <td>33</td>\n",
              "      <td>male</td>\n",
              "      <td>22.70</td>\n",
              "      <td>0</td>\n",
              "      <td>no</td>\n",
              "      <td>northwest</td>\n",
              "      <td>21984.47</td>\n",
              "    </tr>\n",
              "    <tr>\n",
              "      <th>4</th>\n",
              "      <td>32</td>\n",
              "      <td>male</td>\n",
              "      <td>28.88</td>\n",
              "      <td>0</td>\n",
              "      <td>no</td>\n",
              "      <td>northwest</td>\n",
              "      <td>3866.86</td>\n",
              "    </tr>\n",
              "  </tbody>\n",
              "</table>\n",
              "</div>"
            ],
            "text/plain": [
              "   age     sex    bmi  children smoker     region   charges\n",
              "0   19  female  27.90         0    yes  southwest  16884.92\n",
              "1   18    male  33.77         1     no  southeast   1725.55\n",
              "2   28    male  33.00         3     no  southeast   4449.46\n",
              "3   33    male  22.70         0     no  northwest  21984.47\n",
              "4   32    male  28.88         0     no  northwest   3866.86"
            ]
          },
          "execution_count": 12,
          "metadata": {},
          "output_type": "execute_result"
        }
      ],
      "source": [
        "# Load the cleaned dataset \n",
        "df= pd.read_csv('cleaned_healthcare_insurance.csv')\n",
        "df.head()\n",
        "\n",
        "\n",
        "\n",
        "\n",
        "\n"
      ]
    },
    {
      "cell_type": "markdown",
      "metadata": {
        "id": "9uWZXH9LwoQg"
      },
      "source": [
        "---"
      ]
    },
    {
      "cell_type": "markdown",
      "metadata": {},
      "source": [
        "# DATA VISUALISATION"
      ]
    },
    {
      "cell_type": "code",
      "execution_count": 13,
      "metadata": {},
      "outputs": [],
      "source": [
        "import plotly.express as px\n",
        "import plotly.graph_objects as go\n",
        "\n"
      ]
    },
    {
      "cell_type": "markdown",
      "metadata": {},
      "source": [
        "## Chart 1: Age Impact Analysis\n",
        "\n",
        "Testing **Hypothesis 1**: Insurance charges increase with age"
      ]
    },
    {
      "cell_type": "code",
      "execution_count": 14,
      "metadata": {},
      "outputs": [
        {
          "data": {
            "application/vnd.plotly.v1+json": {
              "config": {
                "plotlyServerURL": "https://plot.ly"
              },
              "data": [
                {
                  "hovertemplate": "Age=%{x}<br>Avg Charges ($)=%{y}<extra></extra>",
                  "legendgroup": "",
                  "line": {
                    "color": "#636efa",
                    "dash": "solid"
                  },
                  "marker": {
                    "symbol": "circle"
                  },
                  "mode": "lines",
                  "name": "",
                  "orientation": "v",
                  "showlegend": false,
                  "type": "scatter",
                  "x": {
                    "bdata": "EhMUFRYXGBkaGxwdHh8gISIjJCUmJygpKissLS4vMDEyMzQ1Njc4OTo7PD0+P0A=",
                    "dtype": "i1"
                  },
                  "xaxis": "x",
                  "y": {
                    "bdata": "ucryzDeuu0CWL8li9AnDQPzbzVXZ18NA99kFxHZ6skA15Nxnd47DQM59dgHpQchAnfvsAgLMxECF61G4LjfDQPvsAmLT9bdAYlNpyFnMx0AAAAAAmLbBQF5jvm4UX8RAOY7jOI7XyEC68oBkferDQCcDzFkmAsJA8JCoIsQfyEBxsKCkw67GQFH8GHOXFcZASS7/IT3Wx0DChqdX+pjRQJf/kH67pr9AMnctIR8Bx0BBkYswIP7GQDtMXW7f2sJAqcAs7oSCyUBoOmLf0dDSQK8QHNKy+c5AZloAgxn3zECH97ebSwPMQGZgs/R/PdFAAAAAAECUzECT1fLGAMzIQG2csWWAl85AC1p9qSChzkCtxAdCEdTRQBZf8RV3Ss9AwJPV8qJR0kApXI/CRZLPQPcOiSrCWM1AUdLx6csP0EBYObTIdhvLQCbChqf3c9JAinUI09p21UBqLeZFHYLVQDPyIMr2ttJALyuh6j9r00CnH2r64brWQA==",
                    "dtype": "f8"
                  },
                  "yaxis": "y"
                }
              ],
              "layout": {
                "legend": {
                  "tracegroupgap": 0
                },
                "template": {
                  "data": {
                    "bar": [
                      {
                        "error_x": {
                          "color": "#2a3f5f"
                        },
                        "error_y": {
                          "color": "#2a3f5f"
                        },
                        "marker": {
                          "line": {
                            "color": "#E5ECF6",
                            "width": 0.5
                          },
                          "pattern": {
                            "fillmode": "overlay",
                            "size": 10,
                            "solidity": 0.2
                          }
                        },
                        "type": "bar"
                      }
                    ],
                    "barpolar": [
                      {
                        "marker": {
                          "line": {
                            "color": "#E5ECF6",
                            "width": 0.5
                          },
                          "pattern": {
                            "fillmode": "overlay",
                            "size": 10,
                            "solidity": 0.2
                          }
                        },
                        "type": "barpolar"
                      }
                    ],
                    "carpet": [
                      {
                        "aaxis": {
                          "endlinecolor": "#2a3f5f",
                          "gridcolor": "white",
                          "linecolor": "white",
                          "minorgridcolor": "white",
                          "startlinecolor": "#2a3f5f"
                        },
                        "baxis": {
                          "endlinecolor": "#2a3f5f",
                          "gridcolor": "white",
                          "linecolor": "white",
                          "minorgridcolor": "white",
                          "startlinecolor": "#2a3f5f"
                        },
                        "type": "carpet"
                      }
                    ],
                    "choropleth": [
                      {
                        "colorbar": {
                          "outlinewidth": 0,
                          "ticks": ""
                        },
                        "type": "choropleth"
                      }
                    ],
                    "contour": [
                      {
                        "colorbar": {
                          "outlinewidth": 0,
                          "ticks": ""
                        },
                        "colorscale": [
                          [
                            0,
                            "#0d0887"
                          ],
                          [
                            0.1111111111111111,
                            "#46039f"
                          ],
                          [
                            0.2222222222222222,
                            "#7201a8"
                          ],
                          [
                            0.3333333333333333,
                            "#9c179e"
                          ],
                          [
                            0.4444444444444444,
                            "#bd3786"
                          ],
                          [
                            0.5555555555555556,
                            "#d8576b"
                          ],
                          [
                            0.6666666666666666,
                            "#ed7953"
                          ],
                          [
                            0.7777777777777778,
                            "#fb9f3a"
                          ],
                          [
                            0.8888888888888888,
                            "#fdca26"
                          ],
                          [
                            1,
                            "#f0f921"
                          ]
                        ],
                        "type": "contour"
                      }
                    ],
                    "contourcarpet": [
                      {
                        "colorbar": {
                          "outlinewidth": 0,
                          "ticks": ""
                        },
                        "type": "contourcarpet"
                      }
                    ],
                    "heatmap": [
                      {
                        "colorbar": {
                          "outlinewidth": 0,
                          "ticks": ""
                        },
                        "colorscale": [
                          [
                            0,
                            "#0d0887"
                          ],
                          [
                            0.1111111111111111,
                            "#46039f"
                          ],
                          [
                            0.2222222222222222,
                            "#7201a8"
                          ],
                          [
                            0.3333333333333333,
                            "#9c179e"
                          ],
                          [
                            0.4444444444444444,
                            "#bd3786"
                          ],
                          [
                            0.5555555555555556,
                            "#d8576b"
                          ],
                          [
                            0.6666666666666666,
                            "#ed7953"
                          ],
                          [
                            0.7777777777777778,
                            "#fb9f3a"
                          ],
                          [
                            0.8888888888888888,
                            "#fdca26"
                          ],
                          [
                            1,
                            "#f0f921"
                          ]
                        ],
                        "type": "heatmap"
                      }
                    ],
                    "histogram": [
                      {
                        "marker": {
                          "pattern": {
                            "fillmode": "overlay",
                            "size": 10,
                            "solidity": 0.2
                          }
                        },
                        "type": "histogram"
                      }
                    ],
                    "histogram2d": [
                      {
                        "colorbar": {
                          "outlinewidth": 0,
                          "ticks": ""
                        },
                        "colorscale": [
                          [
                            0,
                            "#0d0887"
                          ],
                          [
                            0.1111111111111111,
                            "#46039f"
                          ],
                          [
                            0.2222222222222222,
                            "#7201a8"
                          ],
                          [
                            0.3333333333333333,
                            "#9c179e"
                          ],
                          [
                            0.4444444444444444,
                            "#bd3786"
                          ],
                          [
                            0.5555555555555556,
                            "#d8576b"
                          ],
                          [
                            0.6666666666666666,
                            "#ed7953"
                          ],
                          [
                            0.7777777777777778,
                            "#fb9f3a"
                          ],
                          [
                            0.8888888888888888,
                            "#fdca26"
                          ],
                          [
                            1,
                            "#f0f921"
                          ]
                        ],
                        "type": "histogram2d"
                      }
                    ],
                    "histogram2dcontour": [
                      {
                        "colorbar": {
                          "outlinewidth": 0,
                          "ticks": ""
                        },
                        "colorscale": [
                          [
                            0,
                            "#0d0887"
                          ],
                          [
                            0.1111111111111111,
                            "#46039f"
                          ],
                          [
                            0.2222222222222222,
                            "#7201a8"
                          ],
                          [
                            0.3333333333333333,
                            "#9c179e"
                          ],
                          [
                            0.4444444444444444,
                            "#bd3786"
                          ],
                          [
                            0.5555555555555556,
                            "#d8576b"
                          ],
                          [
                            0.6666666666666666,
                            "#ed7953"
                          ],
                          [
                            0.7777777777777778,
                            "#fb9f3a"
                          ],
                          [
                            0.8888888888888888,
                            "#fdca26"
                          ],
                          [
                            1,
                            "#f0f921"
                          ]
                        ],
                        "type": "histogram2dcontour"
                      }
                    ],
                    "mesh3d": [
                      {
                        "colorbar": {
                          "outlinewidth": 0,
                          "ticks": ""
                        },
                        "type": "mesh3d"
                      }
                    ],
                    "parcoords": [
                      {
                        "line": {
                          "colorbar": {
                            "outlinewidth": 0,
                            "ticks": ""
                          }
                        },
                        "type": "parcoords"
                      }
                    ],
                    "pie": [
                      {
                        "automargin": true,
                        "type": "pie"
                      }
                    ],
                    "scatter": [
                      {
                        "fillpattern": {
                          "fillmode": "overlay",
                          "size": 10,
                          "solidity": 0.2
                        },
                        "type": "scatter"
                      }
                    ],
                    "scatter3d": [
                      {
                        "line": {
                          "colorbar": {
                            "outlinewidth": 0,
                            "ticks": ""
                          }
                        },
                        "marker": {
                          "colorbar": {
                            "outlinewidth": 0,
                            "ticks": ""
                          }
                        },
                        "type": "scatter3d"
                      }
                    ],
                    "scattercarpet": [
                      {
                        "marker": {
                          "colorbar": {
                            "outlinewidth": 0,
                            "ticks": ""
                          }
                        },
                        "type": "scattercarpet"
                      }
                    ],
                    "scattergeo": [
                      {
                        "marker": {
                          "colorbar": {
                            "outlinewidth": 0,
                            "ticks": ""
                          }
                        },
                        "type": "scattergeo"
                      }
                    ],
                    "scattergl": [
                      {
                        "marker": {
                          "colorbar": {
                            "outlinewidth": 0,
                            "ticks": ""
                          }
                        },
                        "type": "scattergl"
                      }
                    ],
                    "scattermap": [
                      {
                        "marker": {
                          "colorbar": {
                            "outlinewidth": 0,
                            "ticks": ""
                          }
                        },
                        "type": "scattermap"
                      }
                    ],
                    "scattermapbox": [
                      {
                        "marker": {
                          "colorbar": {
                            "outlinewidth": 0,
                            "ticks": ""
                          }
                        },
                        "type": "scattermapbox"
                      }
                    ],
                    "scatterpolar": [
                      {
                        "marker": {
                          "colorbar": {
                            "outlinewidth": 0,
                            "ticks": ""
                          }
                        },
                        "type": "scatterpolar"
                      }
                    ],
                    "scatterpolargl": [
                      {
                        "marker": {
                          "colorbar": {
                            "outlinewidth": 0,
                            "ticks": ""
                          }
                        },
                        "type": "scatterpolargl"
                      }
                    ],
                    "scatterternary": [
                      {
                        "marker": {
                          "colorbar": {
                            "outlinewidth": 0,
                            "ticks": ""
                          }
                        },
                        "type": "scatterternary"
                      }
                    ],
                    "surface": [
                      {
                        "colorbar": {
                          "outlinewidth": 0,
                          "ticks": ""
                        },
                        "colorscale": [
                          [
                            0,
                            "#0d0887"
                          ],
                          [
                            0.1111111111111111,
                            "#46039f"
                          ],
                          [
                            0.2222222222222222,
                            "#7201a8"
                          ],
                          [
                            0.3333333333333333,
                            "#9c179e"
                          ],
                          [
                            0.4444444444444444,
                            "#bd3786"
                          ],
                          [
                            0.5555555555555556,
                            "#d8576b"
                          ],
                          [
                            0.6666666666666666,
                            "#ed7953"
                          ],
                          [
                            0.7777777777777778,
                            "#fb9f3a"
                          ],
                          [
                            0.8888888888888888,
                            "#fdca26"
                          ],
                          [
                            1,
                            "#f0f921"
                          ]
                        ],
                        "type": "surface"
                      }
                    ],
                    "table": [
                      {
                        "cells": {
                          "fill": {
                            "color": "#EBF0F8"
                          },
                          "line": {
                            "color": "white"
                          }
                        },
                        "header": {
                          "fill": {
                            "color": "#C8D4E3"
                          },
                          "line": {
                            "color": "white"
                          }
                        },
                        "type": "table"
                      }
                    ]
                  },
                  "layout": {
                    "annotationdefaults": {
                      "arrowcolor": "#2a3f5f",
                      "arrowhead": 0,
                      "arrowwidth": 1
                    },
                    "autotypenumbers": "strict",
                    "coloraxis": {
                      "colorbar": {
                        "outlinewidth": 0,
                        "ticks": ""
                      }
                    },
                    "colorscale": {
                      "diverging": [
                        [
                          0,
                          "#8e0152"
                        ],
                        [
                          0.1,
                          "#c51b7d"
                        ],
                        [
                          0.2,
                          "#de77ae"
                        ],
                        [
                          0.3,
                          "#f1b6da"
                        ],
                        [
                          0.4,
                          "#fde0ef"
                        ],
                        [
                          0.5,
                          "#f7f7f7"
                        ],
                        [
                          0.6,
                          "#e6f5d0"
                        ],
                        [
                          0.7,
                          "#b8e186"
                        ],
                        [
                          0.8,
                          "#7fbc41"
                        ],
                        [
                          0.9,
                          "#4d9221"
                        ],
                        [
                          1,
                          "#276419"
                        ]
                      ],
                      "sequential": [
                        [
                          0,
                          "#0d0887"
                        ],
                        [
                          0.1111111111111111,
                          "#46039f"
                        ],
                        [
                          0.2222222222222222,
                          "#7201a8"
                        ],
                        [
                          0.3333333333333333,
                          "#9c179e"
                        ],
                        [
                          0.4444444444444444,
                          "#bd3786"
                        ],
                        [
                          0.5555555555555556,
                          "#d8576b"
                        ],
                        [
                          0.6666666666666666,
                          "#ed7953"
                        ],
                        [
                          0.7777777777777778,
                          "#fb9f3a"
                        ],
                        [
                          0.8888888888888888,
                          "#fdca26"
                        ],
                        [
                          1,
                          "#f0f921"
                        ]
                      ],
                      "sequentialminus": [
                        [
                          0,
                          "#0d0887"
                        ],
                        [
                          0.1111111111111111,
                          "#46039f"
                        ],
                        [
                          0.2222222222222222,
                          "#7201a8"
                        ],
                        [
                          0.3333333333333333,
                          "#9c179e"
                        ],
                        [
                          0.4444444444444444,
                          "#bd3786"
                        ],
                        [
                          0.5555555555555556,
                          "#d8576b"
                        ],
                        [
                          0.6666666666666666,
                          "#ed7953"
                        ],
                        [
                          0.7777777777777778,
                          "#fb9f3a"
                        ],
                        [
                          0.8888888888888888,
                          "#fdca26"
                        ],
                        [
                          1,
                          "#f0f921"
                        ]
                      ]
                    },
                    "colorway": [
                      "#636efa",
                      "#EF553B",
                      "#00cc96",
                      "#ab63fa",
                      "#FFA15A",
                      "#19d3f3",
                      "#FF6692",
                      "#B6E880",
                      "#FF97FF",
                      "#FECB52"
                    ],
                    "font": {
                      "color": "#2a3f5f"
                    },
                    "geo": {
                      "bgcolor": "white",
                      "lakecolor": "white",
                      "landcolor": "#E5ECF6",
                      "showlakes": true,
                      "showland": true,
                      "subunitcolor": "white"
                    },
                    "hoverlabel": {
                      "align": "left"
                    },
                    "hovermode": "closest",
                    "mapbox": {
                      "style": "light"
                    },
                    "paper_bgcolor": "white",
                    "plot_bgcolor": "#E5ECF6",
                    "polar": {
                      "angularaxis": {
                        "gridcolor": "white",
                        "linecolor": "white",
                        "ticks": ""
                      },
                      "bgcolor": "#E5ECF6",
                      "radialaxis": {
                        "gridcolor": "white",
                        "linecolor": "white",
                        "ticks": ""
                      }
                    },
                    "scene": {
                      "xaxis": {
                        "backgroundcolor": "#E5ECF6",
                        "gridcolor": "white",
                        "gridwidth": 2,
                        "linecolor": "white",
                        "showbackground": true,
                        "ticks": "",
                        "zerolinecolor": "white"
                      },
                      "yaxis": {
                        "backgroundcolor": "#E5ECF6",
                        "gridcolor": "white",
                        "gridwidth": 2,
                        "linecolor": "white",
                        "showbackground": true,
                        "ticks": "",
                        "zerolinecolor": "white"
                      },
                      "zaxis": {
                        "backgroundcolor": "#E5ECF6",
                        "gridcolor": "white",
                        "gridwidth": 2,
                        "linecolor": "white",
                        "showbackground": true,
                        "ticks": "",
                        "zerolinecolor": "white"
                      }
                    },
                    "shapedefaults": {
                      "line": {
                        "color": "#2a3f5f"
                      }
                    },
                    "ternary": {
                      "aaxis": {
                        "gridcolor": "white",
                        "linecolor": "white",
                        "ticks": ""
                      },
                      "baxis": {
                        "gridcolor": "white",
                        "linecolor": "white",
                        "ticks": ""
                      },
                      "bgcolor": "#E5ECF6",
                      "caxis": {
                        "gridcolor": "white",
                        "linecolor": "white",
                        "ticks": ""
                      }
                    },
                    "title": {
                      "x": 0.05
                    },
                    "xaxis": {
                      "automargin": true,
                      "gridcolor": "white",
                      "linecolor": "white",
                      "ticks": "",
                      "title": {
                        "standoff": 15
                      },
                      "zerolinecolor": "white",
                      "zerolinewidth": 2
                    },
                    "yaxis": {
                      "automargin": true,
                      "gridcolor": "white",
                      "linecolor": "white",
                      "ticks": "",
                      "title": {
                        "standoff": 15
                      },
                      "zerolinecolor": "white",
                      "zerolinewidth": 2
                    }
                  }
                },
                "title": {
                  "text": "Average Insurance Charges by Age"
                },
                "xaxis": {
                  "anchor": "y",
                  "domain": [
                    0,
                    1
                  ],
                  "title": {
                    "text": "Age"
                  }
                },
                "yaxis": {
                  "anchor": "x",
                  "domain": [
                    0,
                    1
                  ],
                  "title": {
                    "text": "Avg Charges ($)"
                  }
                }
              }
            }
          },
          "metadata": {},
          "output_type": "display_data"
        }
      ],
      "source": [
        "\n",
        "avg_charges_by_age = df.groupby('age', as_index=False)['charges'].mean()\n",
        "fig = px.line(avg_charges_by_age, x='age', y='charges',\n",
        "              title='Average Insurance Charges by Age',\n",
        "              labels={'charges': 'Avg Charges ($)', 'age': 'Age'})\n",
        "fig.show()\n",
        "\n"
      ]
    },
    {
      "cell_type": "markdown",
      "metadata": {},
      "source": [
        "## Chart 2: Smoking Impact Analysis\n",
        "\n",
        "Testing **Hypothesis 4**: Smoking significantly increases insurance charges"
      ]
    },
    {
      "cell_type": "code",
      "execution_count": 17,
      "metadata": {},
      "outputs": [
        {
          "data": {
            "application/vnd.plotly.v1+json": {
              "config": {
                "plotlyServerURL": "https://plot.ly"
              },
              "data": [
                {
                  "alignmentgroup": "True",
                  "hovertemplate": "Smoking Status=%{x}<br>Insurance Charges ($)=%{y}<extra></extra>",
                  "legendgroup": "",
                  "marker": {
                    "color": "#636efa"
                  },
                  "name": "",
                  "notched": false,
                  "offsetgroup": "",
                  "orientation": "v",
                  "showlegend": false,
                  "type": "box",
                  "x": [
                    "yes",
                    "no",
                    "no",
                    "no",
                    "no",
                    "no",
                    "no",
                    "no",
                    "no",
                    "no",
                    "no",
                    "yes",
                    "no",
                    "no",
                    "yes",
                    "no",
                    "no",
                    "no",
                    "no",
                    "yes",
                    "no",
                    "no",
                    "no",
                    "yes",
                    "no",
                    "no",
                    "no",
                    "no",
                    "no",
                    "yes",
                    "yes",
                    "no",
                    "no",
                    "no",
                    "yes",
                    "no",
                    "no",
                    "no",
                    "yes",
                    "yes",
                    "no",
                    "no",
                    "no",
                    "no",
                    "no",
                    "no",
                    "no",
                    "no",
                    "no",
                    "yes",
                    "no",
                    "no",
                    "yes",
                    "yes",
                    "no",
                    "yes",
                    "no",
                    "yes",
                    "yes",
                    "no",
                    "no",
                    "no",
                    "no",
                    "no",
                    "yes",
                    "no",
                    "no",
                    "no",
                    "no",
                    "yes",
                    "yes",
                    "no",
                    "no",
                    "no",
                    "no",
                    "no",
                    "no",
                    "no",
                    "no",
                    "no",
                    "no",
                    "no",
                    "yes",
                    "no",
                    "yes",
                    "yes",
                    "yes",
                    "no",
                    "no",
                    "no",
                    "no",
                    "no",
                    "yes",
                    "no",
                    "yes",
                    "no",
                    "no",
                    "no",
                    "yes",
                    "yes",
                    "no",
                    "no",
                    "no",
                    "yes",
                    "no",
                    "yes",
                    "no",
                    "no",
                    "no",
                    "yes",
                    "no",
                    "no",
                    "no",
                    "no",
                    "no",
                    "no",
                    "no",
                    "yes",
                    "no",
                    "no",
                    "no",
                    "no",
                    "no",
                    "yes",
                    "no",
                    "no",
                    "yes",
                    "no",
                    "yes",
                    "no",
                    "no",
                    "no",
                    "no",
                    "no",
                    "no",
                    "no",
                    "no",
                    "no",
                    "no",
                    "no",
                    "no",
                    "no",
                    "yes",
                    "no",
                    "yes",
                    "no",
                    "yes",
                    "no",
                    "no",
                    "no",
                    "no",
                    "no",
                    "no",
                    "yes",
                    "no",
                    "no",
                    "yes",
                    "yes",
                    "yes",
                    "no",
                    "yes",
                    "yes",
                    "no",
                    "no",
                    "no",
                    "no",
                    "no",
                    "no",
                    "no",
                    "no",
                    "no",
                    "no",
                    "no",
                    "no",
                    "no",
                    "yes",
                    "no",
                    "no",
                    "no",
                    "no",
                    "no",
                    "no",
                    "no",
                    "no",
                    "no",
                    "yes",
                    "no",
                    "no",
                    "no",
                    "no",
                    "no",
                    "no",
                    "no",
                    "no",
                    "no",
                    "no",
                    "no",
                    "no",
                    "no",
                    "no",
                    "no",
                    "no",
                    "no",
                    "yes",
                    "no",
                    "no",
                    "no",
                    "yes",
                    "no",
                    "no",
                    "no",
                    "no",
                    "no",
                    "no",
                    "no",
                    "no",
                    "no",
                    "no",
                    "no",
                    "no",
                    "no",
                    "no",
                    "no",
                    "yes",
                    "yes",
                    "no",
                    "no",
                    "no",
                    "no",
                    "no",
                    "no",
                    "no",
                    "no",
                    "no",
                    "no",
                    "yes",
                    "no",
                    "no",
                    "yes",
                    "no",
                    "yes",
                    "no",
                    "no",
                    "no",
                    "yes",
                    "no",
                    "no",
                    "no",
                    "no",
                    "no",
                    "yes",
                    "yes",
                    "yes",
                    "no",
                    "yes",
                    "no",
                    "yes",
                    "no",
                    "no",
                    "yes",
                    "no",
                    "yes",
                    "yes",
                    "yes",
                    "no",
                    "yes",
                    "yes",
                    "no",
                    "no",
                    "no",
                    "no",
                    "yes",
                    "no",
                    "no",
                    "no",
                    "no",
                    "no",
                    "no",
                    "no",
                    "no",
                    "yes",
                    "yes",
                    "no",
                    "no",
                    "no",
                    "no",
                    "no",
                    "no",
                    "yes",
                    "no",
                    "no",
                    "no",
                    "yes",
                    "no",
                    "no",
                    "no",
                    "yes",
                    "yes",
                    "yes",
                    "no",
                    "no",
                    "yes",
                    "no",
                    "no",
                    "no",
                    "no",
                    "no",
                    "no",
                    "no",
                    "no",
                    "no",
                    "no",
                    "yes",
                    "no",
                    "yes",
                    "no",
                    "no",
                    "no",
                    "no",
                    "no",
                    "no",
                    "no",
                    "yes",
                    "no",
                    "no",
                    "no",
                    "no",
                    "yes",
                    "yes",
                    "no",
                    "yes",
                    "yes",
                    "no",
                    "no",
                    "no",
                    "no",
                    "no",
                    "no",
                    "yes",
                    "no",
                    "no",
                    "no",
                    "no",
                    "no",
                    "no",
                    "no",
                    "no",
                    "no",
                    "no",
                    "no",
                    "no",
                    "no",
                    "no",
                    "no",
                    "no",
                    "no",
                    "no",
                    "no",
                    "no",
                    "no",
                    "no",
                    "no",
                    "yes",
                    "no",
                    "no",
                    "no",
                    "no",
                    "no",
                    "no",
                    "no",
                    "no",
                    "no",
                    "no",
                    "yes",
                    "no",
                    "yes",
                    "yes",
                    "yes",
                    "no",
                    "no",
                    "yes",
                    "yes",
                    "no",
                    "no",
                    "no",
                    "no",
                    "no",
                    "no",
                    "no",
                    "no",
                    "no",
                    "no",
                    "no",
                    "no",
                    "no",
                    "no",
                    "no",
                    "no",
                    "no",
                    "no",
                    "no",
                    "no",
                    "no",
                    "no",
                    "no",
                    "no",
                    "no",
                    "no",
                    "no",
                    "no",
                    "no",
                    "yes",
                    "yes",
                    "no",
                    "no",
                    "no",
                    "no",
                    "yes",
                    "no",
                    "yes",
                    "yes",
                    "yes",
                    "yes",
                    "no",
                    "no",
                    "no",
                    "no",
                    "no",
                    "no",
                    "no",
                    "no",
                    "no",
                    "no",
                    "no",
                    "no",
                    "no",
                    "no",
                    "no",
                    "no",
                    "no",
                    "no",
                    "yes",
                    "no",
                    "no",
                    "yes",
                    "no",
                    "no",
                    "no",
                    "no",
                    "no",
                    "no",
                    "no",
                    "no",
                    "no",
                    "no",
                    "no",
                    "no",
                    "no",
                    "no",
                    "no",
                    "no",
                    "yes",
                    "no",
                    "no",
                    "no",
                    "yes",
                    "no",
                    "no",
                    "no",
                    "no",
                    "no",
                    "no",
                    "no",
                    "no",
                    "yes",
                    "yes",
                    "yes",
                    "no",
                    "no",
                    "no",
                    "no",
                    "no",
                    "no",
                    "no",
                    "no",
                    "no",
                    "no",
                    "no",
                    "yes",
                    "no",
                    "no",
                    "no",
                    "no",
                    "no",
                    "yes",
                    "no",
                    "no",
                    "no",
                    "no",
                    "no",
                    "yes",
                    "no",
                    "yes",
                    "yes",
                    "no",
                    "no",
                    "no",
                    "no",
                    "no",
                    "no",
                    "no",
                    "no",
                    "no",
                    "no",
                    "yes",
                    "no",
                    "no",
                    "no",
                    "no",
                    "no",
                    "no",
                    "no",
                    "no",
                    "no",
                    "yes",
                    "no",
                    "no",
                    "no",
                    "no",
                    "no",
                    "yes",
                    "no",
                    "no",
                    "no",
                    "no",
                    "no",
                    "no",
                    "no",
                    "no",
                    "no",
                    "no",
                    "no",
                    "no",
                    "yes",
                    "no",
                    "yes",
                    "no",
                    "no",
                    "no",
                    "yes",
                    "no",
                    "no",
                    "no",
                    "no",
                    "no",
                    "no",
                    "no",
                    "no",
                    "yes",
                    "no",
                    "no",
                    "no",
                    "no",
                    "no",
                    "no",
                    "no",
                    "no",
                    "no",
                    "no",
                    "yes",
                    "no",
                    "no",
                    "no",
                    "no",
                    "no",
                    "no",
                    "no",
                    "yes",
                    "no",
                    "no",
                    "no",
                    "no",
                    "no",
                    "no",
                    "no",
                    "no",
                    "no",
                    "yes",
                    "no",
                    "no",
                    "no",
                    "no",
                    "no",
                    "yes",
                    "no",
                    "no",
                    "no",
                    "no",
                    "no",
                    "no",
                    "no",
                    "no",
                    "no",
                    "no",
                    "yes",
                    "no",
                    "no",
                    "yes",
                    "no",
                    "yes",
                    "no",
                    "no",
                    "no",
                    "no",
                    "no",
                    "yes",
                    "no",
                    "yes",
                    "yes",
                    "no",
                    "no",
                    "yes",
                    "no",
                    "yes",
                    "no",
                    "no",
                    "no",
                    "no",
                    "no",
                    "yes",
                    "no",
                    "no",
                    "no",
                    "no",
                    "no",
                    "no",
                    "no",
                    "no",
                    "yes",
                    "no",
                    "no",
                    "yes",
                    "no",
                    "no",
                    "no",
                    "no",
                    "no",
                    "no",
                    "no",
                    "no",
                    "no",
                    "no",
                    "no",
                    "no",
                    "no",
                    "yes",
                    "no",
                    "no",
                    "no",
                    "no",
                    "no",
                    "no",
                    "no",
                    "no",
                    "yes",
                    "yes",
                    "no",
                    "yes",
                    "yes",
                    "no",
                    "no",
                    "no",
                    "no",
                    "no",
                    "yes",
                    "no",
                    "no",
                    "yes",
                    "no",
                    "no",
                    "no",
                    "no",
                    "yes",
                    "no",
                    "no",
                    "no",
                    "no",
                    "no",
                    "no",
                    "yes",
                    "no",
                    "no",
                    "no",
                    "no",
                    "no",
                    "no",
                    "no",
                    "yes",
                    "no",
                    "no",
                    "no",
                    "no",
                    "no",
                    "no",
                    "no",
                    "no",
                    "yes",
                    "no",
                    "no",
                    "no",
                    "no",
                    "no",
                    "no",
                    "no",
                    "no",
                    "no",
                    "no",
                    "no",
                    "no",
                    "no",
                    "no",
                    "no",
                    "no",
                    "no",
                    "no",
                    "yes",
                    "no",
                    "yes",
                    "no",
                    "no",
                    "yes",
                    "no",
                    "no",
                    "no",
                    "no",
                    "no",
                    "yes",
                    "no",
                    "yes",
                    "yes",
                    "no",
                    "yes",
                    "yes",
                    "no",
                    "no",
                    "no",
                    "no",
                    "no",
                    "no",
                    "no",
                    "yes",
                    "no",
                    "no",
                    "no",
                    "no",
                    "no",
                    "no",
                    "yes",
                    "no",
                    "yes",
                    "no",
                    "no",
                    "yes",
                    "no",
                    "no",
                    "no",
                    "no",
                    "no",
                    "no",
                    "no",
                    "no",
                    "no",
                    "no",
                    "yes",
                    "no",
                    "no",
                    "no",
                    "no",
                    "no",
                    "no",
                    "yes",
                    "no",
                    "no",
                    "yes",
                    "no",
                    "no",
                    "no",
                    "no",
                    "no",
                    "no",
                    "no",
                    "no",
                    "no",
                    "yes",
                    "no",
                    "yes",
                    "no",
                    "no",
                    "no",
                    "yes",
                    "no",
                    "no",
                    "no",
                    "yes",
                    "no",
                    "no",
                    "no",
                    "no",
                    "no",
                    "no",
                    "no",
                    "no",
                    "no",
                    "no",
                    "no",
                    "no",
                    "no",
                    "no",
                    "yes",
                    "yes",
                    "no",
                    "no",
                    "no",
                    "no",
                    "no",
                    "no",
                    "yes",
                    "yes",
                    "yes",
                    "no",
                    "no",
                    "no",
                    "no",
                    "no",
                    "no",
                    "no",
                    "no",
                    "no",
                    "no",
                    "no",
                    "no",
                    "no",
                    "yes",
                    "yes",
                    "no",
                    "yes",
                    "no",
                    "no",
                    "no",
                    "no",
                    "yes",
                    "no",
                    "yes",
                    "no",
                    "yes",
                    "no",
                    "yes",
                    "yes",
                    "no",
                    "no",
                    "yes",
                    "no",
                    "no",
                    "no",
                    "no",
                    "no",
                    "no",
                    "no",
                    "no",
                    "no",
                    "no",
                    "no",
                    "no",
                    "no",
                    "no",
                    "no",
                    "no",
                    "no",
                    "no",
                    "no",
                    "no",
                    "no",
                    "no",
                    "yes",
                    "no",
                    "yes",
                    "yes",
                    "no",
                    "no",
                    "no",
                    "yes",
                    "no",
                    "no",
                    "yes",
                    "no",
                    "no",
                    "yes",
                    "no",
                    "no",
                    "no",
                    "no",
                    "yes",
                    "no",
                    "no",
                    "no",
                    "no",
                    "no",
                    "no",
                    "no",
                    "yes",
                    "no",
                    "yes",
                    "no",
                    "no",
                    "no",
                    "no",
                    "yes",
                    "yes",
                    "no",
                    "no",
                    "no",
                    "no",
                    "no",
                    "no",
                    "no",
                    "no",
                    "no",
                    "no",
                    "no",
                    "no",
                    "no",
                    "no",
                    "no",
                    "no",
                    "no",
                    "no",
                    "no",
                    "no",
                    "no",
                    "no",
                    "no",
                    "no",
                    "no",
                    "no",
                    "no",
                    "no",
                    "no",
                    "yes",
                    "no",
                    "yes",
                    "no",
                    "yes",
                    "no",
                    "yes",
                    "yes",
                    "no",
                    "yes",
                    "no",
                    "yes",
                    "no",
                    "no",
                    "no",
                    "no",
                    "no",
                    "no",
                    "no",
                    "yes",
                    "no",
                    "no",
                    "no",
                    "no",
                    "no",
                    "no",
                    "no",
                    "no",
                    "yes",
                    "no",
                    "no",
                    "no",
                    "no",
                    "no",
                    "no",
                    "yes",
                    "no",
                    "no",
                    "no",
                    "no",
                    "no",
                    "no",
                    "yes",
                    "no",
                    "no",
                    "no",
                    "no",
                    "yes",
                    "no",
                    "no",
                    "no",
                    "no",
                    "no",
                    "yes",
                    "yes",
                    "no",
                    "no",
                    "no",
                    "no",
                    "no",
                    "yes",
                    "no",
                    "no",
                    "no",
                    "yes",
                    "no",
                    "no",
                    "no",
                    "no",
                    "no",
                    "no",
                    "no",
                    "no",
                    "no",
                    "yes",
                    "yes",
                    "no",
                    "no",
                    "no",
                    "yes",
                    "no",
                    "no",
                    "no",
                    "yes",
                    "yes",
                    "no",
                    "yes",
                    "no",
                    "no",
                    "yes",
                    "yes",
                    "no",
                    "no",
                    "yes",
                    "no",
                    "yes",
                    "no",
                    "no",
                    "yes",
                    "no",
                    "yes",
                    "no",
                    "yes",
                    "no",
                    "no",
                    "no",
                    "yes",
                    "no",
                    "no",
                    "no",
                    "no",
                    "no",
                    "no",
                    "no",
                    "no",
                    "yes",
                    "no",
                    "no",
                    "no",
                    "no",
                    "no",
                    "no",
                    "no",
                    "yes",
                    "no",
                    "no",
                    "no",
                    "no",
                    "no",
                    "no",
                    "no",
                    "yes",
                    "no",
                    "no",
                    "no",
                    "no",
                    "no",
                    "no",
                    "yes",
                    "no",
                    "no",
                    "no",
                    "no",
                    "yes",
                    "no",
                    "no",
                    "yes",
                    "no",
                    "no",
                    "yes",
                    "no",
                    "no",
                    "no",
                    "yes",
                    "no",
                    "no",
                    "no",
                    "no",
                    "no",
                    "no",
                    "no",
                    "no",
                    "no",
                    "no",
                    "yes",
                    "yes",
                    "no",
                    "no",
                    "no",
                    "no",
                    "yes",
                    "yes",
                    "no",
                    "yes",
                    "no",
                    "yes",
                    "no",
                    "yes",
                    "no",
                    "no",
                    "no",
                    "no",
                    "no",
                    "no",
                    "no",
                    "no",
                    "no",
                    "no",
                    "no",
                    "no",
                    "no",
                    "no",
                    "yes",
                    "no",
                    "no",
                    "no",
                    "no",
                    "no",
                    "no",
                    "yes",
                    "no",
                    "no",
                    "no",
                    "no",
                    "no",
                    "yes",
                    "no",
                    "no",
                    "no",
                    "yes",
                    "no",
                    "no",
                    "no",
                    "no",
                    "no",
                    "no",
                    "no",
                    "no",
                    "no",
                    "no",
                    "no",
                    "no",
                    "no",
                    "yes",
                    "yes",
                    "no",
                    "no",
                    "no",
                    "no",
                    "yes",
                    "no",
                    "no",
                    "yes",
                    "no",
                    "no",
                    "no",
                    "no",
                    "yes",
                    "no",
                    "yes",
                    "no",
                    "yes",
                    "no",
                    "no",
                    "no",
                    "no",
                    "no",
                    "no",
                    "no",
                    "yes",
                    "no",
                    "no",
                    "no",
                    "no",
                    "no",
                    "no",
                    "no",
                    "yes",
                    "no",
                    "no",
                    "yes",
                    "yes",
                    "no",
                    "no",
                    "no",
                    "no",
                    "no",
                    "no",
                    "no",
                    "no",
                    "no",
                    "yes",
                    "no",
                    "no",
                    "no",
                    "no",
                    "yes",
                    "no",
                    "no",
                    "no",
                    "no",
                    "no",
                    "no",
                    "yes",
                    "yes",
                    "no",
                    "no",
                    "no",
                    "no",
                    "no",
                    "no",
                    "no",
                    "no",
                    "yes",
                    "yes",
                    "no",
                    "no",
                    "no",
                    "no",
                    "no",
                    "no",
                    "no",
                    "yes",
                    "yes",
                    "no",
                    "yes",
                    "no",
                    "no",
                    "no",
                    "no",
                    "no",
                    "no",
                    "no",
                    "no",
                    "no",
                    "no",
                    "no",
                    "no",
                    "yes",
                    "no",
                    "yes",
                    "no",
                    "no",
                    "no",
                    "no",
                    "no",
                    "no",
                    "yes",
                    "no",
                    "no",
                    "no",
                    "yes",
                    "no",
                    "no",
                    "yes",
                    "yes",
                    "no",
                    "yes",
                    "no",
                    "no",
                    "no",
                    "yes",
                    "no",
                    "no",
                    "yes",
                    "no",
                    "no",
                    "no",
                    "no",
                    "no",
                    "no",
                    "no",
                    "no",
                    "yes",
                    "yes",
                    "no",
                    "yes",
                    "yes",
                    "no",
                    "yes",
                    "yes",
                    "yes",
                    "no",
                    "no",
                    "no",
                    "no",
                    "yes",
                    "yes",
                    "no",
                    "no",
                    "no",
                    "no",
                    "no",
                    "no",
                    "yes",
                    "no",
                    "yes",
                    "no",
                    "no",
                    "no",
                    "no",
                    "no",
                    "no",
                    "no",
                    "no",
                    "no",
                    "no",
                    "no",
                    "no",
                    "no",
                    "yes"
                  ],
                  "x0": " ",
                  "xaxis": "x",
                  "y": {
                    "bdata": "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",
                    "dtype": "f8"
                  },
                  "y0": " ",
                  "yaxis": "y"
                }
              ],
              "layout": {
                "boxmode": "group",
                "legend": {
                  "tracegroupgap": 0
                },
                "template": {
                  "data": {
                    "bar": [
                      {
                        "error_x": {
                          "color": "#2a3f5f"
                        },
                        "error_y": {
                          "color": "#2a3f5f"
                        },
                        "marker": {
                          "line": {
                            "color": "#E5ECF6",
                            "width": 0.5
                          },
                          "pattern": {
                            "fillmode": "overlay",
                            "size": 10,
                            "solidity": 0.2
                          }
                        },
                        "type": "bar"
                      }
                    ],
                    "barpolar": [
                      {
                        "marker": {
                          "line": {
                            "color": "#E5ECF6",
                            "width": 0.5
                          },
                          "pattern": {
                            "fillmode": "overlay",
                            "size": 10,
                            "solidity": 0.2
                          }
                        },
                        "type": "barpolar"
                      }
                    ],
                    "carpet": [
                      {
                        "aaxis": {
                          "endlinecolor": "#2a3f5f",
                          "gridcolor": "white",
                          "linecolor": "white",
                          "minorgridcolor": "white",
                          "startlinecolor": "#2a3f5f"
                        },
                        "baxis": {
                          "endlinecolor": "#2a3f5f",
                          "gridcolor": "white",
                          "linecolor": "white",
                          "minorgridcolor": "white",
                          "startlinecolor": "#2a3f5f"
                        },
                        "type": "carpet"
                      }
                    ],
                    "choropleth": [
                      {
                        "colorbar": {
                          "outlinewidth": 0,
                          "ticks": ""
                        },
                        "type": "choropleth"
                      }
                    ],
                    "contour": [
                      {
                        "colorbar": {
                          "outlinewidth": 0,
                          "ticks": ""
                        },
                        "colorscale": [
                          [
                            0,
                            "#0d0887"
                          ],
                          [
                            0.1111111111111111,
                            "#46039f"
                          ],
                          [
                            0.2222222222222222,
                            "#7201a8"
                          ],
                          [
                            0.3333333333333333,
                            "#9c179e"
                          ],
                          [
                            0.4444444444444444,
                            "#bd3786"
                          ],
                          [
                            0.5555555555555556,
                            "#d8576b"
                          ],
                          [
                            0.6666666666666666,
                            "#ed7953"
                          ],
                          [
                            0.7777777777777778,
                            "#fb9f3a"
                          ],
                          [
                            0.8888888888888888,
                            "#fdca26"
                          ],
                          [
                            1,
                            "#f0f921"
                          ]
                        ],
                        "type": "contour"
                      }
                    ],
                    "contourcarpet": [
                      {
                        "colorbar": {
                          "outlinewidth": 0,
                          "ticks": ""
                        },
                        "type": "contourcarpet"
                      }
                    ],
                    "heatmap": [
                      {
                        "colorbar": {
                          "outlinewidth": 0,
                          "ticks": ""
                        },
                        "colorscale": [
                          [
                            0,
                            "#0d0887"
                          ],
                          [
                            0.1111111111111111,
                            "#46039f"
                          ],
                          [
                            0.2222222222222222,
                            "#7201a8"
                          ],
                          [
                            0.3333333333333333,
                            "#9c179e"
                          ],
                          [
                            0.4444444444444444,
                            "#bd3786"
                          ],
                          [
                            0.5555555555555556,
                            "#d8576b"
                          ],
                          [
                            0.6666666666666666,
                            "#ed7953"
                          ],
                          [
                            0.7777777777777778,
                            "#fb9f3a"
                          ],
                          [
                            0.8888888888888888,
                            "#fdca26"
                          ],
                          [
                            1,
                            "#f0f921"
                          ]
                        ],
                        "type": "heatmap"
                      }
                    ],
                    "histogram": [
                      {
                        "marker": {
                          "pattern": {
                            "fillmode": "overlay",
                            "size": 10,
                            "solidity": 0.2
                          }
                        },
                        "type": "histogram"
                      }
                    ],
                    "histogram2d": [
                      {
                        "colorbar": {
                          "outlinewidth": 0,
                          "ticks": ""
                        },
                        "colorscale": [
                          [
                            0,
                            "#0d0887"
                          ],
                          [
                            0.1111111111111111,
                            "#46039f"
                          ],
                          [
                            0.2222222222222222,
                            "#7201a8"
                          ],
                          [
                            0.3333333333333333,
                            "#9c179e"
                          ],
                          [
                            0.4444444444444444,
                            "#bd3786"
                          ],
                          [
                            0.5555555555555556,
                            "#d8576b"
                          ],
                          [
                            0.6666666666666666,
                            "#ed7953"
                          ],
                          [
                            0.7777777777777778,
                            "#fb9f3a"
                          ],
                          [
                            0.8888888888888888,
                            "#fdca26"
                          ],
                          [
                            1,
                            "#f0f921"
                          ]
                        ],
                        "type": "histogram2d"
                      }
                    ],
                    "histogram2dcontour": [
                      {
                        "colorbar": {
                          "outlinewidth": 0,
                          "ticks": ""
                        },
                        "colorscale": [
                          [
                            0,
                            "#0d0887"
                          ],
                          [
                            0.1111111111111111,
                            "#46039f"
                          ],
                          [
                            0.2222222222222222,
                            "#7201a8"
                          ],
                          [
                            0.3333333333333333,
                            "#9c179e"
                          ],
                          [
                            0.4444444444444444,
                            "#bd3786"
                          ],
                          [
                            0.5555555555555556,
                            "#d8576b"
                          ],
                          [
                            0.6666666666666666,
                            "#ed7953"
                          ],
                          [
                            0.7777777777777778,
                            "#fb9f3a"
                          ],
                          [
                            0.8888888888888888,
                            "#fdca26"
                          ],
                          [
                            1,
                            "#f0f921"
                          ]
                        ],
                        "type": "histogram2dcontour"
                      }
                    ],
                    "mesh3d": [
                      {
                        "colorbar": {
                          "outlinewidth": 0,
                          "ticks": ""
                        },
                        "type": "mesh3d"
                      }
                    ],
                    "parcoords": [
                      {
                        "line": {
                          "colorbar": {
                            "outlinewidth": 0,
                            "ticks": ""
                          }
                        },
                        "type": "parcoords"
                      }
                    ],
                    "pie": [
                      {
                        "automargin": true,
                        "type": "pie"
                      }
                    ],
                    "scatter": [
                      {
                        "fillpattern": {
                          "fillmode": "overlay",
                          "size": 10,
                          "solidity": 0.2
                        },
                        "type": "scatter"
                      }
                    ],
                    "scatter3d": [
                      {
                        "line": {
                          "colorbar": {
                            "outlinewidth": 0,
                            "ticks": ""
                          }
                        },
                        "marker": {
                          "colorbar": {
                            "outlinewidth": 0,
                            "ticks": ""
                          }
                        },
                        "type": "scatter3d"
                      }
                    ],
                    "scattercarpet": [
                      {
                        "marker": {
                          "colorbar": {
                            "outlinewidth": 0,
                            "ticks": ""
                          }
                        },
                        "type": "scattercarpet"
                      }
                    ],
                    "scattergeo": [
                      {
                        "marker": {
                          "colorbar": {
                            "outlinewidth": 0,
                            "ticks": ""
                          }
                        },
                        "type": "scattergeo"
                      }
                    ],
                    "scattergl": [
                      {
                        "marker": {
                          "colorbar": {
                            "outlinewidth": 0,
                            "ticks": ""
                          }
                        },
                        "type": "scattergl"
                      }
                    ],
                    "scattermap": [
                      {
                        "marker": {
                          "colorbar": {
                            "outlinewidth": 0,
                            "ticks": ""
                          }
                        },
                        "type": "scattermap"
                      }
                    ],
                    "scattermapbox": [
                      {
                        "marker": {
                          "colorbar": {
                            "outlinewidth": 0,
                            "ticks": ""
                          }
                        },
                        "type": "scattermapbox"
                      }
                    ],
                    "scatterpolar": [
                      {
                        "marker": {
                          "colorbar": {
                            "outlinewidth": 0,
                            "ticks": ""
                          }
                        },
                        "type": "scatterpolar"
                      }
                    ],
                    "scatterpolargl": [
                      {
                        "marker": {
                          "colorbar": {
                            "outlinewidth": 0,
                            "ticks": ""
                          }
                        },
                        "type": "scatterpolargl"
                      }
                    ],
                    "scatterternary": [
                      {
                        "marker": {
                          "colorbar": {
                            "outlinewidth": 0,
                            "ticks": ""
                          }
                        },
                        "type": "scatterternary"
                      }
                    ],
                    "surface": [
                      {
                        "colorbar": {
                          "outlinewidth": 0,
                          "ticks": ""
                        },
                        "colorscale": [
                          [
                            0,
                            "#0d0887"
                          ],
                          [
                            0.1111111111111111,
                            "#46039f"
                          ],
                          [
                            0.2222222222222222,
                            "#7201a8"
                          ],
                          [
                            0.3333333333333333,
                            "#9c179e"
                          ],
                          [
                            0.4444444444444444,
                            "#bd3786"
                          ],
                          [
                            0.5555555555555556,
                            "#d8576b"
                          ],
                          [
                            0.6666666666666666,
                            "#ed7953"
                          ],
                          [
                            0.7777777777777778,
                            "#fb9f3a"
                          ],
                          [
                            0.8888888888888888,
                            "#fdca26"
                          ],
                          [
                            1,
                            "#f0f921"
                          ]
                        ],
                        "type": "surface"
                      }
                    ],
                    "table": [
                      {
                        "cells": {
                          "fill": {
                            "color": "#EBF0F8"
                          },
                          "line": {
                            "color": "white"
                          }
                        },
                        "header": {
                          "fill": {
                            "color": "#C8D4E3"
                          },
                          "line": {
                            "color": "white"
                          }
                        },
                        "type": "table"
                      }
                    ]
                  },
                  "layout": {
                    "annotationdefaults": {
                      "arrowcolor": "#2a3f5f",
                      "arrowhead": 0,
                      "arrowwidth": 1
                    },
                    "autotypenumbers": "strict",
                    "coloraxis": {
                      "colorbar": {
                        "outlinewidth": 0,
                        "ticks": ""
                      }
                    },
                    "colorscale": {
                      "diverging": [
                        [
                          0,
                          "#8e0152"
                        ],
                        [
                          0.1,
                          "#c51b7d"
                        ],
                        [
                          0.2,
                          "#de77ae"
                        ],
                        [
                          0.3,
                          "#f1b6da"
                        ],
                        [
                          0.4,
                          "#fde0ef"
                        ],
                        [
                          0.5,
                          "#f7f7f7"
                        ],
                        [
                          0.6,
                          "#e6f5d0"
                        ],
                        [
                          0.7,
                          "#b8e186"
                        ],
                        [
                          0.8,
                          "#7fbc41"
                        ],
                        [
                          0.9,
                          "#4d9221"
                        ],
                        [
                          1,
                          "#276419"
                        ]
                      ],
                      "sequential": [
                        [
                          0,
                          "#0d0887"
                        ],
                        [
                          0.1111111111111111,
                          "#46039f"
                        ],
                        [
                          0.2222222222222222,
                          "#7201a8"
                        ],
                        [
                          0.3333333333333333,
                          "#9c179e"
                        ],
                        [
                          0.4444444444444444,
                          "#bd3786"
                        ],
                        [
                          0.5555555555555556,
                          "#d8576b"
                        ],
                        [
                          0.6666666666666666,
                          "#ed7953"
                        ],
                        [
                          0.7777777777777778,
                          "#fb9f3a"
                        ],
                        [
                          0.8888888888888888,
                          "#fdca26"
                        ],
                        [
                          1,
                          "#f0f921"
                        ]
                      ],
                      "sequentialminus": [
                        [
                          0,
                          "#0d0887"
                        ],
                        [
                          0.1111111111111111,
                          "#46039f"
                        ],
                        [
                          0.2222222222222222,
                          "#7201a8"
                        ],
                        [
                          0.3333333333333333,
                          "#9c179e"
                        ],
                        [
                          0.4444444444444444,
                          "#bd3786"
                        ],
                        [
                          0.5555555555555556,
                          "#d8576b"
                        ],
                        [
                          0.6666666666666666,
                          "#ed7953"
                        ],
                        [
                          0.7777777777777778,
                          "#fb9f3a"
                        ],
                        [
                          0.8888888888888888,
                          "#fdca26"
                        ],
                        [
                          1,
                          "#f0f921"
                        ]
                      ]
                    },
                    "colorway": [
                      "#636efa",
                      "#EF553B",
                      "#00cc96",
                      "#ab63fa",
                      "#FFA15A",
                      "#19d3f3",
                      "#FF6692",
                      "#B6E880",
                      "#FF97FF",
                      "#FECB52"
                    ],
                    "font": {
                      "color": "#2a3f5f"
                    },
                    "geo": {
                      "bgcolor": "white",
                      "lakecolor": "white",
                      "landcolor": "#E5ECF6",
                      "showlakes": true,
                      "showland": true,
                      "subunitcolor": "white"
                    },
                    "hoverlabel": {
                      "align": "left"
                    },
                    "hovermode": "closest",
                    "mapbox": {
                      "style": "light"
                    },
                    "paper_bgcolor": "white",
                    "plot_bgcolor": "#E5ECF6",
                    "polar": {
                      "angularaxis": {
                        "gridcolor": "white",
                        "linecolor": "white",
                        "ticks": ""
                      },
                      "bgcolor": "#E5ECF6",
                      "radialaxis": {
                        "gridcolor": "white",
                        "linecolor": "white",
                        "ticks": ""
                      }
                    },
                    "scene": {
                      "xaxis": {
                        "backgroundcolor": "#E5ECF6",
                        "gridcolor": "white",
                        "gridwidth": 2,
                        "linecolor": "white",
                        "showbackground": true,
                        "ticks": "",
                        "zerolinecolor": "white"
                      },
                      "yaxis": {
                        "backgroundcolor": "#E5ECF6",
                        "gridcolor": "white",
                        "gridwidth": 2,
                        "linecolor": "white",
                        "showbackground": true,
                        "ticks": "",
                        "zerolinecolor": "white"
                      },
                      "zaxis": {
                        "backgroundcolor": "#E5ECF6",
                        "gridcolor": "white",
                        "gridwidth": 2,
                        "linecolor": "white",
                        "showbackground": true,
                        "ticks": "",
                        "zerolinecolor": "white"
                      }
                    },
                    "shapedefaults": {
                      "line": {
                        "color": "#2a3f5f"
                      }
                    },
                    "ternary": {
                      "aaxis": {
                        "gridcolor": "white",
                        "linecolor": "white",
                        "ticks": ""
                      },
                      "baxis": {
                        "gridcolor": "white",
                        "linecolor": "white",
                        "ticks": ""
                      },
                      "bgcolor": "#E5ECF6",
                      "caxis": {
                        "gridcolor": "white",
                        "linecolor": "white",
                        "ticks": ""
                      }
                    },
                    "title": {
                      "x": 0.05
                    },
                    "xaxis": {
                      "automargin": true,
                      "gridcolor": "white",
                      "linecolor": "white",
                      "ticks": "",
                      "title": {
                        "standoff": 15
                      },
                      "zerolinecolor": "white",
                      "zerolinewidth": 2
                    },
                    "yaxis": {
                      "automargin": true,
                      "gridcolor": "white",
                      "linecolor": "white",
                      "ticks": "",
                      "title": {
                        "standoff": 15
                      },
                      "zerolinecolor": "white",
                      "zerolinewidth": 2
                    }
                  }
                },
                "title": {
                  "text": "Insurance Charges by Smoking Status"
                },
                "xaxis": {
                  "anchor": "y",
                  "domain": [
                    0,
                    1
                  ],
                  "title": {
                    "text": "Smoking Status"
                  }
                },
                "yaxis": {
                  "anchor": "x",
                  "domain": [
                    0,
                    1
                  ],
                  "title": {
                    "text": "Insurance Charges ($)"
                  }
                }
              }
            }
          },
          "metadata": {},
          "output_type": "display_data"
        },
        {
          "name": "stdout",
          "output_type": "stream",
          "text": [
            "\n",
            "Charges by Smoking Status:\n",
            "            mean    median  count\n",
            "smoker                           \n",
            "no       8434.27   7345.40   1064\n",
            "yes     32050.23  34456.35    274\n"
          ]
        }
      ],
      "source": [
        "# Box plot: Charges by Smoking Status\n",
        "fig = px.box(df, x='smoker', y='charges', \n",
        "             title='Insurance Charges by Smoking Status',\n",
        "             labels={'smoker': 'Smoking Status', 'charges': 'Insurance Charges ($)'})\n",
        "fig.show()\n",
        "\n",
        "# Calculate statistics\n",
        "smoker_stats = df.groupby('smoker')['charges'].agg(['mean', 'median', 'count']).round(2)\n",
        "print(\"\\nCharges by Smoking Status:\")\n",
        "print(smoker_stats)"
      ]
    },
    {
      "cell_type": "markdown",
      "metadata": {},
      "source": [
        "## Chart 3: Regional Analysis\n",
        "\n",
        "Testing **Hypothesis 3**: Regional differences affect insurance charges"
      ]
    },
    {
      "cell_type": "code",
      "execution_count": null,
      "metadata": {},
      "outputs": [
        {
          "data": {
            "application/vnd.plotly.v1+json": {
              "config": {
                "plotlyServerURL": "https://plot.ly"
              },
              "data": [
                {
                  "hovertemplate": "Region=%{x}<br>Average Charges ($)=%{y}<extra></extra>",
                  "legendgroup": "",
                  "marker": {
                    "color": "#636efa",
                    "pattern": {
                      "shape": ""
                    }
                  },
                  "name": "",
                  "orientation": "v",
                  "showlegend": false,
                  "textposition": "auto",
                  "type": "bar",
                  "x": [
                    "northeast",
                    "northwest",
                    "southeast",
                    "southwest"
                  ],
                  "xaxis": "x",
                  "y": {
                    "bdata": "z0eIOjEvykDpNSWfyUDIQBLrfau0x8xAG4dAAHgdyEA=",
                    "dtype": "f8"
                  },
                  "yaxis": "y"
                }
              ],
              "layout": {
                "barmode": "relative",
                "legend": {
                  "tracegroupgap": 0
                },
                "template": {
                  "data": {
                    "bar": [
                      {
                        "error_x": {
                          "color": "#2a3f5f"
                        },
                        "error_y": {
                          "color": "#2a3f5f"
                        },
                        "marker": {
                          "line": {
                            "color": "#E5ECF6",
                            "width": 0.5
                          },
                          "pattern": {
                            "fillmode": "overlay",
                            "size": 10,
                            "solidity": 0.2
                          }
                        },
                        "type": "bar"
                      }
                    ],
                    "barpolar": [
                      {
                        "marker": {
                          "line": {
                            "color": "#E5ECF6",
                            "width": 0.5
                          },
                          "pattern": {
                            "fillmode": "overlay",
                            "size": 10,
                            "solidity": 0.2
                          }
                        },
                        "type": "barpolar"
                      }
                    ],
                    "carpet": [
                      {
                        "aaxis": {
                          "endlinecolor": "#2a3f5f",
                          "gridcolor": "white",
                          "linecolor": "white",
                          "minorgridcolor": "white",
                          "startlinecolor": "#2a3f5f"
                        },
                        "baxis": {
                          "endlinecolor": "#2a3f5f",
                          "gridcolor": "white",
                          "linecolor": "white",
                          "minorgridcolor": "white",
                          "startlinecolor": "#2a3f5f"
                        },
                        "type": "carpet"
                      }
                    ],
                    "choropleth": [
                      {
                        "colorbar": {
                          "outlinewidth": 0,
                          "ticks": ""
                        },
                        "type": "choropleth"
                      }
                    ],
                    "contour": [
                      {
                        "colorbar": {
                          "outlinewidth": 0,
                          "ticks": ""
                        },
                        "colorscale": [
                          [
                            0,
                            "#0d0887"
                          ],
                          [
                            0.1111111111111111,
                            "#46039f"
                          ],
                          [
                            0.2222222222222222,
                            "#7201a8"
                          ],
                          [
                            0.3333333333333333,
                            "#9c179e"
                          ],
                          [
                            0.4444444444444444,
                            "#bd3786"
                          ],
                          [
                            0.5555555555555556,
                            "#d8576b"
                          ],
                          [
                            0.6666666666666666,
                            "#ed7953"
                          ],
                          [
                            0.7777777777777778,
                            "#fb9f3a"
                          ],
                          [
                            0.8888888888888888,
                            "#fdca26"
                          ],
                          [
                            1,
                            "#f0f921"
                          ]
                        ],
                        "type": "contour"
                      }
                    ],
                    "contourcarpet": [
                      {
                        "colorbar": {
                          "outlinewidth": 0,
                          "ticks": ""
                        },
                        "type": "contourcarpet"
                      }
                    ],
                    "heatmap": [
                      {
                        "colorbar": {
                          "outlinewidth": 0,
                          "ticks": ""
                        },
                        "colorscale": [
                          [
                            0,
                            "#0d0887"
                          ],
                          [
                            0.1111111111111111,
                            "#46039f"
                          ],
                          [
                            0.2222222222222222,
                            "#7201a8"
                          ],
                          [
                            0.3333333333333333,
                            "#9c179e"
                          ],
                          [
                            0.4444444444444444,
                            "#bd3786"
                          ],
                          [
                            0.5555555555555556,
                            "#d8576b"
                          ],
                          [
                            0.6666666666666666,
                            "#ed7953"
                          ],
                          [
                            0.7777777777777778,
                            "#fb9f3a"
                          ],
                          [
                            0.8888888888888888,
                            "#fdca26"
                          ],
                          [
                            1,
                            "#f0f921"
                          ]
                        ],
                        "type": "heatmap"
                      }
                    ],
                    "histogram": [
                      {
                        "marker": {
                          "pattern": {
                            "fillmode": "overlay",
                            "size": 10,
                            "solidity": 0.2
                          }
                        },
                        "type": "histogram"
                      }
                    ],
                    "histogram2d": [
                      {
                        "colorbar": {
                          "outlinewidth": 0,
                          "ticks": ""
                        },
                        "colorscale": [
                          [
                            0,
                            "#0d0887"
                          ],
                          [
                            0.1111111111111111,
                            "#46039f"
                          ],
                          [
                            0.2222222222222222,
                            "#7201a8"
                          ],
                          [
                            0.3333333333333333,
                            "#9c179e"
                          ],
                          [
                            0.4444444444444444,
                            "#bd3786"
                          ],
                          [
                            0.5555555555555556,
                            "#d8576b"
                          ],
                          [
                            0.6666666666666666,
                            "#ed7953"
                          ],
                          [
                            0.7777777777777778,
                            "#fb9f3a"
                          ],
                          [
                            0.8888888888888888,
                            "#fdca26"
                          ],
                          [
                            1,
                            "#f0f921"
                          ]
                        ],
                        "type": "histogram2d"
                      }
                    ],
                    "histogram2dcontour": [
                      {
                        "colorbar": {
                          "outlinewidth": 0,
                          "ticks": ""
                        },
                        "colorscale": [
                          [
                            0,
                            "#0d0887"
                          ],
                          [
                            0.1111111111111111,
                            "#46039f"
                          ],
                          [
                            0.2222222222222222,
                            "#7201a8"
                          ],
                          [
                            0.3333333333333333,
                            "#9c179e"
                          ],
                          [
                            0.4444444444444444,
                            "#bd3786"
                          ],
                          [
                            0.5555555555555556,
                            "#d8576b"
                          ],
                          [
                            0.6666666666666666,
                            "#ed7953"
                          ],
                          [
                            0.7777777777777778,
                            "#fb9f3a"
                          ],
                          [
                            0.8888888888888888,
                            "#fdca26"
                          ],
                          [
                            1,
                            "#f0f921"
                          ]
                        ],
                        "type": "histogram2dcontour"
                      }
                    ],
                    "mesh3d": [
                      {
                        "colorbar": {
                          "outlinewidth": 0,
                          "ticks": ""
                        },
                        "type": "mesh3d"
                      }
                    ],
                    "parcoords": [
                      {
                        "line": {
                          "colorbar": {
                            "outlinewidth": 0,
                            "ticks": ""
                          }
                        },
                        "type": "parcoords"
                      }
                    ],
                    "pie": [
                      {
                        "automargin": true,
                        "type": "pie"
                      }
                    ],
                    "scatter": [
                      {
                        "fillpattern": {
                          "fillmode": "overlay",
                          "size": 10,
                          "solidity": 0.2
                        },
                        "type": "scatter"
                      }
                    ],
                    "scatter3d": [
                      {
                        "line": {
                          "colorbar": {
                            "outlinewidth": 0,
                            "ticks": ""
                          }
                        },
                        "marker": {
                          "colorbar": {
                            "outlinewidth": 0,
                            "ticks": ""
                          }
                        },
                        "type": "scatter3d"
                      }
                    ],
                    "scattercarpet": [
                      {
                        "marker": {
                          "colorbar": {
                            "outlinewidth": 0,
                            "ticks": ""
                          }
                        },
                        "type": "scattercarpet"
                      }
                    ],
                    "scattergeo": [
                      {
                        "marker": {
                          "colorbar": {
                            "outlinewidth": 0,
                            "ticks": ""
                          }
                        },
                        "type": "scattergeo"
                      }
                    ],
                    "scattergl": [
                      {
                        "marker": {
                          "colorbar": {
                            "outlinewidth": 0,
                            "ticks": ""
                          }
                        },
                        "type": "scattergl"
                      }
                    ],
                    "scattermap": [
                      {
                        "marker": {
                          "colorbar": {
                            "outlinewidth": 0,
                            "ticks": ""
                          }
                        },
                        "type": "scattermap"
                      }
                    ],
                    "scattermapbox": [
                      {
                        "marker": {
                          "colorbar": {
                            "outlinewidth": 0,
                            "ticks": ""
                          }
                        },
                        "type": "scattermapbox"
                      }
                    ],
                    "scatterpolar": [
                      {
                        "marker": {
                          "colorbar": {
                            "outlinewidth": 0,
                            "ticks": ""
                          }
                        },
                        "type": "scatterpolar"
                      }
                    ],
                    "scatterpolargl": [
                      {
                        "marker": {
                          "colorbar": {
                            "outlinewidth": 0,
                            "ticks": ""
                          }
                        },
                        "type": "scatterpolargl"
                      }
                    ],
                    "scatterternary": [
                      {
                        "marker": {
                          "colorbar": {
                            "outlinewidth": 0,
                            "ticks": ""
                          }
                        },
                        "type": "scatterternary"
                      }
                    ],
                    "surface": [
                      {
                        "colorbar": {
                          "outlinewidth": 0,
                          "ticks": ""
                        },
                        "colorscale": [
                          [
                            0,
                            "#0d0887"
                          ],
                          [
                            0.1111111111111111,
                            "#46039f"
                          ],
                          [
                            0.2222222222222222,
                            "#7201a8"
                          ],
                          [
                            0.3333333333333333,
                            "#9c179e"
                          ],
                          [
                            0.4444444444444444,
                            "#bd3786"
                          ],
                          [
                            0.5555555555555556,
                            "#d8576b"
                          ],
                          [
                            0.6666666666666666,
                            "#ed7953"
                          ],
                          [
                            0.7777777777777778,
                            "#fb9f3a"
                          ],
                          [
                            0.8888888888888888,
                            "#fdca26"
                          ],
                          [
                            1,
                            "#f0f921"
                          ]
                        ],
                        "type": "surface"
                      }
                    ],
                    "table": [
                      {
                        "cells": {
                          "fill": {
                            "color": "#EBF0F8"
                          },
                          "line": {
                            "color": "white"
                          }
                        },
                        "header": {
                          "fill": {
                            "color": "#C8D4E3"
                          },
                          "line": {
                            "color": "white"
                          }
                        },
                        "type": "table"
                      }
                    ]
                  },
                  "layout": {
                    "annotationdefaults": {
                      "arrowcolor": "#2a3f5f",
                      "arrowhead": 0,
                      "arrowwidth": 1
                    },
                    "autotypenumbers": "strict",
                    "coloraxis": {
                      "colorbar": {
                        "outlinewidth": 0,
                        "ticks": ""
                      }
                    },
                    "colorscale": {
                      "diverging": [
                        [
                          0,
                          "#8e0152"
                        ],
                        [
                          0.1,
                          "#c51b7d"
                        ],
                        [
                          0.2,
                          "#de77ae"
                        ],
                        [
                          0.3,
                          "#f1b6da"
                        ],
                        [
                          0.4,
                          "#fde0ef"
                        ],
                        [
                          0.5,
                          "#f7f7f7"
                        ],
                        [
                          0.6,
                          "#e6f5d0"
                        ],
                        [
                          0.7,
                          "#b8e186"
                        ],
                        [
                          0.8,
                          "#7fbc41"
                        ],
                        [
                          0.9,
                          "#4d9221"
                        ],
                        [
                          1,
                          "#276419"
                        ]
                      ],
                      "sequential": [
                        [
                          0,
                          "#0d0887"
                        ],
                        [
                          0.1111111111111111,
                          "#46039f"
                        ],
                        [
                          0.2222222222222222,
                          "#7201a8"
                        ],
                        [
                          0.3333333333333333,
                          "#9c179e"
                        ],
                        [
                          0.4444444444444444,
                          "#bd3786"
                        ],
                        [
                          0.5555555555555556,
                          "#d8576b"
                        ],
                        [
                          0.6666666666666666,
                          "#ed7953"
                        ],
                        [
                          0.7777777777777778,
                          "#fb9f3a"
                        ],
                        [
                          0.8888888888888888,
                          "#fdca26"
                        ],
                        [
                          1,
                          "#f0f921"
                        ]
                      ],
                      "sequentialminus": [
                        [
                          0,
                          "#0d0887"
                        ],
                        [
                          0.1111111111111111,
                          "#46039f"
                        ],
                        [
                          0.2222222222222222,
                          "#7201a8"
                        ],
                        [
                          0.3333333333333333,
                          "#9c179e"
                        ],
                        [
                          0.4444444444444444,
                          "#bd3786"
                        ],
                        [
                          0.5555555555555556,
                          "#d8576b"
                        ],
                        [
                          0.6666666666666666,
                          "#ed7953"
                        ],
                        [
                          0.7777777777777778,
                          "#fb9f3a"
                        ],
                        [
                          0.8888888888888888,
                          "#fdca26"
                        ],
                        [
                          1,
                          "#f0f921"
                        ]
                      ]
                    },
                    "colorway": [
                      "#636efa",
                      "#EF553B",
                      "#00cc96",
                      "#ab63fa",
                      "#FFA15A",
                      "#19d3f3",
                      "#FF6692",
                      "#B6E880",
                      "#FF97FF",
                      "#FECB52"
                    ],
                    "font": {
                      "color": "#2a3f5f"
                    },
                    "geo": {
                      "bgcolor": "white",
                      "lakecolor": "white",
                      "landcolor": "#E5ECF6",
                      "showlakes": true,
                      "showland": true,
                      "subunitcolor": "white"
                    },
                    "hoverlabel": {
                      "align": "left"
                    },
                    "hovermode": "closest",
                    "mapbox": {
                      "style": "light"
                    },
                    "paper_bgcolor": "white",
                    "plot_bgcolor": "#E5ECF6",
                    "polar": {
                      "angularaxis": {
                        "gridcolor": "white",
                        "linecolor": "white",
                        "ticks": ""
                      },
                      "bgcolor": "#E5ECF6",
                      "radialaxis": {
                        "gridcolor": "white",
                        "linecolor": "white",
                        "ticks": ""
                      }
                    },
                    "scene": {
                      "xaxis": {
                        "backgroundcolor": "#E5ECF6",
                        "gridcolor": "white",
                        "gridwidth": 2,
                        "linecolor": "white",
                        "showbackground": true,
                        "ticks": "",
                        "zerolinecolor": "white"
                      },
                      "yaxis": {
                        "backgroundcolor": "#E5ECF6",
                        "gridcolor": "white",
                        "gridwidth": 2,
                        "linecolor": "white",
                        "showbackground": true,
                        "ticks": "",
                        "zerolinecolor": "white"
                      },
                      "zaxis": {
                        "backgroundcolor": "#E5ECF6",
                        "gridcolor": "white",
                        "gridwidth": 2,
                        "linecolor": "white",
                        "showbackground": true,
                        "ticks": "",
                        "zerolinecolor": "white"
                      }
                    },
                    "shapedefaults": {
                      "line": {
                        "color": "#2a3f5f"
                      }
                    },
                    "ternary": {
                      "aaxis": {
                        "gridcolor": "white",
                        "linecolor": "white",
                        "ticks": ""
                      },
                      "baxis": {
                        "gridcolor": "white",
                        "linecolor": "white",
                        "ticks": ""
                      },
                      "bgcolor": "#E5ECF6",
                      "caxis": {
                        "gridcolor": "white",
                        "linecolor": "white",
                        "ticks": ""
                      }
                    },
                    "title": {
                      "x": 0.05
                    },
                    "xaxis": {
                      "automargin": true,
                      "gridcolor": "white",
                      "linecolor": "white",
                      "ticks": "",
                      "title": {
                        "standoff": 15
                      },
                      "zerolinecolor": "white",
                      "zerolinewidth": 2
                    },
                    "yaxis": {
                      "automargin": true,
                      "gridcolor": "white",
                      "linecolor": "white",
                      "ticks": "",
                      "title": {
                        "standoff": 15
                      },
                      "zerolinecolor": "white",
                      "zerolinewidth": 2
                    }
                  }
                },
                "title": {
                  "text": "Average Insurance Charges by Region"
                },
                "xaxis": {
                  "anchor": "y",
                  "domain": [
                    0,
                    1
                  ],
                  "title": {
                    "text": "Region"
                  }
                },
                "yaxis": {
                  "anchor": "x",
                  "domain": [
                    0,
                    1
                  ],
                  "title": {
                    "text": "Average Charges ($)"
                  }
                }
              }
            }
          },
          "metadata": {},
          "output_type": "display_data"
        },
        {
          "name": "stdout",
          "output_type": "stream",
          "text": [
            "\n",
            "Charges by Gender:\n",
            "            mean  count\n",
            "sex                    \n",
            "female  12569.58    662\n",
            "male    13956.75    676\n"
          ]
        }
      ],
      "source": [
        "# Bar chart: Average charges by region\n",
        "region_avg = df.groupby('region')['charges'].mean().reset_index()\n",
        "fig = px.bar(region_avg, x='region', y='charges',\n",
        "             title='Average Insurance Charges by Region',\n",
        "             labels={'region': 'Region', 'charges': 'Average Charges ($)'})\n",
        "fig.show()\n",
        "\n",
        "print(\"\\nRegional charge differences:\")\n",
        "print(region_avg.round(2))"
      ]
    },
    {
      "cell_type": "markdown",
      "metadata": {},
      "source": [
        "## 📊 Key Insights Summary\n",
        "\n",
        "Based on our 3 focused visualizations:"
      ]
    },
    {
      "cell_type": "markdown",
      "metadata": {},
      "source": [
        "## 📊 Data Insights & Conclusions\n",
        "\n",
        "### Hypothesis Testing Results:\n",
        "\n",
        "**H1: Age Effect** ✅ **CONFIRMED**\n",
        "- Insurance charges show clear upward trend with age\n",
        "- Linear relationship supports age-based pricing models\n",
        "\n",
        "**H3: Regional Variations** ✅ **CONFIRMED** \n",
        "- Different regions show distinct average charge levels\n",
        "- Reflects regional healthcare cost differences\n",
        "\n",
        "**H4: Smoking Impact** ✅ **STRONGLY CONFIRMED**\n",
        "- Smokers have dramatically higher charges than non-smokers\n",
        "- Strongest predictor of insurance costs in our analysis\n",
        "\n",
        "### Business Implications:\n",
        "- **Risk Assessment**: Age and smoking status are key risk factors\n",
        "- **Pricing Strategy**: Regional adjustments may be warranted\n",
        "- **Health Programs**: Anti-smoking initiatives could reduce costs"
      ]
    }
  ],
  "metadata": {
    "accelerator": "GPU",
    "colab": {
      "name": "Data Practitioner Jupyter Notebook.ipynb",
      "provenance": [],
      "toc_visible": true
    },
    "kernelspec": {
      "display_name": "Python 3",
      "language": "python",
      "name": "python3"
    },
    "language_info": {
      "codemirror_mode": {
        "name": "ipython",
        "version": 3
      },
      "file_extension": ".py",
      "mimetype": "text/x-python",
      "name": "python",
      "nbconvert_exporter": "python",
      "pygments_lexer": "ipython3",
      "version": "3.12.8"
    },
    "orig_nbformat": 2
  },
  "nbformat": 4,
  "nbformat_minor": 2
}
