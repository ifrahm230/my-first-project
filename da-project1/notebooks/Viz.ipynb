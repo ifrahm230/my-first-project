{
  "cells": [
    {
      "cell_type": "markdown",
      "metadata": {
        "id": "0aStgWSO0E0E"
      },
      "source": [
        "# **(HACKATHON 1 HEALTH INSURANCE)**"
      ]
    },
    {
      "cell_type": "markdown",
      "metadata": {},
      "source": []
    },
    {
      "cell_type": "markdown",
      "metadata": {
        "id": "1eLEkw5O0ECa"
      },
      "source": [
        "## Objectives\n",
        "\n",
        "*  \"Fetch data from Kaggle ( https://www.kaggle.com/datasets/willianoliveiragibin/healthcare-insurance ) and save as raw data\" \n",
        "*  \"Clean and transform data\" \n",
        "*  \"Engineer features for modelling and visualisation\"\n",
        "\n",
        "## Inputs\n",
        "\n",
        "* This dataset contains information on the relationship between personal attributes (age, gender, BMI, family size, smoking habits), geographic factors, and their impact on medical insurance charges.\n",
        "* Raw data: csv.file /1 File/Columns:8, Rows:1339 headers and index included\n",
        "\n",
        "## Outputs\n",
        "\n",
        "* Write here which files, code or artefacts you generate by the end of the notebook \n",
        "\n",
        "## Additional Comments\n",
        "\n",
        "* If you have any additional comments that don't fit in the previous bullets, please state them here. \n",
        "\n"
      ]
    },
    {
      "cell_type": "markdown",
      "metadata": {
        "id": "9uWZXH9LwoQg"
      },
      "source": [
        "---"
      ]
    },
    {
      "cell_type": "markdown",
      "metadata": {},
      "source": [
        "#                                                               DATA CLEANING"
      ]
    },
    {
      "cell_type": "code",
      "execution_count": null,
      "metadata": {},
      "outputs": [],
      "source": [
        "import pandas as pd\n",
        "import numpy as np\n",
        "import matplotlib.pyplot as plt\n",
        "import seaborn as sns\n"
      ]
    },
    {
      "cell_type": "code",
      "execution_count": null,
      "metadata": {},
      "outputs": [],
      "source": [
        "df = pd.read_csv(r'C:\\\\Users\\lilia\\Documents\\LP\\Data AI\\Hackathons\\H1_HealtInsurance\\H1_HealthInsurance\\data\\inputs\\raw\\insurance.csv.csv')"
      ]
    },
    {
      "cell_type": "markdown",
      "metadata": {},
      "source": [
        "#Check data type: object, float, etc & View a summary of the data frame "
      ]
    },
    {
      "cell_type": "code",
      "execution_count": null,
      "metadata": {},
      "outputs": [],
      "source": [
        "\n",
        "df.info()  \n",
        "df.describe() \n"
      ]
    },
    {
      "cell_type": "markdown",
      "metadata": {},
      "source": [
        "#Sample of first few rows"
      ]
    },
    {
      "cell_type": "code",
      "execution_count": null,
      "metadata": {},
      "outputs": [],
      "source": [
        "df.head(10)"
      ]
    },
    {
      "cell_type": "markdown",
      "metadata": {},
      "source": [
        "#Count of missing values per column"
      ]
    },
    {
      "cell_type": "code",
      "execution_count": null,
      "metadata": {},
      "outputs": [],
      "source": [
        "df.isnull().sum()"
      ]
    },
    {
      "cell_type": "markdown",
      "metadata": {},
      "source": [
        "#Round values for bmi and charges to 2 decimal numbers"
      ]
    },
    {
      "cell_type": "code",
      "execution_count": null,
      "metadata": {},
      "outputs": [],
      "source": [
        "df['bmi'] = df['bmi'].round(2)\n",
        "df['charges'] = df['charges'].round(2)"
      ]
    },
    {
      "cell_type": "code",
      "execution_count": null,
      "metadata": {},
      "outputs": [],
      "source": [
        "df.head(10)"
      ]
    },
    {
      "cell_type": "markdown",
      "metadata": {},
      "source": [
        "# Save Cleaned Data"
      ]
    },
    {
      "cell_type": "code",
      "execution_count": null,
      "metadata": {},
      "outputs": [],
      "source": [
        "df.to_csv('cleaned_healthcare_insurance.csv', index=False)\n"
      ]
    },
    {
      "cell_type": "code",
      "execution_count": null,
      "metadata": {},
      "outputs": [],
      "source": []
    },
    {
      "cell_type": "code",
      "execution_count": null,
      "metadata": {},
      "outputs": [],
      "source": [
        "import pandas as pd\n",
        "import numpy as np"
      ]
    },
    {
      "cell_type": "code",
      "execution_count": null,
      "metadata": {},
      "outputs": [],
      "source": [
        "df_cleaned = pd.read_csv('cleaned_healthcare_insurance.csv')\n"
      ]
    },
    {
      "cell_type": "code",
      "execution_count": null,
      "metadata": {},
      "outputs": [],
      "source": [
        "df_cleaned.head(10)"
      ]
    },
    {
      "cell_type": "markdown",
      "metadata": {},
      "source": [
        "# DATA VISUALISATION"
      ]
    },
    {
      "cell_type": "code",
      "execution_count": null,
      "metadata": {},
      "outputs": [],
      "source": [
        "import plotly.express as px\n",
        "import plotly.graph_objects as go\n",
        "\n"
      ]
    },
    {
      "cell_type": "markdown",
      "metadata": {},
      "source": [
        "#Descriptive visualisation"
      ]
    },
    {
      "cell_type": "code",
      "execution_count": null,
      "metadata": {},
      "outputs": [],
      "source": [
        "\n",
        "avg_charges_by_age = df_cleaned.groupby('age', as_index=False)['charges'].mean()\n",
        "fig = px.line(avg_charges_by_age, x='age', y='charges',\n",
        "              title='Average Insurance Charges by Age',\n",
        "              labels={'charges': 'Avg Charges ($)', 'age': 'Age'})\n",
        "fig.show()\n"
      ]
    },
    {
      "cell_type": "code",
      "execution_count": null,
      "metadata": {},
      "outputs": [],
      "source": [
        "import pandas as pd\n",
        "import plotly.graph_objects as go\n",
        "from plotly.subplots import make_subplots\n",
        "\n",
        "# Load dataset (adjust path as needed)\n",
        "df_cleaned = pd.read_csv('cleaned_healthcare_insurance.csv')\n",
        "\n",
        "# Precompute averages\n",
        "avg_charges_by_age = df_cleaned.groupby('age', as_index=False)['charges'].mean()\n",
        "avg_charges_by_gender = df_cleaned.groupby('sex', as_index=False)['charges'].mean()\n",
        "avg_charges_by_region = df_cleaned.groupby('region', as_index=False)['charges'].mean()\n",
        "\n",
        "# Create subplot figure with 1 row and 3 columns\n",
        "fig = make_subplots(rows=1, cols=3, subplot_titles=[\n",
        "    \"Avg Charges by Age\",\n",
        "    \"Avg Charges by Gender\",\n",
        "    \"Avg Charges by Region\"\n",
        "])\n",
        "\n",
        "# Add line chart (age)\n",
        "fig.add_trace(\n",
        "    go.Scatter(x=avg_charges_by_age['age'], y=avg_charges_by_age['charges'],\n",
        "               mode='lines+markers', name='Age'),\n",
        "    row=1, col=1\n",
        ")\n",
        "\n",
        "# Add bar chart (gender)\n",
        "fig.add_trace(\n",
        "    go.Bar(x=avg_charges_by_gender['sex'], y=avg_charges_by_gender['charges'], name='Gender'),\n",
        "    row=1, col=2\n",
        ")\n",
        "\n",
        "# Add bar chart (region)\n",
        "fig.add_trace(\n",
        "    go.Bar(x=avg_charges_by_region['region'], y=avg_charges_by_region['charges'], name='Region'),\n",
        "    row=1, col=3\n",
        ")\n",
        "\n",
        "# Update layout\n",
        "fig.update_layout(height=400, width=1200, title_text=\"Descriptive Statistics: Insurance Charges\")\n",
        "fig.update_yaxes(title_text=\"Avg Charges (£)\", row=1, col=1)\n",
        "fig.update_yaxes(title_text=\"Avg Charges (£)\", row=1, col=2)\n",
        "fig.update_yaxes(title_text=\"Avg Charges (£)\", row=1, col=3)\n",
        "fig.show()\n"
      ]
    },
    {
      "cell_type": "markdown",
      "metadata": {},
      "source": [
        "#Correlation Analysis"
      ]
    },
    {
      "cell_type": "code",
      "execution_count": null,
      "metadata": {},
      "outputs": [],
      "source": [
        "corr_matrix = df_cleaned.corr(numeric_only=True)\n",
        "fig = px.imshow(corr_matrix, text_auto=True,\n",
        "                title='Correlation Heatmap of Features (Including Charges)',\n",
        "                color_continuous_scale='RdBu', zmin=-1, zmax=1)\n",
        "fig.show()\n"
      ]
    },
    {
      "cell_type": "code",
      "execution_count": null,
      "metadata": {},
      "outputs": [],
      "source": [
        "# correlation with charges\n",
        "\n",
        "import pandas as pd\n",
        "import plotly.express as px\n",
        "\n",
        "# Load your dataset\n",
        "df_cleaned = pd.read_csv('cleaned_healthcare_insurance.csv')\n",
        "\n",
        "# Calculate correlation matrix\n",
        "corr_matrix = df_cleaned.corr(numeric_only=True).round(2)\n",
        "\n",
        "# Optional: Sort by correlation with 'charges'\n",
        "corr_sorted = corr_matrix[['charges']].sort_values(by='charges', ascending=False)\n",
        "\n",
        "# Display only top correlations with charges\n",
        "print(\"Correlations with charges:\\n\", corr_sorted)\n",
        "\n",
        "# Full heatmap\n",
        "fig = px.imshow(\n",
        "    corr_matrix,\n",
        "    text_auto=True,\n",
        "    color_continuous_scale='RdBu_r',\n",
        "    zmin=-1, zmax=1,\n",
        "    title='Correlation Matrix (Including Insurance Charges)'\n",
        ")\n",
        "\n",
        "fig.update_layout(\n",
        "    autosize=False,\n",
        "    width=700,\n",
        "    height=600,\n",
        "    margin=dict(l=40, r=40, t=50, b=40)\n",
        ")\n",
        "\n",
        "fig.show()"
      ]
    },
    {
      "cell_type": "markdown",
      "metadata": {},
      "source": [
        "#Grouped Predictive Analysis Chart"
      ]
    },
    {
      "cell_type": "code",
      "execution_count": null,
      "metadata": {},
      "outputs": [],
      "source": [
        "%pip install statsmodels\n",
        "\n",
        "import pandas as pd\n",
        "import plotly.express as px\n",
        "import plotly.graph_objects as go\n",
        "from plotly.subplots import make_subplots\n",
        "import statsmodels.api as sm\n",
        "\n",
        "\n",
        "# Load dataset\n",
        "df_cleaned = pd.read_csv('cleaned_healthcare_insurance.csv')\n",
        "\n",
        "# Create subplots: 1 row, 3 columns\n",
        "fig = make_subplots(rows=1, cols=3, subplot_titles=[\n",
        "    'Charges vs Age (Smoker)',\n",
        "    'Charges vs BMI (Gender)',\n",
        "    'Charges vs Children'\n",
        "])\n",
        "\n",
        "# --- Charges vs Age (with smoker) ---\n",
        "scatter1 = px.scatter(df_cleaned, x='age', y='charges', color='smoker', trendline='ols')\n",
        "for trace in scatter1.data:\n",
        "    fig.add_trace(trace, row=1, col=1)\n",
        "\n",
        "# --- Charges vs BMI (with gender) ---\n",
        "scatter2 = px.scatter(df_cleaned, x='bmi', y='charges', color='sex', trendline='ols')\n",
        "for trace in scatter2.data:\n",
        "    fig.add_trace(trace, row=1, col=2)\n",
        "\n",
        "# --- Charges vs Number of Children ---\n",
        "scatter3 = px.scatter(df_cleaned, x='children', y='charges', color='smoker', trendline='ols')\n",
        "for trace in scatter3.data:\n",
        "    fig.add_trace(trace, row=1, col=3)\n",
        "\n",
        "# Layout\n",
        "fig.update_layout(height=500, width=1300, title_text=\"Predictive Analysis: Estimating Insurance Charges\")\n",
        "fig.update_yaxes(title_text=\"Charges ($)\", row=1, col=1)\n",
        "fig.update_xaxes(title_text=\"Age\", row=1, col=1)\n",
        "fig.update_xaxes(title_text=\"BMI\", row=1, col=2);\n",
        "fig.update_xaxes(title_text=\"Children\", row=1, col=3);\n",
        "fig.show()\n"
      ]
    },
    {
      "cell_type": "markdown",
      "metadata": {
        "id": "cqP-UeN-z3i2"
      },
      "source": [
        "# Change working directory"
      ]
    },
    {
      "cell_type": "markdown",
      "metadata": {},
      "source": [
        "* We are assuming you will store the notebooks in a subfolder, therefore when running the notebook in the editor, you will need to change the working directory"
      ]
    },
    {
      "cell_type": "markdown",
      "metadata": {
        "id": "aOGIGS-uz3i2"
      },
      "source": [
        "We need to change the working directory from its current folder to its parent folder\n",
        "* We access the current directory with os.getcwd()"
      ]
    },
    {
      "cell_type": "code",
      "execution_count": null,
      "metadata": {
        "id": "wZfF_j-Bz3i4",
        "outputId": "66943449-1436-4c3d-85c7-b85f9f78349b"
      },
      "outputs": [],
      "source": [
        "import os\n",
        "current_dir = os.getcwd()\n",
        "current_dir"
      ]
    },
    {
      "cell_type": "markdown",
      "metadata": {
        "id": "9MWW8E7lz3i7"
      },
      "source": [
        "We want to make the parent of the current directory the new current directory\n",
        "* os.path.dirname() gets the parent directory\n",
        "* os.chir() defines the new current directory"
      ]
    },
    {
      "cell_type": "code",
      "execution_count": null,
      "metadata": {
        "id": "TwHsQRWjz3i9",
        "outputId": "86849db3-cd2f-4cc5-ebb8-2d0caafa1a2c"
      },
      "outputs": [],
      "source": [
        "os.chdir(os.path.dirname(current_dir))\n",
        "print(\"You set a new current directory\")"
      ]
    },
    {
      "cell_type": "markdown",
      "metadata": {
        "id": "M_xPk_Ijz3i-"
      },
      "source": [
        "Confirm the new current directory"
      ]
    },
    {
      "cell_type": "code",
      "execution_count": null,
      "metadata": {
        "id": "vz3S-_kjz3jA",
        "outputId": "00b79ae4-75d0-4a96-d193-ac9ef9847ea2"
      },
      "outputs": [],
      "source": [
        "current_dir = os.getcwd()\n",
        "current_dir"
      ]
    },
    {
      "cell_type": "markdown",
      "metadata": {
        "id": "-mavJ8DibrcQ"
      },
      "source": [
        "# Section 1"
      ]
    },
    {
      "cell_type": "markdown",
      "metadata": {},
      "source": [
        "Section 1 content"
      ]
    },
    {
      "cell_type": "code",
      "execution_count": null,
      "metadata": {},
      "outputs": [],
      "source": []
    },
    {
      "cell_type": "markdown",
      "metadata": {
        "id": "ZY3l0-AxO93d"
      },
      "source": [
        "---"
      ]
    },
    {
      "cell_type": "markdown",
      "metadata": {
        "id": "uFQo3ycuO-v6"
      },
      "source": [
        "# Section 2"
      ]
    },
    {
      "cell_type": "markdown",
      "metadata": {},
      "source": [
        "Section 2 content"
      ]
    },
    {
      "cell_type": "code",
      "execution_count": null,
      "metadata": {},
      "outputs": [],
      "source": []
    },
    {
      "cell_type": "markdown",
      "metadata": {},
      "source": [
        "---"
      ]
    },
    {
      "cell_type": "markdown",
      "metadata": {},
      "source": [
        "NOTE"
      ]
    },
    {
      "cell_type": "markdown",
      "metadata": {},
      "source": [
        "* You may add as many sections as you want, as long as it supports your project workflow.\n",
        "* All notebook's cells should be run top-down (you can't create a dynamic wherein a given point you need to go back to a previous cell to execute some task, like go back to a previous cell and refresh a variable content)"
      ]
    },
    {
      "cell_type": "markdown",
      "metadata": {},
      "source": [
        "---"
      ]
    },
    {
      "cell_type": "markdown",
      "metadata": {
        "id": "ltNetd085qHf"
      },
      "source": [
        "# Push files to Repo"
      ]
    },
    {
      "cell_type": "markdown",
      "metadata": {},
      "source": [
        "* In cases where you don't need to push files to Repo, you may replace this section with \"Conclusions and Next Steps\" and state your conclusions and next steps."
      ]
    },
    {
      "cell_type": "code",
      "execution_count": null,
      "metadata": {
        "id": "aKlnIozA4eQO",
        "outputId": "fd09bc1f-adb1-4511-f6ce-492a6af570c0"
      },
      "outputs": [],
      "source": [
        "import os\n",
        "try:\n",
        "  # create your folder here\n",
        "  # os.makedirs(name='')\n",
        "except Exception as e:\n",
        "  print(e)\n"
      ]
    }
  ],
  "metadata": {
    "accelerator": "GPU",
    "colab": {
      "name": "Data Practitioner Jupyter Notebook.ipynb",
      "provenance": [],
      "toc_visible": true
    },
    "kernelspec": {
      "display_name": ".venv",
      "language": "python",
      "name": "python3"
    },
    "language_info": {
      "codemirror_mode": {
        "name": "ipython",
        "version": 3
      },
      "file_extension": ".py",
      "mimetype": "text/x-python",
      "name": "python",
      "nbconvert_exporter": "python",
      "pygments_lexer": "ipython3",
      "version": "3.12.8"
    },
    "orig_nbformat": 2
  },
  "nbformat": 4,
  "nbformat_minor": 2
}
