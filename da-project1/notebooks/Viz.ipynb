{
  "cells": [
    {
      "cell_type": "markdown",
      "metadata": {
        "id": "0aStgWSO0E0E"
      },
      "source": [
        "# HACKATHON 1 HEALTH INSURANCE-Visualisations"
      ]
    },
    {
      "cell_type": "markdown",
      "metadata": {},
      "source": [
        "This notebook explores the cleaned insurance datasetwith simple visualisations to highlight relationships between key factors and insurance charges. "
      ]
    },
    {
      "cell_type": "markdown",
      "metadata": {
        "id": "1eLEkw5O0ECa"
      },
      "source": [
        "## Objectives\n",
        "- Load the **cleaned insurance dataset**\n",
        "- Visualise key distributions and relationships that effect **charges**\n",
        "- Note 1-2 insights per chart to support the analysis. \n",
        "* \"Engineer features for modelling and visualisation.\"\n",
        "\n",
        "\n",
        "## Inputs\n",
        "- Files:'cleaned_healthcare_insurance.csv'\n",
        "- Expected columns : 'age', 'sex', 'BMI', 'Children', 'Smoker', 'region', 'charges'\n",
        "- Notes:\"This file is the cleaned output from 'etl.ipynb' and is the only dataset used in this notebook.\" \n",
        "\n"
      ]
    },
    {
      "cell_type": "code",
      "execution_count": 2,
      "metadata": {},
      "outputs": [],
      "source": [
        "import pandas as pd \n",
        "import matplotlib.pyplot as plt\n",
        "import seaborn as sns"
      ]
    },
    {
      "cell_type": "code",
      "execution_count": 3,
      "metadata": {},
      "outputs": [
        {
          "data": {
            "text/html": [
              "<div>\n",
              "<style scoped>\n",
              "    .dataframe tbody tr th:only-of-type {\n",
              "        vertical-align: middle;\n",
              "    }\n",
              "\n",
              "    .dataframe tbody tr th {\n",
              "        vertical-align: top;\n",
              "    }\n",
              "\n",
              "    .dataframe thead th {\n",
              "        text-align: right;\n",
              "    }\n",
              "</style>\n",
              "<table border=\"1\" class=\"dataframe\">\n",
              "  <thead>\n",
              "    <tr style=\"text-align: right;\">\n",
              "      <th></th>\n",
              "      <th>age</th>\n",
              "      <th>sex</th>\n",
              "      <th>bmi</th>\n",
              "      <th>children</th>\n",
              "      <th>smoker</th>\n",
              "      <th>region</th>\n",
              "      <th>charges</th>\n",
              "    </tr>\n",
              "  </thead>\n",
              "  <tbody>\n",
              "    <tr>\n",
              "      <th>0</th>\n",
              "      <td>19</td>\n",
              "      <td>female</td>\n",
              "      <td>27.90</td>\n",
              "      <td>0</td>\n",
              "      <td>yes</td>\n",
              "      <td>southwest</td>\n",
              "      <td>16884.92</td>\n",
              "    </tr>\n",
              "    <tr>\n",
              "      <th>1</th>\n",
              "      <td>18</td>\n",
              "      <td>male</td>\n",
              "      <td>33.77</td>\n",
              "      <td>1</td>\n",
              "      <td>no</td>\n",
              "      <td>southeast</td>\n",
              "      <td>1725.55</td>\n",
              "    </tr>\n",
              "    <tr>\n",
              "      <th>2</th>\n",
              "      <td>28</td>\n",
              "      <td>male</td>\n",
              "      <td>33.00</td>\n",
              "      <td>3</td>\n",
              "      <td>no</td>\n",
              "      <td>southeast</td>\n",
              "      <td>4449.46</td>\n",
              "    </tr>\n",
              "    <tr>\n",
              "      <th>3</th>\n",
              "      <td>33</td>\n",
              "      <td>male</td>\n",
              "      <td>22.70</td>\n",
              "      <td>0</td>\n",
              "      <td>no</td>\n",
              "      <td>northwest</td>\n",
              "      <td>21984.47</td>\n",
              "    </tr>\n",
              "    <tr>\n",
              "      <th>4</th>\n",
              "      <td>32</td>\n",
              "      <td>male</td>\n",
              "      <td>28.88</td>\n",
              "      <td>0</td>\n",
              "      <td>no</td>\n",
              "      <td>northwest</td>\n",
              "      <td>3866.86</td>\n",
              "    </tr>\n",
              "  </tbody>\n",
              "</table>\n",
              "</div>"
            ],
            "text/plain": [
              "   age     sex    bmi  children smoker     region   charges\n",
              "0   19  female  27.90         0    yes  southwest  16884.92\n",
              "1   18    male  33.77         1     no  southeast   1725.55\n",
              "2   28    male  33.00         3     no  southeast   4449.46\n",
              "3   33    male  22.70         0     no  northwest  21984.47\n",
              "4   32    male  28.88         0     no  northwest   3866.86"
            ]
          },
          "execution_count": 3,
          "metadata": {},
          "output_type": "execute_result"
        }
      ],
      "source": [
        "# Load the cleaned dataset \n",
        "df= pd.read_csv('cleaned_healthcare_insurance.csv')\n",
        "df.head()\n",
        "\n",
        "\n",
        "\n",
        "\n",
        "\n"
      ]
    },
    {
      "cell_type": "markdown",
      "metadata": {
        "id": "9uWZXH9LwoQg"
      },
      "source": [
        "---"
      ]
    },
    {
      "cell_type": "markdown",
      "metadata": {},
      "source": [
        "# DATA VISUALISATION"
      ]
    },
    {
      "cell_type": "code",
      "execution_count": 4,
      "metadata": {},
      "outputs": [],
      "source": [
        "import plotly.express as px\n",
        "import plotly.graph_objects as go\n",
        "\n"
      ]
    },
    {
      "cell_type": "markdown",
      "metadata": {},
      "source": [
        "#Descriptive visualisation"
      ]
    },
    {
      "cell_type": "code",
      "execution_count": 5,
      "metadata": {},
      "outputs": [
        {
          "data": {
            "application/vnd.plotly.v1+json": {
              "config": {
                "plotlyServerURL": "https://plot.ly"
              },
              "data": [
                {
                  "hovertemplate": "Age=%{x}<br>Avg Charges ($)=%{y}<extra></extra>",
                  "legendgroup": "",
                  "line": {
                    "color": "#636efa",
                    "dash": "solid"
                  },
                  "marker": {
                    "symbol": "circle"
                  },
                  "mode": "lines",
                  "name": "",
                  "orientation": "v",
                  "showlegend": false,
                  "type": "scatter",
                  "x": {
                    "bdata": "EhMUFRYXGBkaGxwdHh8gISIjJCUmJygpKissLS4vMDEyMzQ1Njc4OTo7PD0+P0A=",
                    "dtype": "i1"
                  },
                  "xaxis": "x",
                  "y": {
                    "bdata": "ucryzDeuu0CWL8li9AnDQPzbzVXZ18NA99kFxHZ6skA15Nxnd47DQM59dgHpQchAnfvsAgLMxECF61G4LjfDQPvsAmLT9bdAYlNpyFnMx0AAAAAAmLbBQF5jvm4UX8RAOY7jOI7XyEC68oBkferDQCcDzFkmAsJA8JCoIsQfyEBxsKCkw67GQFH8GHOXFcZASS7/IT3Wx0DChqdX+pjRQJf/kH67pr9AMnctIR8Bx0BBkYswIP7GQDtMXW7f2sJAqcAs7oSCyUBoOmLf0dDSQK8QHNKy+c5AZloAgxn3zECH97ebSwPMQGZgs/R/PdFAAAAAAECUzECT1fLGAMzIQG2csWWAl85AC1p9qSChzkCtxAdCEdTRQBZf8RV3Ss9AwJPV8qJR0kApXI/CRZLPQPcOiSrCWM1AUdLx6csP0EBYObTIdhvLQCbChqf3c9JAinUI09p21UBqLeZFHYLVQDPyIMr2ttJALyuh6j9r00CnH2r64brWQA==",
                    "dtype": "f8"
                  },
                  "yaxis": "y"
                }
              ],
              "layout": {
                "legend": {
                  "tracegroupgap": 0
                },
                "template": {
                  "data": {
                    "bar": [
                      {
                        "error_x": {
                          "color": "#2a3f5f"
                        },
                        "error_y": {
                          "color": "#2a3f5f"
                        },
                        "marker": {
                          "line": {
                            "color": "#E5ECF6",
                            "width": 0.5
                          },
                          "pattern": {
                            "fillmode": "overlay",
                            "size": 10,
                            "solidity": 0.2
                          }
                        },
                        "type": "bar"
                      }
                    ],
                    "barpolar": [
                      {
                        "marker": {
                          "line": {
                            "color": "#E5ECF6",
                            "width": 0.5
                          },
                          "pattern": {
                            "fillmode": "overlay",
                            "size": 10,
                            "solidity": 0.2
                          }
                        },
                        "type": "barpolar"
                      }
                    ],
                    "carpet": [
                      {
                        "aaxis": {
                          "endlinecolor": "#2a3f5f",
                          "gridcolor": "white",
                          "linecolor": "white",
                          "minorgridcolor": "white",
                          "startlinecolor": "#2a3f5f"
                        },
                        "baxis": {
                          "endlinecolor": "#2a3f5f",
                          "gridcolor": "white",
                          "linecolor": "white",
                          "minorgridcolor": "white",
                          "startlinecolor": "#2a3f5f"
                        },
                        "type": "carpet"
                      }
                    ],
                    "choropleth": [
                      {
                        "colorbar": {
                          "outlinewidth": 0,
                          "ticks": ""
                        },
                        "type": "choropleth"
                      }
                    ],
                    "contour": [
                      {
                        "colorbar": {
                          "outlinewidth": 0,
                          "ticks": ""
                        },
                        "colorscale": [
                          [
                            0,
                            "#0d0887"
                          ],
                          [
                            0.1111111111111111,
                            "#46039f"
                          ],
                          [
                            0.2222222222222222,
                            "#7201a8"
                          ],
                          [
                            0.3333333333333333,
                            "#9c179e"
                          ],
                          [
                            0.4444444444444444,
                            "#bd3786"
                          ],
                          [
                            0.5555555555555556,
                            "#d8576b"
                          ],
                          [
                            0.6666666666666666,
                            "#ed7953"
                          ],
                          [
                            0.7777777777777778,
                            "#fb9f3a"
                          ],
                          [
                            0.8888888888888888,
                            "#fdca26"
                          ],
                          [
                            1,
                            "#f0f921"
                          ]
                        ],
                        "type": "contour"
                      }
                    ],
                    "contourcarpet": [
                      {
                        "colorbar": {
                          "outlinewidth": 0,
                          "ticks": ""
                        },
                        "type": "contourcarpet"
                      }
                    ],
                    "heatmap": [
                      {
                        "colorbar": {
                          "outlinewidth": 0,
                          "ticks": ""
                        },
                        "colorscale": [
                          [
                            0,
                            "#0d0887"
                          ],
                          [
                            0.1111111111111111,
                            "#46039f"
                          ],
                          [
                            0.2222222222222222,
                            "#7201a8"
                          ],
                          [
                            0.3333333333333333,
                            "#9c179e"
                          ],
                          [
                            0.4444444444444444,
                            "#bd3786"
                          ],
                          [
                            0.5555555555555556,
                            "#d8576b"
                          ],
                          [
                            0.6666666666666666,
                            "#ed7953"
                          ],
                          [
                            0.7777777777777778,
                            "#fb9f3a"
                          ],
                          [
                            0.8888888888888888,
                            "#fdca26"
                          ],
                          [
                            1,
                            "#f0f921"
                          ]
                        ],
                        "type": "heatmap"
                      }
                    ],
                    "histogram": [
                      {
                        "marker": {
                          "pattern": {
                            "fillmode": "overlay",
                            "size": 10,
                            "solidity": 0.2
                          }
                        },
                        "type": "histogram"
                      }
                    ],
                    "histogram2d": [
                      {
                        "colorbar": {
                          "outlinewidth": 0,
                          "ticks": ""
                        },
                        "colorscale": [
                          [
                            0,
                            "#0d0887"
                          ],
                          [
                            0.1111111111111111,
                            "#46039f"
                          ],
                          [
                            0.2222222222222222,
                            "#7201a8"
                          ],
                          [
                            0.3333333333333333,
                            "#9c179e"
                          ],
                          [
                            0.4444444444444444,
                            "#bd3786"
                          ],
                          [
                            0.5555555555555556,
                            "#d8576b"
                          ],
                          [
                            0.6666666666666666,
                            "#ed7953"
                          ],
                          [
                            0.7777777777777778,
                            "#fb9f3a"
                          ],
                          [
                            0.8888888888888888,
                            "#fdca26"
                          ],
                          [
                            1,
                            "#f0f921"
                          ]
                        ],
                        "type": "histogram2d"
                      }
                    ],
                    "histogram2dcontour": [
                      {
                        "colorbar": {
                          "outlinewidth": 0,
                          "ticks": ""
                        },
                        "colorscale": [
                          [
                            0,
                            "#0d0887"
                          ],
                          [
                            0.1111111111111111,
                            "#46039f"
                          ],
                          [
                            0.2222222222222222,
                            "#7201a8"
                          ],
                          [
                            0.3333333333333333,
                            "#9c179e"
                          ],
                          [
                            0.4444444444444444,
                            "#bd3786"
                          ],
                          [
                            0.5555555555555556,
                            "#d8576b"
                          ],
                          [
                            0.6666666666666666,
                            "#ed7953"
                          ],
                          [
                            0.7777777777777778,
                            "#fb9f3a"
                          ],
                          [
                            0.8888888888888888,
                            "#fdca26"
                          ],
                          [
                            1,
                            "#f0f921"
                          ]
                        ],
                        "type": "histogram2dcontour"
                      }
                    ],
                    "mesh3d": [
                      {
                        "colorbar": {
                          "outlinewidth": 0,
                          "ticks": ""
                        },
                        "type": "mesh3d"
                      }
                    ],
                    "parcoords": [
                      {
                        "line": {
                          "colorbar": {
                            "outlinewidth": 0,
                            "ticks": ""
                          }
                        },
                        "type": "parcoords"
                      }
                    ],
                    "pie": [
                      {
                        "automargin": true,
                        "type": "pie"
                      }
                    ],
                    "scatter": [
                      {
                        "fillpattern": {
                          "fillmode": "overlay",
                          "size": 10,
                          "solidity": 0.2
                        },
                        "type": "scatter"
                      }
                    ],
                    "scatter3d": [
                      {
                        "line": {
                          "colorbar": {
                            "outlinewidth": 0,
                            "ticks": ""
                          }
                        },
                        "marker": {
                          "colorbar": {
                            "outlinewidth": 0,
                            "ticks": ""
                          }
                        },
                        "type": "scatter3d"
                      }
                    ],
                    "scattercarpet": [
                      {
                        "marker": {
                          "colorbar": {
                            "outlinewidth": 0,
                            "ticks": ""
                          }
                        },
                        "type": "scattercarpet"
                      }
                    ],
                    "scattergeo": [
                      {
                        "marker": {
                          "colorbar": {
                            "outlinewidth": 0,
                            "ticks": ""
                          }
                        },
                        "type": "scattergeo"
                      }
                    ],
                    "scattergl": [
                      {
                        "marker": {
                          "colorbar": {
                            "outlinewidth": 0,
                            "ticks": ""
                          }
                        },
                        "type": "scattergl"
                      }
                    ],
                    "scattermap": [
                      {
                        "marker": {
                          "colorbar": {
                            "outlinewidth": 0,
                            "ticks": ""
                          }
                        },
                        "type": "scattermap"
                      }
                    ],
                    "scattermapbox": [
                      {
                        "marker": {
                          "colorbar": {
                            "outlinewidth": 0,
                            "ticks": ""
                          }
                        },
                        "type": "scattermapbox"
                      }
                    ],
                    "scatterpolar": [
                      {
                        "marker": {
                          "colorbar": {
                            "outlinewidth": 0,
                            "ticks": ""
                          }
                        },
                        "type": "scatterpolar"
                      }
                    ],
                    "scatterpolargl": [
                      {
                        "marker": {
                          "colorbar": {
                            "outlinewidth": 0,
                            "ticks": ""
                          }
                        },
                        "type": "scatterpolargl"
                      }
                    ],
                    "scatterternary": [
                      {
                        "marker": {
                          "colorbar": {
                            "outlinewidth": 0,
                            "ticks": ""
                          }
                        },
                        "type": "scatterternary"
                      }
                    ],
                    "surface": [
                      {
                        "colorbar": {
                          "outlinewidth": 0,
                          "ticks": ""
                        },
                        "colorscale": [
                          [
                            0,
                            "#0d0887"
                          ],
                          [
                            0.1111111111111111,
                            "#46039f"
                          ],
                          [
                            0.2222222222222222,
                            "#7201a8"
                          ],
                          [
                            0.3333333333333333,
                            "#9c179e"
                          ],
                          [
                            0.4444444444444444,
                            "#bd3786"
                          ],
                          [
                            0.5555555555555556,
                            "#d8576b"
                          ],
                          [
                            0.6666666666666666,
                            "#ed7953"
                          ],
                          [
                            0.7777777777777778,
                            "#fb9f3a"
                          ],
                          [
                            0.8888888888888888,
                            "#fdca26"
                          ],
                          [
                            1,
                            "#f0f921"
                          ]
                        ],
                        "type": "surface"
                      }
                    ],
                    "table": [
                      {
                        "cells": {
                          "fill": {
                            "color": "#EBF0F8"
                          },
                          "line": {
                            "color": "white"
                          }
                        },
                        "header": {
                          "fill": {
                            "color": "#C8D4E3"
                          },
                          "line": {
                            "color": "white"
                          }
                        },
                        "type": "table"
                      }
                    ]
                  },
                  "layout": {
                    "annotationdefaults": {
                      "arrowcolor": "#2a3f5f",
                      "arrowhead": 0,
                      "arrowwidth": 1
                    },
                    "autotypenumbers": "strict",
                    "coloraxis": {
                      "colorbar": {
                        "outlinewidth": 0,
                        "ticks": ""
                      }
                    },
                    "colorscale": {
                      "diverging": [
                        [
                          0,
                          "#8e0152"
                        ],
                        [
                          0.1,
                          "#c51b7d"
                        ],
                        [
                          0.2,
                          "#de77ae"
                        ],
                        [
                          0.3,
                          "#f1b6da"
                        ],
                        [
                          0.4,
                          "#fde0ef"
                        ],
                        [
                          0.5,
                          "#f7f7f7"
                        ],
                        [
                          0.6,
                          "#e6f5d0"
                        ],
                        [
                          0.7,
                          "#b8e186"
                        ],
                        [
                          0.8,
                          "#7fbc41"
                        ],
                        [
                          0.9,
                          "#4d9221"
                        ],
                        [
                          1,
                          "#276419"
                        ]
                      ],
                      "sequential": [
                        [
                          0,
                          "#0d0887"
                        ],
                        [
                          0.1111111111111111,
                          "#46039f"
                        ],
                        [
                          0.2222222222222222,
                          "#7201a8"
                        ],
                        [
                          0.3333333333333333,
                          "#9c179e"
                        ],
                        [
                          0.4444444444444444,
                          "#bd3786"
                        ],
                        [
                          0.5555555555555556,
                          "#d8576b"
                        ],
                        [
                          0.6666666666666666,
                          "#ed7953"
                        ],
                        [
                          0.7777777777777778,
                          "#fb9f3a"
                        ],
                        [
                          0.8888888888888888,
                          "#fdca26"
                        ],
                        [
                          1,
                          "#f0f921"
                        ]
                      ],
                      "sequentialminus": [
                        [
                          0,
                          "#0d0887"
                        ],
                        [
                          0.1111111111111111,
                          "#46039f"
                        ],
                        [
                          0.2222222222222222,
                          "#7201a8"
                        ],
                        [
                          0.3333333333333333,
                          "#9c179e"
                        ],
                        [
                          0.4444444444444444,
                          "#bd3786"
                        ],
                        [
                          0.5555555555555556,
                          "#d8576b"
                        ],
                        [
                          0.6666666666666666,
                          "#ed7953"
                        ],
                        [
                          0.7777777777777778,
                          "#fb9f3a"
                        ],
                        [
                          0.8888888888888888,
                          "#fdca26"
                        ],
                        [
                          1,
                          "#f0f921"
                        ]
                      ]
                    },
                    "colorway": [
                      "#636efa",
                      "#EF553B",
                      "#00cc96",
                      "#ab63fa",
                      "#FFA15A",
                      "#19d3f3",
                      "#FF6692",
                      "#B6E880",
                      "#FF97FF",
                      "#FECB52"
                    ],
                    "font": {
                      "color": "#2a3f5f"
                    },
                    "geo": {
                      "bgcolor": "white",
                      "lakecolor": "white",
                      "landcolor": "#E5ECF6",
                      "showlakes": true,
                      "showland": true,
                      "subunitcolor": "white"
                    },
                    "hoverlabel": {
                      "align": "left"
                    },
                    "hovermode": "closest",
                    "mapbox": {
                      "style": "light"
                    },
                    "paper_bgcolor": "white",
                    "plot_bgcolor": "#E5ECF6",
                    "polar": {
                      "angularaxis": {
                        "gridcolor": "white",
                        "linecolor": "white",
                        "ticks": ""
                      },
                      "bgcolor": "#E5ECF6",
                      "radialaxis": {
                        "gridcolor": "white",
                        "linecolor": "white",
                        "ticks": ""
                      }
                    },
                    "scene": {
                      "xaxis": {
                        "backgroundcolor": "#E5ECF6",
                        "gridcolor": "white",
                        "gridwidth": 2,
                        "linecolor": "white",
                        "showbackground": true,
                        "ticks": "",
                        "zerolinecolor": "white"
                      },
                      "yaxis": {
                        "backgroundcolor": "#E5ECF6",
                        "gridcolor": "white",
                        "gridwidth": 2,
                        "linecolor": "white",
                        "showbackground": true,
                        "ticks": "",
                        "zerolinecolor": "white"
                      },
                      "zaxis": {
                        "backgroundcolor": "#E5ECF6",
                        "gridcolor": "white",
                        "gridwidth": 2,
                        "linecolor": "white",
                        "showbackground": true,
                        "ticks": "",
                        "zerolinecolor": "white"
                      }
                    },
                    "shapedefaults": {
                      "line": {
                        "color": "#2a3f5f"
                      }
                    },
                    "ternary": {
                      "aaxis": {
                        "gridcolor": "white",
                        "linecolor": "white",
                        "ticks": ""
                      },
                      "baxis": {
                        "gridcolor": "white",
                        "linecolor": "white",
                        "ticks": ""
                      },
                      "bgcolor": "#E5ECF6",
                      "caxis": {
                        "gridcolor": "white",
                        "linecolor": "white",
                        "ticks": ""
                      }
                    },
                    "title": {
                      "x": 0.05
                    },
                    "xaxis": {
                      "automargin": true,
                      "gridcolor": "white",
                      "linecolor": "white",
                      "ticks": "",
                      "title": {
                        "standoff": 15
                      },
                      "zerolinecolor": "white",
                      "zerolinewidth": 2
                    },
                    "yaxis": {
                      "automargin": true,
                      "gridcolor": "white",
                      "linecolor": "white",
                      "ticks": "",
                      "title": {
                        "standoff": 15
                      },
                      "zerolinecolor": "white",
                      "zerolinewidth": 2
                    }
                  }
                },
                "title": {
                  "text": "Average Insurance Charges by Age"
                },
                "xaxis": {
                  "anchor": "y",
                  "domain": [
                    0,
                    1
                  ],
                  "title": {
                    "text": "Age"
                  }
                },
                "yaxis": {
                  "anchor": "x",
                  "domain": [
                    0,
                    1
                  ],
                  "title": {
                    "text": "Avg Charges ($)"
                  }
                }
              }
            }
          },
          "metadata": {},
          "output_type": "display_data"
        }
      ],
      "source": [
        "\n",
        "avg_charges_by_age = df.groupby('age', as_index=False)['charges'].mean()\n",
        "fig = px.line(avg_charges_by_age, x='age', y='charges',\n",
        "              title='Average Insurance Charges by Age',\n",
        "              labels={'charges': 'Avg Charges ($)', 'age': 'Age'})\n",
        "fig.show()\n",
        "\n"
      ]
    },
    {
      "cell_type": "markdown",
      "metadata": {},
      "source": [
        "#Correlation Analysis"
      ]
    },
    {
      "cell_type": "code",
      "execution_count": 6,
      "metadata": {},
      "outputs": [
        {
          "data": {
            "application/vnd.plotly.v1+json": {
              "config": {
                "plotlyServerURL": "https://plot.ly"
              },
              "data": [
                {
                  "coloraxis": "coloraxis",
                  "hovertemplate": "x: %{x}<br>y: %{y}<br>color: %{z}<extra></extra>",
                  "name": "0",
                  "texttemplate": "%{z}",
                  "type": "heatmap",
                  "x": [
                    "age",
                    "bmi",
                    "children",
                    "charges"
                  ],
                  "xaxis": "x",
                  "y": [
                    "age",
                    "bmi",
                    "children",
                    "charges"
                  ],
                  "yaxis": "y",
                  "z": {
                    "bdata": "AAAAAAAA8D8pXI/C9Si8P3sUrkfheqQ/MzMzMzMz0z8pXI/C9Si8PwAAAAAAAPA/exSuR+F6hD+amZmZmZnJP3sUrkfheqQ/exSuR+F6hD8AAAAAAADwP+xRuB6F67E/MzMzMzMz0z+amZmZmZnJP+xRuB6F67E/AAAAAAAA8D8=",
                    "dtype": "f8",
                    "shape": "4, 4"
                  }
                }
              ],
              "layout": {
                "coloraxis": {
                  "cmax": 1,
                  "cmin": -1,
                  "colorscale": [
                    [
                      0,
                      "rgb(5,48,97)"
                    ],
                    [
                      0.1,
                      "rgb(33,102,172)"
                    ],
                    [
                      0.2,
                      "rgb(67,147,195)"
                    ],
                    [
                      0.3,
                      "rgb(146,197,222)"
                    ],
                    [
                      0.4,
                      "rgb(209,229,240)"
                    ],
                    [
                      0.5,
                      "rgb(247,247,247)"
                    ],
                    [
                      0.6,
                      "rgb(253,219,199)"
                    ],
                    [
                      0.7,
                      "rgb(244,165,130)"
                    ],
                    [
                      0.8,
                      "rgb(214,96,77)"
                    ],
                    [
                      0.9,
                      "rgb(178,24,43)"
                    ],
                    [
                      1,
                      "rgb(103,0,31)"
                    ]
                  ]
                },
                "template": {
                  "data": {
                    "bar": [
                      {
                        "error_x": {
                          "color": "#2a3f5f"
                        },
                        "error_y": {
                          "color": "#2a3f5f"
                        },
                        "marker": {
                          "line": {
                            "color": "#E5ECF6",
                            "width": 0.5
                          },
                          "pattern": {
                            "fillmode": "overlay",
                            "size": 10,
                            "solidity": 0.2
                          }
                        },
                        "type": "bar"
                      }
                    ],
                    "barpolar": [
                      {
                        "marker": {
                          "line": {
                            "color": "#E5ECF6",
                            "width": 0.5
                          },
                          "pattern": {
                            "fillmode": "overlay",
                            "size": 10,
                            "solidity": 0.2
                          }
                        },
                        "type": "barpolar"
                      }
                    ],
                    "carpet": [
                      {
                        "aaxis": {
                          "endlinecolor": "#2a3f5f",
                          "gridcolor": "white",
                          "linecolor": "white",
                          "minorgridcolor": "white",
                          "startlinecolor": "#2a3f5f"
                        },
                        "baxis": {
                          "endlinecolor": "#2a3f5f",
                          "gridcolor": "white",
                          "linecolor": "white",
                          "minorgridcolor": "white",
                          "startlinecolor": "#2a3f5f"
                        },
                        "type": "carpet"
                      }
                    ],
                    "choropleth": [
                      {
                        "colorbar": {
                          "outlinewidth": 0,
                          "ticks": ""
                        },
                        "type": "choropleth"
                      }
                    ],
                    "contour": [
                      {
                        "colorbar": {
                          "outlinewidth": 0,
                          "ticks": ""
                        },
                        "colorscale": [
                          [
                            0,
                            "#0d0887"
                          ],
                          [
                            0.1111111111111111,
                            "#46039f"
                          ],
                          [
                            0.2222222222222222,
                            "#7201a8"
                          ],
                          [
                            0.3333333333333333,
                            "#9c179e"
                          ],
                          [
                            0.4444444444444444,
                            "#bd3786"
                          ],
                          [
                            0.5555555555555556,
                            "#d8576b"
                          ],
                          [
                            0.6666666666666666,
                            "#ed7953"
                          ],
                          [
                            0.7777777777777778,
                            "#fb9f3a"
                          ],
                          [
                            0.8888888888888888,
                            "#fdca26"
                          ],
                          [
                            1,
                            "#f0f921"
                          ]
                        ],
                        "type": "contour"
                      }
                    ],
                    "contourcarpet": [
                      {
                        "colorbar": {
                          "outlinewidth": 0,
                          "ticks": ""
                        },
                        "type": "contourcarpet"
                      }
                    ],
                    "heatmap": [
                      {
                        "colorbar": {
                          "outlinewidth": 0,
                          "ticks": ""
                        },
                        "colorscale": [
                          [
                            0,
                            "#0d0887"
                          ],
                          [
                            0.1111111111111111,
                            "#46039f"
                          ],
                          [
                            0.2222222222222222,
                            "#7201a8"
                          ],
                          [
                            0.3333333333333333,
                            "#9c179e"
                          ],
                          [
                            0.4444444444444444,
                            "#bd3786"
                          ],
                          [
                            0.5555555555555556,
                            "#d8576b"
                          ],
                          [
                            0.6666666666666666,
                            "#ed7953"
                          ],
                          [
                            0.7777777777777778,
                            "#fb9f3a"
                          ],
                          [
                            0.8888888888888888,
                            "#fdca26"
                          ],
                          [
                            1,
                            "#f0f921"
                          ]
                        ],
                        "type": "heatmap"
                      }
                    ],
                    "histogram": [
                      {
                        "marker": {
                          "pattern": {
                            "fillmode": "overlay",
                            "size": 10,
                            "solidity": 0.2
                          }
                        },
                        "type": "histogram"
                      }
                    ],
                    "histogram2d": [
                      {
                        "colorbar": {
                          "outlinewidth": 0,
                          "ticks": ""
                        },
                        "colorscale": [
                          [
                            0,
                            "#0d0887"
                          ],
                          [
                            0.1111111111111111,
                            "#46039f"
                          ],
                          [
                            0.2222222222222222,
                            "#7201a8"
                          ],
                          [
                            0.3333333333333333,
                            "#9c179e"
                          ],
                          [
                            0.4444444444444444,
                            "#bd3786"
                          ],
                          [
                            0.5555555555555556,
                            "#d8576b"
                          ],
                          [
                            0.6666666666666666,
                            "#ed7953"
                          ],
                          [
                            0.7777777777777778,
                            "#fb9f3a"
                          ],
                          [
                            0.8888888888888888,
                            "#fdca26"
                          ],
                          [
                            1,
                            "#f0f921"
                          ]
                        ],
                        "type": "histogram2d"
                      }
                    ],
                    "histogram2dcontour": [
                      {
                        "colorbar": {
                          "outlinewidth": 0,
                          "ticks": ""
                        },
                        "colorscale": [
                          [
                            0,
                            "#0d0887"
                          ],
                          [
                            0.1111111111111111,
                            "#46039f"
                          ],
                          [
                            0.2222222222222222,
                            "#7201a8"
                          ],
                          [
                            0.3333333333333333,
                            "#9c179e"
                          ],
                          [
                            0.4444444444444444,
                            "#bd3786"
                          ],
                          [
                            0.5555555555555556,
                            "#d8576b"
                          ],
                          [
                            0.6666666666666666,
                            "#ed7953"
                          ],
                          [
                            0.7777777777777778,
                            "#fb9f3a"
                          ],
                          [
                            0.8888888888888888,
                            "#fdca26"
                          ],
                          [
                            1,
                            "#f0f921"
                          ]
                        ],
                        "type": "histogram2dcontour"
                      }
                    ],
                    "mesh3d": [
                      {
                        "colorbar": {
                          "outlinewidth": 0,
                          "ticks": ""
                        },
                        "type": "mesh3d"
                      }
                    ],
                    "parcoords": [
                      {
                        "line": {
                          "colorbar": {
                            "outlinewidth": 0,
                            "ticks": ""
                          }
                        },
                        "type": "parcoords"
                      }
                    ],
                    "pie": [
                      {
                        "automargin": true,
                        "type": "pie"
                      }
                    ],
                    "scatter": [
                      {
                        "fillpattern": {
                          "fillmode": "overlay",
                          "size": 10,
                          "solidity": 0.2
                        },
                        "type": "scatter"
                      }
                    ],
                    "scatter3d": [
                      {
                        "line": {
                          "colorbar": {
                            "outlinewidth": 0,
                            "ticks": ""
                          }
                        },
                        "marker": {
                          "colorbar": {
                            "outlinewidth": 0,
                            "ticks": ""
                          }
                        },
                        "type": "scatter3d"
                      }
                    ],
                    "scattercarpet": [
                      {
                        "marker": {
                          "colorbar": {
                            "outlinewidth": 0,
                            "ticks": ""
                          }
                        },
                        "type": "scattercarpet"
                      }
                    ],
                    "scattergeo": [
                      {
                        "marker": {
                          "colorbar": {
                            "outlinewidth": 0,
                            "ticks": ""
                          }
                        },
                        "type": "scattergeo"
                      }
                    ],
                    "scattergl": [
                      {
                        "marker": {
                          "colorbar": {
                            "outlinewidth": 0,
                            "ticks": ""
                          }
                        },
                        "type": "scattergl"
                      }
                    ],
                    "scattermap": [
                      {
                        "marker": {
                          "colorbar": {
                            "outlinewidth": 0,
                            "ticks": ""
                          }
                        },
                        "type": "scattermap"
                      }
                    ],
                    "scattermapbox": [
                      {
                        "marker": {
                          "colorbar": {
                            "outlinewidth": 0,
                            "ticks": ""
                          }
                        },
                        "type": "scattermapbox"
                      }
                    ],
                    "scatterpolar": [
                      {
                        "marker": {
                          "colorbar": {
                            "outlinewidth": 0,
                            "ticks": ""
                          }
                        },
                        "type": "scatterpolar"
                      }
                    ],
                    "scatterpolargl": [
                      {
                        "marker": {
                          "colorbar": {
                            "outlinewidth": 0,
                            "ticks": ""
                          }
                        },
                        "type": "scatterpolargl"
                      }
                    ],
                    "scatterternary": [
                      {
                        "marker": {
                          "colorbar": {
                            "outlinewidth": 0,
                            "ticks": ""
                          }
                        },
                        "type": "scatterternary"
                      }
                    ],
                    "surface": [
                      {
                        "colorbar": {
                          "outlinewidth": 0,
                          "ticks": ""
                        },
                        "colorscale": [
                          [
                            0,
                            "#0d0887"
                          ],
                          [
                            0.1111111111111111,
                            "#46039f"
                          ],
                          [
                            0.2222222222222222,
                            "#7201a8"
                          ],
                          [
                            0.3333333333333333,
                            "#9c179e"
                          ],
                          [
                            0.4444444444444444,
                            "#bd3786"
                          ],
                          [
                            0.5555555555555556,
                            "#d8576b"
                          ],
                          [
                            0.6666666666666666,
                            "#ed7953"
                          ],
                          [
                            0.7777777777777778,
                            "#fb9f3a"
                          ],
                          [
                            0.8888888888888888,
                            "#fdca26"
                          ],
                          [
                            1,
                            "#f0f921"
                          ]
                        ],
                        "type": "surface"
                      }
                    ],
                    "table": [
                      {
                        "cells": {
                          "fill": {
                            "color": "#EBF0F8"
                          },
                          "line": {
                            "color": "white"
                          }
                        },
                        "header": {
                          "fill": {
                            "color": "#C8D4E3"
                          },
                          "line": {
                            "color": "white"
                          }
                        },
                        "type": "table"
                      }
                    ]
                  },
                  "layout": {
                    "annotationdefaults": {
                      "arrowcolor": "#2a3f5f",
                      "arrowhead": 0,
                      "arrowwidth": 1
                    },
                    "autotypenumbers": "strict",
                    "coloraxis": {
                      "colorbar": {
                        "outlinewidth": 0,
                        "ticks": ""
                      }
                    },
                    "colorscale": {
                      "diverging": [
                        [
                          0,
                          "#8e0152"
                        ],
                        [
                          0.1,
                          "#c51b7d"
                        ],
                        [
                          0.2,
                          "#de77ae"
                        ],
                        [
                          0.3,
                          "#f1b6da"
                        ],
                        [
                          0.4,
                          "#fde0ef"
                        ],
                        [
                          0.5,
                          "#f7f7f7"
                        ],
                        [
                          0.6,
                          "#e6f5d0"
                        ],
                        [
                          0.7,
                          "#b8e186"
                        ],
                        [
                          0.8,
                          "#7fbc41"
                        ],
                        [
                          0.9,
                          "#4d9221"
                        ],
                        [
                          1,
                          "#276419"
                        ]
                      ],
                      "sequential": [
                        [
                          0,
                          "#0d0887"
                        ],
                        [
                          0.1111111111111111,
                          "#46039f"
                        ],
                        [
                          0.2222222222222222,
                          "#7201a8"
                        ],
                        [
                          0.3333333333333333,
                          "#9c179e"
                        ],
                        [
                          0.4444444444444444,
                          "#bd3786"
                        ],
                        [
                          0.5555555555555556,
                          "#d8576b"
                        ],
                        [
                          0.6666666666666666,
                          "#ed7953"
                        ],
                        [
                          0.7777777777777778,
                          "#fb9f3a"
                        ],
                        [
                          0.8888888888888888,
                          "#fdca26"
                        ],
                        [
                          1,
                          "#f0f921"
                        ]
                      ],
                      "sequentialminus": [
                        [
                          0,
                          "#0d0887"
                        ],
                        [
                          0.1111111111111111,
                          "#46039f"
                        ],
                        [
                          0.2222222222222222,
                          "#7201a8"
                        ],
                        [
                          0.3333333333333333,
                          "#9c179e"
                        ],
                        [
                          0.4444444444444444,
                          "#bd3786"
                        ],
                        [
                          0.5555555555555556,
                          "#d8576b"
                        ],
                        [
                          0.6666666666666666,
                          "#ed7953"
                        ],
                        [
                          0.7777777777777778,
                          "#fb9f3a"
                        ],
                        [
                          0.8888888888888888,
                          "#fdca26"
                        ],
                        [
                          1,
                          "#f0f921"
                        ]
                      ]
                    },
                    "colorway": [
                      "#636efa",
                      "#EF553B",
                      "#00cc96",
                      "#ab63fa",
                      "#FFA15A",
                      "#19d3f3",
                      "#FF6692",
                      "#B6E880",
                      "#FF97FF",
                      "#FECB52"
                    ],
                    "font": {
                      "color": "#2a3f5f"
                    },
                    "geo": {
                      "bgcolor": "white",
                      "lakecolor": "white",
                      "landcolor": "#E5ECF6",
                      "showlakes": true,
                      "showland": true,
                      "subunitcolor": "white"
                    },
                    "hoverlabel": {
                      "align": "left"
                    },
                    "hovermode": "closest",
                    "mapbox": {
                      "style": "light"
                    },
                    "paper_bgcolor": "white",
                    "plot_bgcolor": "#E5ECF6",
                    "polar": {
                      "angularaxis": {
                        "gridcolor": "white",
                        "linecolor": "white",
                        "ticks": ""
                      },
                      "bgcolor": "#E5ECF6",
                      "radialaxis": {
                        "gridcolor": "white",
                        "linecolor": "white",
                        "ticks": ""
                      }
                    },
                    "scene": {
                      "xaxis": {
                        "backgroundcolor": "#E5ECF6",
                        "gridcolor": "white",
                        "gridwidth": 2,
                        "linecolor": "white",
                        "showbackground": true,
                        "ticks": "",
                        "zerolinecolor": "white"
                      },
                      "yaxis": {
                        "backgroundcolor": "#E5ECF6",
                        "gridcolor": "white",
                        "gridwidth": 2,
                        "linecolor": "white",
                        "showbackground": true,
                        "ticks": "",
                        "zerolinecolor": "white"
                      },
                      "zaxis": {
                        "backgroundcolor": "#E5ECF6",
                        "gridcolor": "white",
                        "gridwidth": 2,
                        "linecolor": "white",
                        "showbackground": true,
                        "ticks": "",
                        "zerolinecolor": "white"
                      }
                    },
                    "shapedefaults": {
                      "line": {
                        "color": "#2a3f5f"
                      }
                    },
                    "ternary": {
                      "aaxis": {
                        "gridcolor": "white",
                        "linecolor": "white",
                        "ticks": ""
                      },
                      "baxis": {
                        "gridcolor": "white",
                        "linecolor": "white",
                        "ticks": ""
                      },
                      "bgcolor": "#E5ECF6",
                      "caxis": {
                        "gridcolor": "white",
                        "linecolor": "white",
                        "ticks": ""
                      }
                    },
                    "title": {
                      "x": 0.05
                    },
                    "xaxis": {
                      "automargin": true,
                      "gridcolor": "white",
                      "linecolor": "white",
                      "ticks": "",
                      "title": {
                        "standoff": 15
                      },
                      "zerolinecolor": "white",
                      "zerolinewidth": 2
                    },
                    "yaxis": {
                      "automargin": true,
                      "gridcolor": "white",
                      "linecolor": "white",
                      "ticks": "",
                      "title": {
                        "standoff": 15
                      },
                      "zerolinecolor": "white",
                      "zerolinewidth": 2
                    }
                  }
                },
                "title": {
                  "text": "Correlation Matrix (Including Insurance Charges)"
                },
                "xaxis": {
                  "anchor": "y",
                  "constrain": "domain",
                  "domain": [
                    0,
                    1
                  ],
                  "scaleanchor": "y"
                },
                "yaxis": {
                  "anchor": "x",
                  "autorange": "reversed",
                  "constrain": "domain",
                  "domain": [
                    0,
                    1
                  ]
                }
              }
            }
          },
          "metadata": {},
          "output_type": "display_data"
        }
      ],
      "source": [
        "# correlation with charges\n",
        "\n",
        "import pandas as pd\n",
        "import plotly.express as px\n",
        "\n",
        "\n",
        "# Calculate correlation matrix\n",
        "corr_matrix = df.corr(numeric_only=True).round(2)\n",
        "\n",
        "\n",
        "# Full heatmap\n",
        "fig = px.imshow(\n",
        "    corr_matrix,\n",
        "    text_auto=True,\n",
        "    color_continuous_scale='RdBu_r',\n",
        "    zmin=-1, zmax=1,\n",
        "    title='Correlation Matrix (Including Insurance Charges)')\n",
        "\n",
        "\n",
        "\n",
        "fig.show()"
      ]
    },
    {
      "cell_type": "markdown",
      "metadata": {},
      "source": [
        "#Grouped Predictive Analysis Chart"
      ]
    },
    {
      "cell_type": "markdown",
      "metadata": {},
      "source": [
        "### Distribution Analysis\n",
        "\n",
        "Let's examine the distribution of key variables to understand the data better."
      ]
    },
    {
      "cell_type": "code",
      "execution_count": 7,
      "metadata": {},
      "outputs": [
        {
          "data": {
            "application/vnd.plotly.v1+json": {
              "config": {
                "plotlyServerURL": "https://plot.ly"
              },
              "data": [
                {
                  "bingroup": "x",
                  "hovertemplate": "Insurance Charges ($)=%{x}<br>count=%{y}<extra></extra>",
                  "legendgroup": "",
                  "marker": {
                    "color": "#636efa",
                    "pattern": {
                      "shape": ""
                    }
                  },
                  "name": "",
                  "nbinsx": 30,
                  "orientation": "v",
                  "showlegend": false,
                  "type": "histogram",
                  "x": {
                    "bdata": "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",
                    "dtype": "f8"
                  },
                  "xaxis": "x",
                  "yaxis": "y"
                }
              ],
              "layout": {
                "barmode": "relative",
                "legend": {
                  "tracegroupgap": 0
                },
                "showlegend": false,
                "template": {
                  "data": {
                    "bar": [
                      {
                        "error_x": {
                          "color": "#2a3f5f"
                        },
                        "error_y": {
                          "color": "#2a3f5f"
                        },
                        "marker": {
                          "line": {
                            "color": "#E5ECF6",
                            "width": 0.5
                          },
                          "pattern": {
                            "fillmode": "overlay",
                            "size": 10,
                            "solidity": 0.2
                          }
                        },
                        "type": "bar"
                      }
                    ],
                    "barpolar": [
                      {
                        "marker": {
                          "line": {
                            "color": "#E5ECF6",
                            "width": 0.5
                          },
                          "pattern": {
                            "fillmode": "overlay",
                            "size": 10,
                            "solidity": 0.2
                          }
                        },
                        "type": "barpolar"
                      }
                    ],
                    "carpet": [
                      {
                        "aaxis": {
                          "endlinecolor": "#2a3f5f",
                          "gridcolor": "white",
                          "linecolor": "white",
                          "minorgridcolor": "white",
                          "startlinecolor": "#2a3f5f"
                        },
                        "baxis": {
                          "endlinecolor": "#2a3f5f",
                          "gridcolor": "white",
                          "linecolor": "white",
                          "minorgridcolor": "white",
                          "startlinecolor": "#2a3f5f"
                        },
                        "type": "carpet"
                      }
                    ],
                    "choropleth": [
                      {
                        "colorbar": {
                          "outlinewidth": 0,
                          "ticks": ""
                        },
                        "type": "choropleth"
                      }
                    ],
                    "contour": [
                      {
                        "colorbar": {
                          "outlinewidth": 0,
                          "ticks": ""
                        },
                        "colorscale": [
                          [
                            0,
                            "#0d0887"
                          ],
                          [
                            0.1111111111111111,
                            "#46039f"
                          ],
                          [
                            0.2222222222222222,
                            "#7201a8"
                          ],
                          [
                            0.3333333333333333,
                            "#9c179e"
                          ],
                          [
                            0.4444444444444444,
                            "#bd3786"
                          ],
                          [
                            0.5555555555555556,
                            "#d8576b"
                          ],
                          [
                            0.6666666666666666,
                            "#ed7953"
                          ],
                          [
                            0.7777777777777778,
                            "#fb9f3a"
                          ],
                          [
                            0.8888888888888888,
                            "#fdca26"
                          ],
                          [
                            1,
                            "#f0f921"
                          ]
                        ],
                        "type": "contour"
                      }
                    ],
                    "contourcarpet": [
                      {
                        "colorbar": {
                          "outlinewidth": 0,
                          "ticks": ""
                        },
                        "type": "contourcarpet"
                      }
                    ],
                    "heatmap": [
                      {
                        "colorbar": {
                          "outlinewidth": 0,
                          "ticks": ""
                        },
                        "colorscale": [
                          [
                            0,
                            "#0d0887"
                          ],
                          [
                            0.1111111111111111,
                            "#46039f"
                          ],
                          [
                            0.2222222222222222,
                            "#7201a8"
                          ],
                          [
                            0.3333333333333333,
                            "#9c179e"
                          ],
                          [
                            0.4444444444444444,
                            "#bd3786"
                          ],
                          [
                            0.5555555555555556,
                            "#d8576b"
                          ],
                          [
                            0.6666666666666666,
                            "#ed7953"
                          ],
                          [
                            0.7777777777777778,
                            "#fb9f3a"
                          ],
                          [
                            0.8888888888888888,
                            "#fdca26"
                          ],
                          [
                            1,
                            "#f0f921"
                          ]
                        ],
                        "type": "heatmap"
                      }
                    ],
                    "histogram": [
                      {
                        "marker": {
                          "pattern": {
                            "fillmode": "overlay",
                            "size": 10,
                            "solidity": 0.2
                          }
                        },
                        "type": "histogram"
                      }
                    ],
                    "histogram2d": [
                      {
                        "colorbar": {
                          "outlinewidth": 0,
                          "ticks": ""
                        },
                        "colorscale": [
                          [
                            0,
                            "#0d0887"
                          ],
                          [
                            0.1111111111111111,
                            "#46039f"
                          ],
                          [
                            0.2222222222222222,
                            "#7201a8"
                          ],
                          [
                            0.3333333333333333,
                            "#9c179e"
                          ],
                          [
                            0.4444444444444444,
                            "#bd3786"
                          ],
                          [
                            0.5555555555555556,
                            "#d8576b"
                          ],
                          [
                            0.6666666666666666,
                            "#ed7953"
                          ],
                          [
                            0.7777777777777778,
                            "#fb9f3a"
                          ],
                          [
                            0.8888888888888888,
                            "#fdca26"
                          ],
                          [
                            1,
                            "#f0f921"
                          ]
                        ],
                        "type": "histogram2d"
                      }
                    ],
                    "histogram2dcontour": [
                      {
                        "colorbar": {
                          "outlinewidth": 0,
                          "ticks": ""
                        },
                        "colorscale": [
                          [
                            0,
                            "#0d0887"
                          ],
                          [
                            0.1111111111111111,
                            "#46039f"
                          ],
                          [
                            0.2222222222222222,
                            "#7201a8"
                          ],
                          [
                            0.3333333333333333,
                            "#9c179e"
                          ],
                          [
                            0.4444444444444444,
                            "#bd3786"
                          ],
                          [
                            0.5555555555555556,
                            "#d8576b"
                          ],
                          [
                            0.6666666666666666,
                            "#ed7953"
                          ],
                          [
                            0.7777777777777778,
                            "#fb9f3a"
                          ],
                          [
                            0.8888888888888888,
                            "#fdca26"
                          ],
                          [
                            1,
                            "#f0f921"
                          ]
                        ],
                        "type": "histogram2dcontour"
                      }
                    ],
                    "mesh3d": [
                      {
                        "colorbar": {
                          "outlinewidth": 0,
                          "ticks": ""
                        },
                        "type": "mesh3d"
                      }
                    ],
                    "parcoords": [
                      {
                        "line": {
                          "colorbar": {
                            "outlinewidth": 0,
                            "ticks": ""
                          }
                        },
                        "type": "parcoords"
                      }
                    ],
                    "pie": [
                      {
                        "automargin": true,
                        "type": "pie"
                      }
                    ],
                    "scatter": [
                      {
                        "fillpattern": {
                          "fillmode": "overlay",
                          "size": 10,
                          "solidity": 0.2
                        },
                        "type": "scatter"
                      }
                    ],
                    "scatter3d": [
                      {
                        "line": {
                          "colorbar": {
                            "outlinewidth": 0,
                            "ticks": ""
                          }
                        },
                        "marker": {
                          "colorbar": {
                            "outlinewidth": 0,
                            "ticks": ""
                          }
                        },
                        "type": "scatter3d"
                      }
                    ],
                    "scattercarpet": [
                      {
                        "marker": {
                          "colorbar": {
                            "outlinewidth": 0,
                            "ticks": ""
                          }
                        },
                        "type": "scattercarpet"
                      }
                    ],
                    "scattergeo": [
                      {
                        "marker": {
                          "colorbar": {
                            "outlinewidth": 0,
                            "ticks": ""
                          }
                        },
                        "type": "scattergeo"
                      }
                    ],
                    "scattergl": [
                      {
                        "marker": {
                          "colorbar": {
                            "outlinewidth": 0,
                            "ticks": ""
                          }
                        },
                        "type": "scattergl"
                      }
                    ],
                    "scattermap": [
                      {
                        "marker": {
                          "colorbar": {
                            "outlinewidth": 0,
                            "ticks": ""
                          }
                        },
                        "type": "scattermap"
                      }
                    ],
                    "scattermapbox": [
                      {
                        "marker": {
                          "colorbar": {
                            "outlinewidth": 0,
                            "ticks": ""
                          }
                        },
                        "type": "scattermapbox"
                      }
                    ],
                    "scatterpolar": [
                      {
                        "marker": {
                          "colorbar": {
                            "outlinewidth": 0,
                            "ticks": ""
                          }
                        },
                        "type": "scatterpolar"
                      }
                    ],
                    "scatterpolargl": [
                      {
                        "marker": {
                          "colorbar": {
                            "outlinewidth": 0,
                            "ticks": ""
                          }
                        },
                        "type": "scatterpolargl"
                      }
                    ],
                    "scatterternary": [
                      {
                        "marker": {
                          "colorbar": {
                            "outlinewidth": 0,
                            "ticks": ""
                          }
                        },
                        "type": "scatterternary"
                      }
                    ],
                    "surface": [
                      {
                        "colorbar": {
                          "outlinewidth": 0,
                          "ticks": ""
                        },
                        "colorscale": [
                          [
                            0,
                            "#0d0887"
                          ],
                          [
                            0.1111111111111111,
                            "#46039f"
                          ],
                          [
                            0.2222222222222222,
                            "#7201a8"
                          ],
                          [
                            0.3333333333333333,
                            "#9c179e"
                          ],
                          [
                            0.4444444444444444,
                            "#bd3786"
                          ],
                          [
                            0.5555555555555556,
                            "#d8576b"
                          ],
                          [
                            0.6666666666666666,
                            "#ed7953"
                          ],
                          [
                            0.7777777777777778,
                            "#fb9f3a"
                          ],
                          [
                            0.8888888888888888,
                            "#fdca26"
                          ],
                          [
                            1,
                            "#f0f921"
                          ]
                        ],
                        "type": "surface"
                      }
                    ],
                    "table": [
                      {
                        "cells": {
                          "fill": {
                            "color": "#EBF0F8"
                          },
                          "line": {
                            "color": "white"
                          }
                        },
                        "header": {
                          "fill": {
                            "color": "#C8D4E3"
                          },
                          "line": {
                            "color": "white"
                          }
                        },
                        "type": "table"
                      }
                    ]
                  },
                  "layout": {
                    "annotationdefaults": {
                      "arrowcolor": "#2a3f5f",
                      "arrowhead": 0,
                      "arrowwidth": 1
                    },
                    "autotypenumbers": "strict",
                    "coloraxis": {
                      "colorbar": {
                        "outlinewidth": 0,
                        "ticks": ""
                      }
                    },
                    "colorscale": {
                      "diverging": [
                        [
                          0,
                          "#8e0152"
                        ],
                        [
                          0.1,
                          "#c51b7d"
                        ],
                        [
                          0.2,
                          "#de77ae"
                        ],
                        [
                          0.3,
                          "#f1b6da"
                        ],
                        [
                          0.4,
                          "#fde0ef"
                        ],
                        [
                          0.5,
                          "#f7f7f7"
                        ],
                        [
                          0.6,
                          "#e6f5d0"
                        ],
                        [
                          0.7,
                          "#b8e186"
                        ],
                        [
                          0.8,
                          "#7fbc41"
                        ],
                        [
                          0.9,
                          "#4d9221"
                        ],
                        [
                          1,
                          "#276419"
                        ]
                      ],
                      "sequential": [
                        [
                          0,
                          "#0d0887"
                        ],
                        [
                          0.1111111111111111,
                          "#46039f"
                        ],
                        [
                          0.2222222222222222,
                          "#7201a8"
                        ],
                        [
                          0.3333333333333333,
                          "#9c179e"
                        ],
                        [
                          0.4444444444444444,
                          "#bd3786"
                        ],
                        [
                          0.5555555555555556,
                          "#d8576b"
                        ],
                        [
                          0.6666666666666666,
                          "#ed7953"
                        ],
                        [
                          0.7777777777777778,
                          "#fb9f3a"
                        ],
                        [
                          0.8888888888888888,
                          "#fdca26"
                        ],
                        [
                          1,
                          "#f0f921"
                        ]
                      ],
                      "sequentialminus": [
                        [
                          0,
                          "#0d0887"
                        ],
                        [
                          0.1111111111111111,
                          "#46039f"
                        ],
                        [
                          0.2222222222222222,
                          "#7201a8"
                        ],
                        [
                          0.3333333333333333,
                          "#9c179e"
                        ],
                        [
                          0.4444444444444444,
                          "#bd3786"
                        ],
                        [
                          0.5555555555555556,
                          "#d8576b"
                        ],
                        [
                          0.6666666666666666,
                          "#ed7953"
                        ],
                        [
                          0.7777777777777778,
                          "#fb9f3a"
                        ],
                        [
                          0.8888888888888888,
                          "#fdca26"
                        ],
                        [
                          1,
                          "#f0f921"
                        ]
                      ]
                    },
                    "colorway": [
                      "#636efa",
                      "#EF553B",
                      "#00cc96",
                      "#ab63fa",
                      "#FFA15A",
                      "#19d3f3",
                      "#FF6692",
                      "#B6E880",
                      "#FF97FF",
                      "#FECB52"
                    ],
                    "font": {
                      "color": "#2a3f5f"
                    },
                    "geo": {
                      "bgcolor": "white",
                      "lakecolor": "white",
                      "landcolor": "#E5ECF6",
                      "showlakes": true,
                      "showland": true,
                      "subunitcolor": "white"
                    },
                    "hoverlabel": {
                      "align": "left"
                    },
                    "hovermode": "closest",
                    "mapbox": {
                      "style": "light"
                    },
                    "paper_bgcolor": "white",
                    "plot_bgcolor": "#E5ECF6",
                    "polar": {
                      "angularaxis": {
                        "gridcolor": "white",
                        "linecolor": "white",
                        "ticks": ""
                      },
                      "bgcolor": "#E5ECF6",
                      "radialaxis": {
                        "gridcolor": "white",
                        "linecolor": "white",
                        "ticks": ""
                      }
                    },
                    "scene": {
                      "xaxis": {
                        "backgroundcolor": "#E5ECF6",
                        "gridcolor": "white",
                        "gridwidth": 2,
                        "linecolor": "white",
                        "showbackground": true,
                        "ticks": "",
                        "zerolinecolor": "white"
                      },
                      "yaxis": {
                        "backgroundcolor": "#E5ECF6",
                        "gridcolor": "white",
                        "gridwidth": 2,
                        "linecolor": "white",
                        "showbackground": true,
                        "ticks": "",
                        "zerolinecolor": "white"
                      },
                      "zaxis": {
                        "backgroundcolor": "#E5ECF6",
                        "gridcolor": "white",
                        "gridwidth": 2,
                        "linecolor": "white",
                        "showbackground": true,
                        "ticks": "",
                        "zerolinecolor": "white"
                      }
                    },
                    "shapedefaults": {
                      "line": {
                        "color": "#2a3f5f"
                      }
                    },
                    "ternary": {
                      "aaxis": {
                        "gridcolor": "white",
                        "linecolor": "white",
                        "ticks": ""
                      },
                      "baxis": {
                        "gridcolor": "white",
                        "linecolor": "white",
                        "ticks": ""
                      },
                      "bgcolor": "#E5ECF6",
                      "caxis": {
                        "gridcolor": "white",
                        "linecolor": "white",
                        "ticks": ""
                      }
                    },
                    "title": {
                      "x": 0.05
                    },
                    "xaxis": {
                      "automargin": true,
                      "gridcolor": "white",
                      "linecolor": "white",
                      "ticks": "",
                      "title": {
                        "standoff": 15
                      },
                      "zerolinecolor": "white",
                      "zerolinewidth": 2
                    },
                    "yaxis": {
                      "automargin": true,
                      "gridcolor": "white",
                      "linecolor": "white",
                      "ticks": "",
                      "title": {
                        "standoff": 15
                      },
                      "zerolinecolor": "white",
                      "zerolinewidth": 2
                    }
                  }
                },
                "title": {
                  "text": "Distribution of Insurance Charges"
                },
                "xaxis": {
                  "anchor": "y",
                  "domain": [
                    0,
                    1
                  ],
                  "title": {
                    "text": "Insurance Charges ($)"
                  }
                },
                "yaxis": {
                  "anchor": "x",
                  "domain": [
                    0,
                    1
                  ],
                  "title": {
                    "text": "count"
                  }
                }
              }
            }
          },
          "metadata": {},
          "output_type": "display_data"
        },
        {
          "name": "stdout",
          "output_type": "stream",
          "text": [
            "Mean charges: $13270.42\n",
            "Median charges: $9382.03\n",
            "Standard deviation: $12110.01\n"
          ]
        }
      ],
      "source": [
        "# Distribution of Insurance Charges\n",
        "fig = px.histogram(df, x='charges', nbins=30, \n",
        "                   title='Distribution of Insurance Charges',\n",
        "                   labels={'charges': 'Insurance Charges ($)', 'count': 'Frequency'})\n",
        "fig.update_layout(showlegend=False)\n",
        "fig.show()\n",
        "\n",
        "print(f\"Mean charges: ${df['charges'].mean():.2f}\")\n",
        "print(f\"Median charges: ${df['charges'].median():.2f}\")\n",
        "print(f\"Standard deviation: ${df['charges'].std():.2f}\")"
      ]
    },
    {
      "cell_type": "markdown",
      "metadata": {},
      "source": [
        "### Smoking Impact Analysis\n",
        "\n",
        "Smoking is often a major factor in insurance charges. Let's analyze this relationship."
      ]
    },
    {
      "cell_type": "code",
      "execution_count": 8,
      "metadata": {},
      "outputs": [
        {
          "data": {
            "application/vnd.plotly.v1+json": {
              "config": {
                "plotlyServerURL": "https://plot.ly"
              },
              "data": [
                {
                  "alignmentgroup": "True",
                  "hovertemplate": "Smoking Status=%{x}<br>Insurance Charges ($)=%{y}<extra></extra>",
                  "legendgroup": "",
                  "marker": {
                    "color": "#636efa"
                  },
                  "name": "",
                  "notched": false,
                  "offsetgroup": "",
                  "orientation": "v",
                  "showlegend": false,
                  "type": "box",
                  "x": [
                    "yes",
                    "no",
                    "no",
                    "no",
                    "no",
                    "no",
                    "no",
                    "no",
                    "no",
                    "no",
                    "no",
                    "yes",
                    "no",
                    "no",
                    "yes",
                    "no",
                    "no",
                    "no",
                    "no",
                    "yes",
                    "no",
                    "no",
                    "no",
                    "yes",
                    "no",
                    "no",
                    "no",
                    "no",
                    "no",
                    "yes",
                    "yes",
                    "no",
                    "no",
                    "no",
                    "yes",
                    "no",
                    "no",
                    "no",
                    "yes",
                    "yes",
                    "no",
                    "no",
                    "no",
                    "no",
                    "no",
                    "no",
                    "no",
                    "no",
                    "no",
                    "yes",
                    "no",
                    "no",
                    "yes",
                    "yes",
                    "no",
                    "yes",
                    "no",
                    "yes",
                    "yes",
                    "no",
                    "no",
                    "no",
                    "no",
                    "no",
                    "yes",
                    "no",
                    "no",
                    "no",
                    "no",
                    "yes",
                    "yes",
                    "no",
                    "no",
                    "no",
                    "no",
                    "no",
                    "no",
                    "no",
                    "no",
                    "no",
                    "no",
                    "no",
                    "yes",
                    "no",
                    "yes",
                    "yes",
                    "yes",
                    "no",
                    "no",
                    "no",
                    "no",
                    "no",
                    "yes",
                    "no",
                    "yes",
                    "no",
                    "no",
                    "no",
                    "yes",
                    "yes",
                    "no",
                    "no",
                    "no",
                    "yes",
                    "no",
                    "yes",
                    "no",
                    "no",
                    "no",
                    "yes",
                    "no",
                    "no",
                    "no",
                    "no",
                    "no",
                    "no",
                    "no",
                    "yes",
                    "no",
                    "no",
                    "no",
                    "no",
                    "no",
                    "yes",
                    "no",
                    "no",
                    "yes",
                    "no",
                    "yes",
                    "no",
                    "no",
                    "no",
                    "no",
                    "no",
                    "no",
                    "no",
                    "no",
                    "no",
                    "no",
                    "no",
                    "no",
                    "no",
                    "yes",
                    "no",
                    "yes",
                    "no",
                    "yes",
                    "no",
                    "no",
                    "no",
                    "no",
                    "no",
                    "no",
                    "yes",
                    "no",
                    "no",
                    "yes",
                    "yes",
                    "yes",
                    "no",
                    "yes",
                    "yes",
                    "no",
                    "no",
                    "no",
                    "no",
                    "no",
                    "no",
                    "no",
                    "no",
                    "no",
                    "no",
                    "no",
                    "no",
                    "no",
                    "yes",
                    "no",
                    "no",
                    "no",
                    "no",
                    "no",
                    "no",
                    "no",
                    "no",
                    "no",
                    "yes",
                    "no",
                    "no",
                    "no",
                    "no",
                    "no",
                    "no",
                    "no",
                    "no",
                    "no",
                    "no",
                    "no",
                    "no",
                    "no",
                    "no",
                    "no",
                    "no",
                    "no",
                    "yes",
                    "no",
                    "no",
                    "no",
                    "yes",
                    "no",
                    "no",
                    "no",
                    "no",
                    "no",
                    "no",
                    "no",
                    "no",
                    "no",
                    "no",
                    "no",
                    "no",
                    "no",
                    "no",
                    "no",
                    "yes",
                    "yes",
                    "no",
                    "no",
                    "no",
                    "no",
                    "no",
                    "no",
                    "no",
                    "no",
                    "no",
                    "no",
                    "yes",
                    "no",
                    "no",
                    "yes",
                    "no",
                    "yes",
                    "no",
                    "no",
                    "no",
                    "yes",
                    "no",
                    "no",
                    "no",
                    "no",
                    "no",
                    "yes",
                    "yes",
                    "yes",
                    "no",
                    "yes",
                    "no",
                    "yes",
                    "no",
                    "no",
                    "yes",
                    "no",
                    "yes",
                    "yes",
                    "yes",
                    "no",
                    "yes",
                    "yes",
                    "no",
                    "no",
                    "no",
                    "no",
                    "yes",
                    "no",
                    "no",
                    "no",
                    "no",
                    "no",
                    "no",
                    "no",
                    "no",
                    "yes",
                    "yes",
                    "no",
                    "no",
                    "no",
                    "no",
                    "no",
                    "no",
                    "yes",
                    "no",
                    "no",
                    "no",
                    "yes",
                    "no",
                    "no",
                    "no",
                    "yes",
                    "yes",
                    "yes",
                    "no",
                    "no",
                    "yes",
                    "no",
                    "no",
                    "no",
                    "no",
                    "no",
                    "no",
                    "no",
                    "no",
                    "no",
                    "no",
                    "yes",
                    "no",
                    "yes",
                    "no",
                    "no",
                    "no",
                    "no",
                    "no",
                    "no",
                    "no",
                    "yes",
                    "no",
                    "no",
                    "no",
                    "no",
                    "yes",
                    "yes",
                    "no",
                    "yes",
                    "yes",
                    "no",
                    "no",
                    "no",
                    "no",
                    "no",
                    "no",
                    "yes",
                    "no",
                    "no",
                    "no",
                    "no",
                    "no",
                    "no",
                    "no",
                    "no",
                    "no",
                    "no",
                    "no",
                    "no",
                    "no",
                    "no",
                    "no",
                    "no",
                    "no",
                    "no",
                    "no",
                    "no",
                    "no",
                    "no",
                    "no",
                    "yes",
                    "no",
                    "no",
                    "no",
                    "no",
                    "no",
                    "no",
                    "no",
                    "no",
                    "no",
                    "no",
                    "yes",
                    "no",
                    "yes",
                    "yes",
                    "yes",
                    "no",
                    "no",
                    "yes",
                    "yes",
                    "no",
                    "no",
                    "no",
                    "no",
                    "no",
                    "no",
                    "no",
                    "no",
                    "no",
                    "no",
                    "no",
                    "no",
                    "no",
                    "no",
                    "no",
                    "no",
                    "no",
                    "no",
                    "no",
                    "no",
                    "no",
                    "no",
                    "no",
                    "no",
                    "no",
                    "no",
                    "no",
                    "no",
                    "no",
                    "yes",
                    "yes",
                    "no",
                    "no",
                    "no",
                    "no",
                    "yes",
                    "no",
                    "yes",
                    "yes",
                    "yes",
                    "yes",
                    "no",
                    "no",
                    "no",
                    "no",
                    "no",
                    "no",
                    "no",
                    "no",
                    "no",
                    "no",
                    "no",
                    "no",
                    "no",
                    "no",
                    "no",
                    "no",
                    "no",
                    "no",
                    "yes",
                    "no",
                    "no",
                    "yes",
                    "no",
                    "no",
                    "no",
                    "no",
                    "no",
                    "no",
                    "no",
                    "no",
                    "no",
                    "no",
                    "no",
                    "no",
                    "no",
                    "no",
                    "no",
                    "no",
                    "yes",
                    "no",
                    "no",
                    "no",
                    "yes",
                    "no",
                    "no",
                    "no",
                    "no",
                    "no",
                    "no",
                    "no",
                    "no",
                    "yes",
                    "yes",
                    "yes",
                    "no",
                    "no",
                    "no",
                    "no",
                    "no",
                    "no",
                    "no",
                    "no",
                    "no",
                    "no",
                    "no",
                    "yes",
                    "no",
                    "no",
                    "no",
                    "no",
                    "no",
                    "yes",
                    "no",
                    "no",
                    "no",
                    "no",
                    "no",
                    "yes",
                    "no",
                    "yes",
                    "yes",
                    "no",
                    "no",
                    "no",
                    "no",
                    "no",
                    "no",
                    "no",
                    "no",
                    "no",
                    "no",
                    "yes",
                    "no",
                    "no",
                    "no",
                    "no",
                    "no",
                    "no",
                    "no",
                    "no",
                    "no",
                    "yes",
                    "no",
                    "no",
                    "no",
                    "no",
                    "no",
                    "yes",
                    "no",
                    "no",
                    "no",
                    "no",
                    "no",
                    "no",
                    "no",
                    "no",
                    "no",
                    "no",
                    "no",
                    "no",
                    "yes",
                    "no",
                    "yes",
                    "no",
                    "no",
                    "no",
                    "yes",
                    "no",
                    "no",
                    "no",
                    "no",
                    "no",
                    "no",
                    "no",
                    "no",
                    "yes",
                    "no",
                    "no",
                    "no",
                    "no",
                    "no",
                    "no",
                    "no",
                    "no",
                    "no",
                    "no",
                    "yes",
                    "no",
                    "no",
                    "no",
                    "no",
                    "no",
                    "no",
                    "no",
                    "yes",
                    "no",
                    "no",
                    "no",
                    "no",
                    "no",
                    "no",
                    "no",
                    "no",
                    "no",
                    "yes",
                    "no",
                    "no",
                    "no",
                    "no",
                    "no",
                    "yes",
                    "no",
                    "no",
                    "no",
                    "no",
                    "no",
                    "no",
                    "no",
                    "no",
                    "no",
                    "no",
                    "yes",
                    "no",
                    "no",
                    "yes",
                    "no",
                    "yes",
                    "no",
                    "no",
                    "no",
                    "no",
                    "no",
                    "yes",
                    "no",
                    "yes",
                    "yes",
                    "no",
                    "no",
                    "yes",
                    "no",
                    "yes",
                    "no",
                    "no",
                    "no",
                    "no",
                    "no",
                    "yes",
                    "no",
                    "no",
                    "no",
                    "no",
                    "no",
                    "no",
                    "no",
                    "no",
                    "yes",
                    "no",
                    "no",
                    "yes",
                    "no",
                    "no",
                    "no",
                    "no",
                    "no",
                    "no",
                    "no",
                    "no",
                    "no",
                    "no",
                    "no",
                    "no",
                    "no",
                    "yes",
                    "no",
                    "no",
                    "no",
                    "no",
                    "no",
                    "no",
                    "no",
                    "no",
                    "yes",
                    "yes",
                    "no",
                    "yes",
                    "yes",
                    "no",
                    "no",
                    "no",
                    "no",
                    "no",
                    "yes",
                    "no",
                    "no",
                    "yes",
                    "no",
                    "no",
                    "no",
                    "no",
                    "yes",
                    "no",
                    "no",
                    "no",
                    "no",
                    "no",
                    "no",
                    "yes",
                    "no",
                    "no",
                    "no",
                    "no",
                    "no",
                    "no",
                    "no",
                    "yes",
                    "no",
                    "no",
                    "no",
                    "no",
                    "no",
                    "no",
                    "no",
                    "no",
                    "yes",
                    "no",
                    "no",
                    "no",
                    "no",
                    "no",
                    "no",
                    "no",
                    "no",
                    "no",
                    "no",
                    "no",
                    "no",
                    "no",
                    "no",
                    "no",
                    "no",
                    "no",
                    "no",
                    "yes",
                    "no",
                    "yes",
                    "no",
                    "no",
                    "yes",
                    "no",
                    "no",
                    "no",
                    "no",
                    "no",
                    "yes",
                    "no",
                    "yes",
                    "yes",
                    "no",
                    "yes",
                    "yes",
                    "no",
                    "no",
                    "no",
                    "no",
                    "no",
                    "no",
                    "no",
                    "yes",
                    "no",
                    "no",
                    "no",
                    "no",
                    "no",
                    "no",
                    "yes",
                    "no",
                    "yes",
                    "no",
                    "no",
                    "yes",
                    "no",
                    "no",
                    "no",
                    "no",
                    "no",
                    "no",
                    "no",
                    "no",
                    "no",
                    "no",
                    "yes",
                    "no",
                    "no",
                    "no",
                    "no",
                    "no",
                    "no",
                    "yes",
                    "no",
                    "no",
                    "yes",
                    "no",
                    "no",
                    "no",
                    "no",
                    "no",
                    "no",
                    "no",
                    "no",
                    "no",
                    "yes",
                    "no",
                    "yes",
                    "no",
                    "no",
                    "no",
                    "yes",
                    "no",
                    "no",
                    "no",
                    "yes",
                    "no",
                    "no",
                    "no",
                    "no",
                    "no",
                    "no",
                    "no",
                    "no",
                    "no",
                    "no",
                    "no",
                    "no",
                    "no",
                    "no",
                    "yes",
                    "yes",
                    "no",
                    "no",
                    "no",
                    "no",
                    "no",
                    "no",
                    "yes",
                    "yes",
                    "yes",
                    "no",
                    "no",
                    "no",
                    "no",
                    "no",
                    "no",
                    "no",
                    "no",
                    "no",
                    "no",
                    "no",
                    "no",
                    "no",
                    "yes",
                    "yes",
                    "no",
                    "yes",
                    "no",
                    "no",
                    "no",
                    "no",
                    "yes",
                    "no",
                    "yes",
                    "no",
                    "yes",
                    "no",
                    "yes",
                    "yes",
                    "no",
                    "no",
                    "yes",
                    "no",
                    "no",
                    "no",
                    "no",
                    "no",
                    "no",
                    "no",
                    "no",
                    "no",
                    "no",
                    "no",
                    "no",
                    "no",
                    "no",
                    "no",
                    "no",
                    "no",
                    "no",
                    "no",
                    "no",
                    "no",
                    "no",
                    "yes",
                    "no",
                    "yes",
                    "yes",
                    "no",
                    "no",
                    "no",
                    "yes",
                    "no",
                    "no",
                    "yes",
                    "no",
                    "no",
                    "yes",
                    "no",
                    "no",
                    "no",
                    "no",
                    "yes",
                    "no",
                    "no",
                    "no",
                    "no",
                    "no",
                    "no",
                    "no",
                    "yes",
                    "no",
                    "yes",
                    "no",
                    "no",
                    "no",
                    "no",
                    "yes",
                    "yes",
                    "no",
                    "no",
                    "no",
                    "no",
                    "no",
                    "no",
                    "no",
                    "no",
                    "no",
                    "no",
                    "no",
                    "no",
                    "no",
                    "no",
                    "no",
                    "no",
                    "no",
                    "no",
                    "no",
                    "no",
                    "no",
                    "no",
                    "no",
                    "no",
                    "no",
                    "no",
                    "no",
                    "no",
                    "no",
                    "yes",
                    "no",
                    "yes",
                    "no",
                    "yes",
                    "no",
                    "yes",
                    "yes",
                    "no",
                    "yes",
                    "no",
                    "yes",
                    "no",
                    "no",
                    "no",
                    "no",
                    "no",
                    "no",
                    "no",
                    "yes",
                    "no",
                    "no",
                    "no",
                    "no",
                    "no",
                    "no",
                    "no",
                    "no",
                    "yes",
                    "no",
                    "no",
                    "no",
                    "no",
                    "no",
                    "no",
                    "yes",
                    "no",
                    "no",
                    "no",
                    "no",
                    "no",
                    "no",
                    "yes",
                    "no",
                    "no",
                    "no",
                    "no",
                    "yes",
                    "no",
                    "no",
                    "no",
                    "no",
                    "no",
                    "yes",
                    "yes",
                    "no",
                    "no",
                    "no",
                    "no",
                    "no",
                    "yes",
                    "no",
                    "no",
                    "no",
                    "yes",
                    "no",
                    "no",
                    "no",
                    "no",
                    "no",
                    "no",
                    "no",
                    "no",
                    "no",
                    "yes",
                    "yes",
                    "no",
                    "no",
                    "no",
                    "yes",
                    "no",
                    "no",
                    "no",
                    "yes",
                    "yes",
                    "no",
                    "yes",
                    "no",
                    "no",
                    "yes",
                    "yes",
                    "no",
                    "no",
                    "yes",
                    "no",
                    "yes",
                    "no",
                    "no",
                    "yes",
                    "no",
                    "yes",
                    "no",
                    "yes",
                    "no",
                    "no",
                    "no",
                    "yes",
                    "no",
                    "no",
                    "no",
                    "no",
                    "no",
                    "no",
                    "no",
                    "no",
                    "yes",
                    "no",
                    "no",
                    "no",
                    "no",
                    "no",
                    "no",
                    "no",
                    "yes",
                    "no",
                    "no",
                    "no",
                    "no",
                    "no",
                    "no",
                    "no",
                    "yes",
                    "no",
                    "no",
                    "no",
                    "no",
                    "no",
                    "no",
                    "yes",
                    "no",
                    "no",
                    "no",
                    "no",
                    "yes",
                    "no",
                    "no",
                    "yes",
                    "no",
                    "no",
                    "yes",
                    "no",
                    "no",
                    "no",
                    "yes",
                    "no",
                    "no",
                    "no",
                    "no",
                    "no",
                    "no",
                    "no",
                    "no",
                    "no",
                    "no",
                    "yes",
                    "yes",
                    "no",
                    "no",
                    "no",
                    "no",
                    "yes",
                    "yes",
                    "no",
                    "yes",
                    "no",
                    "yes",
                    "no",
                    "yes",
                    "no",
                    "no",
                    "no",
                    "no",
                    "no",
                    "no",
                    "no",
                    "no",
                    "no",
                    "no",
                    "no",
                    "no",
                    "no",
                    "no",
                    "yes",
                    "no",
                    "no",
                    "no",
                    "no",
                    "no",
                    "no",
                    "yes",
                    "no",
                    "no",
                    "no",
                    "no",
                    "no",
                    "yes",
                    "no",
                    "no",
                    "no",
                    "yes",
                    "no",
                    "no",
                    "no",
                    "no",
                    "no",
                    "no",
                    "no",
                    "no",
                    "no",
                    "no",
                    "no",
                    "no",
                    "no",
                    "yes",
                    "yes",
                    "no",
                    "no",
                    "no",
                    "no",
                    "yes",
                    "no",
                    "no",
                    "yes",
                    "no",
                    "no",
                    "no",
                    "no",
                    "yes",
                    "no",
                    "yes",
                    "no",
                    "yes",
                    "no",
                    "no",
                    "no",
                    "no",
                    "no",
                    "no",
                    "no",
                    "yes",
                    "no",
                    "no",
                    "no",
                    "no",
                    "no",
                    "no",
                    "no",
                    "yes",
                    "no",
                    "no",
                    "yes",
                    "yes",
                    "no",
                    "no",
                    "no",
                    "no",
                    "no",
                    "no",
                    "no",
                    "no",
                    "no",
                    "yes",
                    "no",
                    "no",
                    "no",
                    "no",
                    "yes",
                    "no",
                    "no",
                    "no",
                    "no",
                    "no",
                    "no",
                    "yes",
                    "yes",
                    "no",
                    "no",
                    "no",
                    "no",
                    "no",
                    "no",
                    "no",
                    "no",
                    "yes",
                    "yes",
                    "no",
                    "no",
                    "no",
                    "no",
                    "no",
                    "no",
                    "no",
                    "yes",
                    "yes",
                    "no",
                    "yes",
                    "no",
                    "no",
                    "no",
                    "no",
                    "no",
                    "no",
                    "no",
                    "no",
                    "no",
                    "no",
                    "no",
                    "no",
                    "yes",
                    "no",
                    "yes",
                    "no",
                    "no",
                    "no",
                    "no",
                    "no",
                    "no",
                    "yes",
                    "no",
                    "no",
                    "no",
                    "yes",
                    "no",
                    "no",
                    "yes",
                    "yes",
                    "no",
                    "yes",
                    "no",
                    "no",
                    "no",
                    "yes",
                    "no",
                    "no",
                    "yes",
                    "no",
                    "no",
                    "no",
                    "no",
                    "no",
                    "no",
                    "no",
                    "no",
                    "yes",
                    "yes",
                    "no",
                    "yes",
                    "yes",
                    "no",
                    "yes",
                    "yes",
                    "yes",
                    "no",
                    "no",
                    "no",
                    "no",
                    "yes",
                    "yes",
                    "no",
                    "no",
                    "no",
                    "no",
                    "no",
                    "no",
                    "yes",
                    "no",
                    "yes",
                    "no",
                    "no",
                    "no",
                    "no",
                    "no",
                    "no",
                    "no",
                    "no",
                    "no",
                    "no",
                    "no",
                    "no",
                    "no",
                    "yes"
                  ],
                  "x0": " ",
                  "xaxis": "x",
                  "y": {
                    "bdata": "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",
                    "dtype": "f8"
                  },
                  "y0": " ",
                  "yaxis": "y"
                }
              ],
              "layout": {
                "boxmode": "group",
                "legend": {
                  "tracegroupgap": 0
                },
                "template": {
                  "data": {
                    "bar": [
                      {
                        "error_x": {
                          "color": "#2a3f5f"
                        },
                        "error_y": {
                          "color": "#2a3f5f"
                        },
                        "marker": {
                          "line": {
                            "color": "#E5ECF6",
                            "width": 0.5
                          },
                          "pattern": {
                            "fillmode": "overlay",
                            "size": 10,
                            "solidity": 0.2
                          }
                        },
                        "type": "bar"
                      }
                    ],
                    "barpolar": [
                      {
                        "marker": {
                          "line": {
                            "color": "#E5ECF6",
                            "width": 0.5
                          },
                          "pattern": {
                            "fillmode": "overlay",
                            "size": 10,
                            "solidity": 0.2
                          }
                        },
                        "type": "barpolar"
                      }
                    ],
                    "carpet": [
                      {
                        "aaxis": {
                          "endlinecolor": "#2a3f5f",
                          "gridcolor": "white",
                          "linecolor": "white",
                          "minorgridcolor": "white",
                          "startlinecolor": "#2a3f5f"
                        },
                        "baxis": {
                          "endlinecolor": "#2a3f5f",
                          "gridcolor": "white",
                          "linecolor": "white",
                          "minorgridcolor": "white",
                          "startlinecolor": "#2a3f5f"
                        },
                        "type": "carpet"
                      }
                    ],
                    "choropleth": [
                      {
                        "colorbar": {
                          "outlinewidth": 0,
                          "ticks": ""
                        },
                        "type": "choropleth"
                      }
                    ],
                    "contour": [
                      {
                        "colorbar": {
                          "outlinewidth": 0,
                          "ticks": ""
                        },
                        "colorscale": [
                          [
                            0,
                            "#0d0887"
                          ],
                          [
                            0.1111111111111111,
                            "#46039f"
                          ],
                          [
                            0.2222222222222222,
                            "#7201a8"
                          ],
                          [
                            0.3333333333333333,
                            "#9c179e"
                          ],
                          [
                            0.4444444444444444,
                            "#bd3786"
                          ],
                          [
                            0.5555555555555556,
                            "#d8576b"
                          ],
                          [
                            0.6666666666666666,
                            "#ed7953"
                          ],
                          [
                            0.7777777777777778,
                            "#fb9f3a"
                          ],
                          [
                            0.8888888888888888,
                            "#fdca26"
                          ],
                          [
                            1,
                            "#f0f921"
                          ]
                        ],
                        "type": "contour"
                      }
                    ],
                    "contourcarpet": [
                      {
                        "colorbar": {
                          "outlinewidth": 0,
                          "ticks": ""
                        },
                        "type": "contourcarpet"
                      }
                    ],
                    "heatmap": [
                      {
                        "colorbar": {
                          "outlinewidth": 0,
                          "ticks": ""
                        },
                        "colorscale": [
                          [
                            0,
                            "#0d0887"
                          ],
                          [
                            0.1111111111111111,
                            "#46039f"
                          ],
                          [
                            0.2222222222222222,
                            "#7201a8"
                          ],
                          [
                            0.3333333333333333,
                            "#9c179e"
                          ],
                          [
                            0.4444444444444444,
                            "#bd3786"
                          ],
                          [
                            0.5555555555555556,
                            "#d8576b"
                          ],
                          [
                            0.6666666666666666,
                            "#ed7953"
                          ],
                          [
                            0.7777777777777778,
                            "#fb9f3a"
                          ],
                          [
                            0.8888888888888888,
                            "#fdca26"
                          ],
                          [
                            1,
                            "#f0f921"
                          ]
                        ],
                        "type": "heatmap"
                      }
                    ],
                    "histogram": [
                      {
                        "marker": {
                          "pattern": {
                            "fillmode": "overlay",
                            "size": 10,
                            "solidity": 0.2
                          }
                        },
                        "type": "histogram"
                      }
                    ],
                    "histogram2d": [
                      {
                        "colorbar": {
                          "outlinewidth": 0,
                          "ticks": ""
                        },
                        "colorscale": [
                          [
                            0,
                            "#0d0887"
                          ],
                          [
                            0.1111111111111111,
                            "#46039f"
                          ],
                          [
                            0.2222222222222222,
                            "#7201a8"
                          ],
                          [
                            0.3333333333333333,
                            "#9c179e"
                          ],
                          [
                            0.4444444444444444,
                            "#bd3786"
                          ],
                          [
                            0.5555555555555556,
                            "#d8576b"
                          ],
                          [
                            0.6666666666666666,
                            "#ed7953"
                          ],
                          [
                            0.7777777777777778,
                            "#fb9f3a"
                          ],
                          [
                            0.8888888888888888,
                            "#fdca26"
                          ],
                          [
                            1,
                            "#f0f921"
                          ]
                        ],
                        "type": "histogram2d"
                      }
                    ],
                    "histogram2dcontour": [
                      {
                        "colorbar": {
                          "outlinewidth": 0,
                          "ticks": ""
                        },
                        "colorscale": [
                          [
                            0,
                            "#0d0887"
                          ],
                          [
                            0.1111111111111111,
                            "#46039f"
                          ],
                          [
                            0.2222222222222222,
                            "#7201a8"
                          ],
                          [
                            0.3333333333333333,
                            "#9c179e"
                          ],
                          [
                            0.4444444444444444,
                            "#bd3786"
                          ],
                          [
                            0.5555555555555556,
                            "#d8576b"
                          ],
                          [
                            0.6666666666666666,
                            "#ed7953"
                          ],
                          [
                            0.7777777777777778,
                            "#fb9f3a"
                          ],
                          [
                            0.8888888888888888,
                            "#fdca26"
                          ],
                          [
                            1,
                            "#f0f921"
                          ]
                        ],
                        "type": "histogram2dcontour"
                      }
                    ],
                    "mesh3d": [
                      {
                        "colorbar": {
                          "outlinewidth": 0,
                          "ticks": ""
                        },
                        "type": "mesh3d"
                      }
                    ],
                    "parcoords": [
                      {
                        "line": {
                          "colorbar": {
                            "outlinewidth": 0,
                            "ticks": ""
                          }
                        },
                        "type": "parcoords"
                      }
                    ],
                    "pie": [
                      {
                        "automargin": true,
                        "type": "pie"
                      }
                    ],
                    "scatter": [
                      {
                        "fillpattern": {
                          "fillmode": "overlay",
                          "size": 10,
                          "solidity": 0.2
                        },
                        "type": "scatter"
                      }
                    ],
                    "scatter3d": [
                      {
                        "line": {
                          "colorbar": {
                            "outlinewidth": 0,
                            "ticks": ""
                          }
                        },
                        "marker": {
                          "colorbar": {
                            "outlinewidth": 0,
                            "ticks": ""
                          }
                        },
                        "type": "scatter3d"
                      }
                    ],
                    "scattercarpet": [
                      {
                        "marker": {
                          "colorbar": {
                            "outlinewidth": 0,
                            "ticks": ""
                          }
                        },
                        "type": "scattercarpet"
                      }
                    ],
                    "scattergeo": [
                      {
                        "marker": {
                          "colorbar": {
                            "outlinewidth": 0,
                            "ticks": ""
                          }
                        },
                        "type": "scattergeo"
                      }
                    ],
                    "scattergl": [
                      {
                        "marker": {
                          "colorbar": {
                            "outlinewidth": 0,
                            "ticks": ""
                          }
                        },
                        "type": "scattergl"
                      }
                    ],
                    "scattermap": [
                      {
                        "marker": {
                          "colorbar": {
                            "outlinewidth": 0,
                            "ticks": ""
                          }
                        },
                        "type": "scattermap"
                      }
                    ],
                    "scattermapbox": [
                      {
                        "marker": {
                          "colorbar": {
                            "outlinewidth": 0,
                            "ticks": ""
                          }
                        },
                        "type": "scattermapbox"
                      }
                    ],
                    "scatterpolar": [
                      {
                        "marker": {
                          "colorbar": {
                            "outlinewidth": 0,
                            "ticks": ""
                          }
                        },
                        "type": "scatterpolar"
                      }
                    ],
                    "scatterpolargl": [
                      {
                        "marker": {
                          "colorbar": {
                            "outlinewidth": 0,
                            "ticks": ""
                          }
                        },
                        "type": "scatterpolargl"
                      }
                    ],
                    "scatterternary": [
                      {
                        "marker": {
                          "colorbar": {
                            "outlinewidth": 0,
                            "ticks": ""
                          }
                        },
                        "type": "scatterternary"
                      }
                    ],
                    "surface": [
                      {
                        "colorbar": {
                          "outlinewidth": 0,
                          "ticks": ""
                        },
                        "colorscale": [
                          [
                            0,
                            "#0d0887"
                          ],
                          [
                            0.1111111111111111,
                            "#46039f"
                          ],
                          [
                            0.2222222222222222,
                            "#7201a8"
                          ],
                          [
                            0.3333333333333333,
                            "#9c179e"
                          ],
                          [
                            0.4444444444444444,
                            "#bd3786"
                          ],
                          [
                            0.5555555555555556,
                            "#d8576b"
                          ],
                          [
                            0.6666666666666666,
                            "#ed7953"
                          ],
                          [
                            0.7777777777777778,
                            "#fb9f3a"
                          ],
                          [
                            0.8888888888888888,
                            "#fdca26"
                          ],
                          [
                            1,
                            "#f0f921"
                          ]
                        ],
                        "type": "surface"
                      }
                    ],
                    "table": [
                      {
                        "cells": {
                          "fill": {
                            "color": "#EBF0F8"
                          },
                          "line": {
                            "color": "white"
                          }
                        },
                        "header": {
                          "fill": {
                            "color": "#C8D4E3"
                          },
                          "line": {
                            "color": "white"
                          }
                        },
                        "type": "table"
                      }
                    ]
                  },
                  "layout": {
                    "annotationdefaults": {
                      "arrowcolor": "#2a3f5f",
                      "arrowhead": 0,
                      "arrowwidth": 1
                    },
                    "autotypenumbers": "strict",
                    "coloraxis": {
                      "colorbar": {
                        "outlinewidth": 0,
                        "ticks": ""
                      }
                    },
                    "colorscale": {
                      "diverging": [
                        [
                          0,
                          "#8e0152"
                        ],
                        [
                          0.1,
                          "#c51b7d"
                        ],
                        [
                          0.2,
                          "#de77ae"
                        ],
                        [
                          0.3,
                          "#f1b6da"
                        ],
                        [
                          0.4,
                          "#fde0ef"
                        ],
                        [
                          0.5,
                          "#f7f7f7"
                        ],
                        [
                          0.6,
                          "#e6f5d0"
                        ],
                        [
                          0.7,
                          "#b8e186"
                        ],
                        [
                          0.8,
                          "#7fbc41"
                        ],
                        [
                          0.9,
                          "#4d9221"
                        ],
                        [
                          1,
                          "#276419"
                        ]
                      ],
                      "sequential": [
                        [
                          0,
                          "#0d0887"
                        ],
                        [
                          0.1111111111111111,
                          "#46039f"
                        ],
                        [
                          0.2222222222222222,
                          "#7201a8"
                        ],
                        [
                          0.3333333333333333,
                          "#9c179e"
                        ],
                        [
                          0.4444444444444444,
                          "#bd3786"
                        ],
                        [
                          0.5555555555555556,
                          "#d8576b"
                        ],
                        [
                          0.6666666666666666,
                          "#ed7953"
                        ],
                        [
                          0.7777777777777778,
                          "#fb9f3a"
                        ],
                        [
                          0.8888888888888888,
                          "#fdca26"
                        ],
                        [
                          1,
                          "#f0f921"
                        ]
                      ],
                      "sequentialminus": [
                        [
                          0,
                          "#0d0887"
                        ],
                        [
                          0.1111111111111111,
                          "#46039f"
                        ],
                        [
                          0.2222222222222222,
                          "#7201a8"
                        ],
                        [
                          0.3333333333333333,
                          "#9c179e"
                        ],
                        [
                          0.4444444444444444,
                          "#bd3786"
                        ],
                        [
                          0.5555555555555556,
                          "#d8576b"
                        ],
                        [
                          0.6666666666666666,
                          "#ed7953"
                        ],
                        [
                          0.7777777777777778,
                          "#fb9f3a"
                        ],
                        [
                          0.8888888888888888,
                          "#fdca26"
                        ],
                        [
                          1,
                          "#f0f921"
                        ]
                      ]
                    },
                    "colorway": [
                      "#636efa",
                      "#EF553B",
                      "#00cc96",
                      "#ab63fa",
                      "#FFA15A",
                      "#19d3f3",
                      "#FF6692",
                      "#B6E880",
                      "#FF97FF",
                      "#FECB52"
                    ],
                    "font": {
                      "color": "#2a3f5f"
                    },
                    "geo": {
                      "bgcolor": "white",
                      "lakecolor": "white",
                      "landcolor": "#E5ECF6",
                      "showlakes": true,
                      "showland": true,
                      "subunitcolor": "white"
                    },
                    "hoverlabel": {
                      "align": "left"
                    },
                    "hovermode": "closest",
                    "mapbox": {
                      "style": "light"
                    },
                    "paper_bgcolor": "white",
                    "plot_bgcolor": "#E5ECF6",
                    "polar": {
                      "angularaxis": {
                        "gridcolor": "white",
                        "linecolor": "white",
                        "ticks": ""
                      },
                      "bgcolor": "#E5ECF6",
                      "radialaxis": {
                        "gridcolor": "white",
                        "linecolor": "white",
                        "ticks": ""
                      }
                    },
                    "scene": {
                      "xaxis": {
                        "backgroundcolor": "#E5ECF6",
                        "gridcolor": "white",
                        "gridwidth": 2,
                        "linecolor": "white",
                        "showbackground": true,
                        "ticks": "",
                        "zerolinecolor": "white"
                      },
                      "yaxis": {
                        "backgroundcolor": "#E5ECF6",
                        "gridcolor": "white",
                        "gridwidth": 2,
                        "linecolor": "white",
                        "showbackground": true,
                        "ticks": "",
                        "zerolinecolor": "white"
                      },
                      "zaxis": {
                        "backgroundcolor": "#E5ECF6",
                        "gridcolor": "white",
                        "gridwidth": 2,
                        "linecolor": "white",
                        "showbackground": true,
                        "ticks": "",
                        "zerolinecolor": "white"
                      }
                    },
                    "shapedefaults": {
                      "line": {
                        "color": "#2a3f5f"
                      }
                    },
                    "ternary": {
                      "aaxis": {
                        "gridcolor": "white",
                        "linecolor": "white",
                        "ticks": ""
                      },
                      "baxis": {
                        "gridcolor": "white",
                        "linecolor": "white",
                        "ticks": ""
                      },
                      "bgcolor": "#E5ECF6",
                      "caxis": {
                        "gridcolor": "white",
                        "linecolor": "white",
                        "ticks": ""
                      }
                    },
                    "title": {
                      "x": 0.05
                    },
                    "xaxis": {
                      "automargin": true,
                      "gridcolor": "white",
                      "linecolor": "white",
                      "ticks": "",
                      "title": {
                        "standoff": 15
                      },
                      "zerolinecolor": "white",
                      "zerolinewidth": 2
                    },
                    "yaxis": {
                      "automargin": true,
                      "gridcolor": "white",
                      "linecolor": "white",
                      "ticks": "",
                      "title": {
                        "standoff": 15
                      },
                      "zerolinecolor": "white",
                      "zerolinewidth": 2
                    }
                  }
                },
                "title": {
                  "text": "Insurance Charges by Smoking Status"
                },
                "xaxis": {
                  "anchor": "y",
                  "domain": [
                    0,
                    1
                  ],
                  "title": {
                    "text": "Smoking Status"
                  }
                },
                "yaxis": {
                  "anchor": "x",
                  "domain": [
                    0,
                    1
                  ],
                  "title": {
                    "text": "Insurance Charges ($)"
                  }
                }
              }
            }
          },
          "metadata": {},
          "output_type": "display_data"
        },
        {
          "name": "stdout",
          "output_type": "stream",
          "text": [
            "\n",
            "Charges by Smoking Status:\n",
            "            mean    median  count\n",
            "smoker                           \n",
            "no       8434.27   7345.40   1064\n",
            "yes     32050.23  34456.35    274\n"
          ]
        }
      ],
      "source": [
        "# Box plot: Charges by Smoking Status\n",
        "fig = px.box(df, x='smoker', y='charges', \n",
        "             title='Insurance Charges by Smoking Status',\n",
        "             labels={'smoker': 'Smoking Status', 'charges': 'Insurance Charges ($)'})\n",
        "fig.show()\n",
        "\n",
        "# Calculate statistics\n",
        "smoker_stats = df.groupby('smoker')['charges'].agg(['mean', 'median', 'count']).round(2)\n",
        "print(\"\\nCharges by Smoking Status:\")\n",
        "print(smoker_stats)"
      ]
    },
    {
      "cell_type": "markdown",
      "metadata": {},
      "source": [
        "### BMI vs Charges Analysis\n",
        "\n",
        "Examine the relationship between BMI and insurance charges, colored by smoking status."
      ]
    },
    {
      "cell_type": "code",
      "execution_count": 9,
      "metadata": {},
      "outputs": [
        {
          "data": {
            "application/vnd.plotly.v1+json": {
              "config": {
                "plotlyServerURL": "https://plot.ly"
              },
              "data": [
                {
                  "customdata": [
                    [
                      19,
                      "female"
                    ],
                    [
                      62,
                      "female"
                    ],
                    [
                      27,
                      "male"
                    ],
                    [
                      30,
                      "male"
                    ],
                    [
                      34,
                      "female"
                    ],
                    [
                      31,
                      "male"
                    ],
                    [
                      22,
                      "male"
                    ],
                    [
                      28,
                      "male"
                    ],
                    [
                      35,
                      "male"
                    ],
                    [
                      60,
                      "male"
                    ],
                    [
                      36,
                      "male"
                    ],
                    [
                      48,
                      "male"
                    ],
                    [
                      36,
                      "male"
                    ],
                    [
                      58,
                      "male"
                    ],
                    [
                      18,
                      "male"
                    ],
                    [
                      53,
                      "female"
                    ],
                    [
                      20,
                      "female"
                    ],
                    [
                      28,
                      "male"
                    ],
                    [
                      27,
                      "female"
                    ],
                    [
                      22,
                      "male"
                    ],
                    [
                      37,
                      "female"
                    ],
                    [
                      45,
                      "male"
                    ],
                    [
                      57,
                      "female"
                    ],
                    [
                      59,
                      "male"
                    ],
                    [
                      64,
                      "female"
                    ],
                    [
                      56,
                      "male"
                    ],
                    [
                      38,
                      "male"
                    ],
                    [
                      61,
                      "female"
                    ],
                    [
                      20,
                      "male"
                    ],
                    [
                      63,
                      "male"
                    ],
                    [
                      29,
                      "female"
                    ],
                    [
                      44,
                      "male"
                    ],
                    [
                      19,
                      "female"
                    ],
                    [
                      32,
                      "female"
                    ],
                    [
                      34,
                      "male"
                    ],
                    [
                      30,
                      "male"
                    ],
                    [
                      46,
                      "male"
                    ],
                    [
                      42,
                      "female"
                    ],
                    [
                      48,
                      "male"
                    ],
                    [
                      18,
                      "male"
                    ],
                    [
                      30,
                      "male"
                    ],
                    [
                      42,
                      "female"
                    ],
                    [
                      18,
                      "female"
                    ],
                    [
                      63,
                      "female"
                    ],
                    [
                      36,
                      "male"
                    ],
                    [
                      27,
                      "female"
                    ],
                    [
                      35,
                      "male"
                    ],
                    [
                      19,
                      "male"
                    ],
                    [
                      42,
                      "male"
                    ],
                    [
                      40,
                      "female"
                    ],
                    [
                      19,
                      "male"
                    ],
                    [
                      23,
                      "female"
                    ],
                    [
                      63,
                      "female"
                    ],
                    [
                      18,
                      "male"
                    ],
                    [
                      63,
                      "female"
                    ],
                    [
                      54,
                      "male"
                    ],
                    [
                      50,
                      "male"
                    ],
                    [
                      56,
                      "male"
                    ],
                    [
                      19,
                      "male"
                    ],
                    [
                      20,
                      "female"
                    ],
                    [
                      52,
                      "male"
                    ],
                    [
                      19,
                      "male"
                    ],
                    [
                      46,
                      "male"
                    ],
                    [
                      40,
                      "male"
                    ],
                    [
                      50,
                      "male"
                    ],
                    [
                      40,
                      "female"
                    ],
                    [
                      54,
                      "male"
                    ],
                    [
                      59,
                      "female"
                    ],
                    [
                      25,
                      "male"
                    ],
                    [
                      19,
                      "male"
                    ],
                    [
                      47,
                      "male"
                    ],
                    [
                      31,
                      "male"
                    ],
                    [
                      53,
                      "female"
                    ],
                    [
                      43,
                      "male"
                    ],
                    [
                      27,
                      "female"
                    ],
                    [
                      34,
                      "male"
                    ],
                    [
                      45,
                      "male"
                    ],
                    [
                      64,
                      "female"
                    ],
                    [
                      61,
                      "female"
                    ],
                    [
                      52,
                      "male"
                    ],
                    [
                      50,
                      "male"
                    ],
                    [
                      19,
                      "female"
                    ],
                    [
                      26,
                      "male"
                    ],
                    [
                      23,
                      "female"
                    ],
                    [
                      39,
                      "female"
                    ],
                    [
                      24,
                      "male"
                    ],
                    [
                      27,
                      "female"
                    ],
                    [
                      55,
                      "male"
                    ],
                    [
                      44,
                      "female"
                    ],
                    [
                      26,
                      "female"
                    ],
                    [
                      36,
                      "female"
                    ],
                    [
                      63,
                      "female"
                    ],
                    [
                      64,
                      "male"
                    ],
                    [
                      61,
                      "male"
                    ],
                    [
                      40,
                      "male"
                    ],
                    [
                      33,
                      "female"
                    ],
                    [
                      56,
                      "male"
                    ],
                    [
                      42,
                      "male"
                    ],
                    [
                      30,
                      "female"
                    ],
                    [
                      54,
                      "male"
                    ],
                    [
                      61,
                      "male"
                    ],
                    [
                      24,
                      "male"
                    ],
                    [
                      44,
                      "female"
                    ],
                    [
                      21,
                      "male"
                    ],
                    [
                      29,
                      "male"
                    ],
                    [
                      51,
                      "male"
                    ],
                    [
                      19,
                      "male"
                    ],
                    [
                      39,
                      "male"
                    ],
                    [
                      42,
                      "male"
                    ],
                    [
                      57,
                      "male"
                    ],
                    [
                      54,
                      "female"
                    ],
                    [
                      49,
                      "male"
                    ],
                    [
                      43,
                      "female"
                    ],
                    [
                      35,
                      "female"
                    ],
                    [
                      48,
                      "male"
                    ],
                    [
                      31,
                      "female"
                    ],
                    [
                      34,
                      "female"
                    ],
                    [
                      21,
                      "female"
                    ],
                    [
                      19,
                      "female"
                    ],
                    [
                      59,
                      "female"
                    ],
                    [
                      30,
                      "male"
                    ],
                    [
                      47,
                      "female"
                    ],
                    [
                      49,
                      "male"
                    ],
                    [
                      19,
                      "female"
                    ],
                    [
                      37,
                      "male"
                    ],
                    [
                      18,
                      "male"
                    ],
                    [
                      44,
                      "female"
                    ],
                    [
                      39,
                      "male"
                    ],
                    [
                      42,
                      "male"
                    ],
                    [
                      52,
                      "female"
                    ],
                    [
                      64,
                      "female"
                    ],
                    [
                      43,
                      "male"
                    ],
                    [
                      40,
                      "female"
                    ],
                    [
                      62,
                      "male"
                    ],
                    [
                      44,
                      "female"
                    ],
                    [
                      60,
                      "male"
                    ],
                    [
                      39,
                      "male"
                    ],
                    [
                      27,
                      "male"
                    ],
                    [
                      41,
                      "male"
                    ],
                    [
                      51,
                      "female"
                    ],
                    [
                      30,
                      "female"
                    ],
                    [
                      29,
                      "female"
                    ],
                    [
                      35,
                      "male"
                    ],
                    [
                      37,
                      "female"
                    ],
                    [
                      23,
                      "male"
                    ],
                    [
                      29,
                      "male"
                    ],
                    [
                      27,
                      "male"
                    ],
                    [
                      53,
                      "male"
                    ],
                    [
                      37,
                      "female"
                    ],
                    [
                      47,
                      "female"
                    ],
                    [
                      18,
                      "male"
                    ],
                    [
                      33,
                      "male"
                    ],
                    [
                      19,
                      "female"
                    ],
                    [
                      30,
                      "male"
                    ],
                    [
                      50,
                      "female"
                    ],
                    [
                      53,
                      "male"
                    ],
                    [
                      27,
                      "male"
                    ],
                    [
                      33,
                      "male"
                    ],
                    [
                      18,
                      "female"
                    ],
                    [
                      47,
                      "female"
                    ],
                    [
                      33,
                      "female"
                    ],
                    [
                      56,
                      "male"
                    ],
                    [
                      36,
                      "male"
                    ],
                    [
                      41,
                      "male"
                    ],
                    [
                      23,
                      "female"
                    ],
                    [
                      57,
                      "female"
                    ],
                    [
                      60,
                      "female"
                    ],
                    [
                      37,
                      "female"
                    ],
                    [
                      46,
                      "female"
                    ],
                    [
                      49,
                      "female"
                    ],
                    [
                      48,
                      "female"
                    ],
                    [
                      25,
                      "male"
                    ],
                    [
                      37,
                      "female"
                    ],
                    [
                      51,
                      "female"
                    ],
                    [
                      32,
                      "male"
                    ],
                    [
                      57,
                      "male"
                    ],
                    [
                      64,
                      "female"
                    ],
                    [
                      47,
                      "male"
                    ],
                    [
                      43,
                      "female"
                    ],
                    [
                      60,
                      "male"
                    ],
                    [
                      32,
                      "female"
                    ],
                    [
                      18,
                      "male"
                    ],
                    [
                      43,
                      "female"
                    ],
                    [
                      45,
                      "male"
                    ],
                    [
                      37,
                      "male"
                    ],
                    [
                      25,
                      "male"
                    ],
                    [
                      51,
                      "male"
                    ],
                    [
                      44,
                      "male"
                    ],
                    [
                      34,
                      "male"
                    ],
                    [
                      54,
                      "male"
                    ],
                    [
                      43,
                      "male"
                    ],
                    [
                      51,
                      "male"
                    ],
                    [
                      29,
                      "male"
                    ],
                    [
                      31,
                      "male"
                    ],
                    [
                      24,
                      "female"
                    ],
                    [
                      27,
                      "female"
                    ],
                    [
                      30,
                      "male"
                    ],
                    [
                      24,
                      "male"
                    ],
                    [
                      47,
                      "male"
                    ],
                    [
                      43,
                      "male"
                    ],
                    [
                      22,
                      "female"
                    ],
                    [
                      47,
                      "male"
                    ],
                    [
                      19,
                      "male"
                    ],
                    [
                      46,
                      "female"
                    ],
                    [
                      55,
                      "female"
                    ],
                    [
                      18,
                      "male"
                    ],
                    [
                      22,
                      "male"
                    ],
                    [
                      45,
                      "female"
                    ],
                    [
                      35,
                      "female"
                    ],
                    [
                      20,
                      "male"
                    ],
                    [
                      43,
                      "female"
                    ],
                    [
                      22,
                      "male"
                    ],
                    [
                      49,
                      "male"
                    ],
                    [
                      47,
                      "male"
                    ],
                    [
                      59,
                      "male"
                    ],
                    [
                      37,
                      "male"
                    ],
                    [
                      28,
                      "male"
                    ],
                    [
                      39,
                      "female"
                    ],
                    [
                      47,
                      "male"
                    ],
                    [
                      22,
                      "female"
                    ],
                    [
                      51,
                      "female"
                    ],
                    [
                      33,
                      "female"
                    ],
                    [
                      38,
                      "male"
                    ],
                    [
                      48,
                      "female"
                    ],
                    [
                      25,
                      "male"
                    ],
                    [
                      33,
                      "male"
                    ],
                    [
                      23,
                      "female"
                    ],
                    [
                      53,
                      "female"
                    ],
                    [
                      23,
                      "female"
                    ],
                    [
                      19,
                      "female"
                    ],
                    [
                      60,
                      "male"
                    ],
                    [
                      43,
                      "female"
                    ],
                    [
                      19,
                      "male"
                    ],
                    [
                      18,
                      "male"
                    ],
                    [
                      43,
                      "female"
                    ],
                    [
                      52,
                      "female"
                    ],
                    [
                      31,
                      "male"
                    ],
                    [
                      23,
                      "female"
                    ],
                    [
                      20,
                      "male"
                    ],
                    [
                      43,
                      "female"
                    ],
                    [
                      19,
                      "female"
                    ],
                    [
                      18,
                      "female"
                    ],
                    [
                      36,
                      "male"
                    ],
                    [
                      37,
                      "female"
                    ],
                    [
                      46,
                      "female"
                    ],
                    [
                      20,
                      "female"
                    ],
                    [
                      52,
                      "male"
                    ],
                    [
                      20,
                      "female"
                    ],
                    [
                      52,
                      "male"
                    ],
                    [
                      64,
                      "male"
                    ],
                    [
                      32,
                      "male"
                    ],
                    [
                      24,
                      "male"
                    ],
                    [
                      20,
                      "male"
                    ],
                    [
                      64,
                      "male"
                    ],
                    [
                      24,
                      "male"
                    ],
                    [
                      26,
                      "male"
                    ],
                    [
                      39,
                      "male"
                    ],
                    [
                      47,
                      "female"
                    ],
                    [
                      18,
                      "female"
                    ],
                    [
                      61,
                      "male"
                    ],
                    [
                      20,
                      "male"
                    ],
                    [
                      19,
                      "male"
                    ],
                    [
                      45,
                      "male"
                    ],
                    [
                      62,
                      "male"
                    ],
                    [
                      43,
                      "male"
                    ],
                    [
                      42,
                      "male"
                    ],
                    [
                      29,
                      "female"
                    ],
                    [
                      32,
                      "male"
                    ],
                    [
                      25,
                      "female"
                    ],
                    [
                      19,
                      "female"
                    ],
                    [
                      30,
                      "female"
                    ],
                    [
                      62,
                      "male"
                    ],
                    [
                      42,
                      "female"
                    ],
                    [
                      61,
                      "female"
                    ]
                  ],
                  "hovertemplate": "smoker=yes<br>Body Mass Index (BMI)=%{x}<br>Insurance Charges ($)=%{y}<br>age=%{customdata[0]}<br>sex=%{customdata[1]}<extra></extra>",
                  "legendgroup": "yes",
                  "marker": {
                    "color": "#636efa",
                    "symbol": "circle"
                  },
                  "mode": "markers",
                  "name": "yes",
                  "showlegend": true,
                  "type": "scattergl",
                  "x": {
                    "bdata": "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",
                    "dtype": "f8"
                  },
                  "xaxis": "x",
                  "y": {
                    "bdata": "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",
                    "dtype": "f8"
                  },
                  "yaxis": "y"
                },
                {
                  "customdata": [
                    [
                      18,
                      "male"
                    ],
                    [
                      28,
                      "male"
                    ],
                    [
                      33,
                      "male"
                    ],
                    [
                      32,
                      "male"
                    ],
                    [
                      31,
                      "female"
                    ],
                    [
                      46,
                      "female"
                    ],
                    [
                      37,
                      "female"
                    ],
                    [
                      37,
                      "male"
                    ],
                    [
                      60,
                      "female"
                    ],
                    [
                      25,
                      "male"
                    ],
                    [
                      23,
                      "male"
                    ],
                    [
                      56,
                      "female"
                    ],
                    [
                      19,
                      "male"
                    ],
                    [
                      52,
                      "female"
                    ],
                    [
                      23,
                      "male"
                    ],
                    [
                      56,
                      "male"
                    ],
                    [
                      60,
                      "female"
                    ],
                    [
                      30,
                      "female"
                    ],
                    [
                      18,
                      "male"
                    ],
                    [
                      37,
                      "male"
                    ],
                    [
                      59,
                      "female"
                    ],
                    [
                      63,
                      "female"
                    ],
                    [
                      55,
                      "female"
                    ],
                    [
                      23,
                      "male"
                    ],
                    [
                      18,
                      "female"
                    ],
                    [
                      19,
                      "female"
                    ],
                    [
                      63,
                      "male"
                    ],
                    [
                      19,
                      "male"
                    ],
                    [
                      62,
                      "female"
                    ],
                    [
                      26,
                      "male"
                    ],
                    [
                      24,
                      "female"
                    ],
                    [
                      31,
                      "female"
                    ],
                    [
                      41,
                      "male"
                    ],
                    [
                      37,
                      "female"
                    ],
                    [
                      38,
                      "male"
                    ],
                    [
                      55,
                      "male"
                    ],
                    [
                      18,
                      "female"
                    ],
                    [
                      28,
                      "female"
                    ],
                    [
                      60,
                      "female"
                    ],
                    [
                      18,
                      "female"
                    ],
                    [
                      21,
                      "female"
                    ],
                    [
                      40,
                      "female"
                    ],
                    [
                      58,
                      "female"
                    ],
                    [
                      34,
                      "female"
                    ],
                    [
                      43,
                      "male"
                    ],
                    [
                      25,
                      "male"
                    ],
                    [
                      64,
                      "male"
                    ],
                    [
                      28,
                      "female"
                    ],
                    [
                      19,
                      "female"
                    ],
                    [
                      61,
                      "female"
                    ],
                    [
                      40,
                      "male"
                    ],
                    [
                      40,
                      "female"
                    ],
                    [
                      31,
                      "male"
                    ],
                    [
                      53,
                      "female"
                    ],
                    [
                      58,
                      "male"
                    ],
                    [
                      44,
                      "male"
                    ],
                    [
                      57,
                      "male"
                    ],
                    [
                      29,
                      "female"
                    ],
                    [
                      21,
                      "male"
                    ],
                    [
                      22,
                      "female"
                    ],
                    [
                      41,
                      "female"
                    ],
                    [
                      31,
                      "male"
                    ],
                    [
                      45,
                      "female"
                    ],
                    [
                      48,
                      "female"
                    ],
                    [
                      56,
                      "female"
                    ],
                    [
                      46,
                      "female"
                    ],
                    [
                      55,
                      "female"
                    ],
                    [
                      21,
                      "female"
                    ],
                    [
                      53,
                      "female"
                    ],
                    [
                      35,
                      "male"
                    ],
                    [
                      28,
                      "female"
                    ],
                    [
                      54,
                      "female"
                    ],
                    [
                      55,
                      "male"
                    ],
                    [
                      41,
                      "female"
                    ],
                    [
                      30,
                      "male"
                    ],
                    [
                      18,
                      "female"
                    ],
                    [
                      34,
                      "female"
                    ],
                    [
                      19,
                      "female"
                    ],
                    [
                      26,
                      "male"
                    ],
                    [
                      29,
                      "male"
                    ],
                    [
                      54,
                      "male"
                    ],
                    [
                      55,
                      "female"
                    ],
                    [
                      37,
                      "male"
                    ],
                    [
                      21,
                      "female"
                    ],
                    [
                      52,
                      "male"
                    ],
                    [
                      60,
                      "male"
                    ],
                    [
                      58,
                      "male"
                    ],
                    [
                      49,
                      "female"
                    ],
                    [
                      37,
                      "female"
                    ],
                    [
                      44,
                      "male"
                    ],
                    [
                      18,
                      "male"
                    ],
                    [
                      20,
                      "female"
                    ],
                    [
                      47,
                      "female"
                    ],
                    [
                      26,
                      "female"
                    ],
                    [
                      52,
                      "female"
                    ],
                    [
                      38,
                      "male"
                    ],
                    [
                      59,
                      "female"
                    ],
                    [
                      61,
                      "female"
                    ],
                    [
                      53,
                      "female"
                    ],
                    [
                      19,
                      "male"
                    ],
                    [
                      20,
                      "female"
                    ],
                    [
                      22,
                      "female"
                    ],
                    [
                      19,
                      "male"
                    ],
                    [
                      22,
                      "male"
                    ],
                    [
                      54,
                      "female"
                    ],
                    [
                      22,
                      "female"
                    ],
                    [
                      34,
                      "male"
                    ],
                    [
                      26,
                      "male"
                    ],
                    [
                      29,
                      "male"
                    ],
                    [
                      29,
                      "female"
                    ],
                    [
                      51,
                      "female"
                    ],
                    [
                      53,
                      "female"
                    ],
                    [
                      19,
                      "male"
                    ],
                    [
                      35,
                      "male"
                    ],
                    [
                      48,
                      "male"
                    ],
                    [
                      32,
                      "female"
                    ],
                    [
                      40,
                      "female"
                    ],
                    [
                      44,
                      "male"
                    ],
                    [
                      50,
                      "female"
                    ],
                    [
                      54,
                      "male"
                    ],
                    [
                      32,
                      "female"
                    ],
                    [
                      37,
                      "male"
                    ],
                    [
                      47,
                      "male"
                    ],
                    [
                      20,
                      "female"
                    ],
                    [
                      32,
                      "female"
                    ],
                    [
                      19,
                      "female"
                    ],
                    [
                      27,
                      "male"
                    ],
                    [
                      63,
                      "male"
                    ],
                    [
                      49,
                      "male"
                    ],
                    [
                      18,
                      "male"
                    ],
                    [
                      35,
                      "female"
                    ],
                    [
                      24,
                      "female"
                    ],
                    [
                      38,
                      "male"
                    ],
                    [
                      54,
                      "male"
                    ],
                    [
                      46,
                      "female"
                    ],
                    [
                      41,
                      "female"
                    ],
                    [
                      58,
                      "male"
                    ],
                    [
                      18,
                      "female"
                    ],
                    [
                      22,
                      "male"
                    ],
                    [
                      44,
                      "female"
                    ],
                    [
                      44,
                      "male"
                    ],
                    [
                      26,
                      "female"
                    ],
                    [
                      30,
                      "female"
                    ],
                    [
                      41,
                      "female"
                    ],
                    [
                      29,
                      "female"
                    ],
                    [
                      61,
                      "male"
                    ],
                    [
                      36,
                      "female"
                    ],
                    [
                      25,
                      "male"
                    ],
                    [
                      56,
                      "female"
                    ],
                    [
                      18,
                      "male"
                    ],
                    [
                      19,
                      "male"
                    ],
                    [
                      39,
                      "female"
                    ],
                    [
                      45,
                      "female"
                    ],
                    [
                      51,
                      "female"
                    ],
                    [
                      64,
                      "female"
                    ],
                    [
                      19,
                      "female"
                    ],
                    [
                      48,
                      "female"
                    ],
                    [
                      60,
                      "female"
                    ],
                    [
                      46,
                      "male"
                    ],
                    [
                      28,
                      "female"
                    ],
                    [
                      59,
                      "male"
                    ],
                    [
                      63,
                      "female"
                    ],
                    [
                      40,
                      "male"
                    ],
                    [
                      20,
                      "male"
                    ],
                    [
                      40,
                      "male"
                    ],
                    [
                      24,
                      "male"
                    ],
                    [
                      34,
                      "female"
                    ],
                    [
                      45,
                      "female"
                    ],
                    [
                      41,
                      "female"
                    ],
                    [
                      53,
                      "female"
                    ],
                    [
                      27,
                      "male"
                    ],
                    [
                      26,
                      "female"
                    ],
                    [
                      24,
                      "female"
                    ],
                    [
                      34,
                      "female"
                    ],
                    [
                      53,
                      "female"
                    ],
                    [
                      32,
                      "male"
                    ],
                    [
                      55,
                      "male"
                    ],
                    [
                      28,
                      "male"
                    ],
                    [
                      58,
                      "female"
                    ],
                    [
                      41,
                      "female"
                    ],
                    [
                      47,
                      "male"
                    ],
                    [
                      42,
                      "female"
                    ],
                    [
                      59,
                      "female"
                    ],
                    [
                      19,
                      "female"
                    ],
                    [
                      59,
                      "male"
                    ],
                    [
                      39,
                      "male"
                    ],
                    [
                      18,
                      "female"
                    ],
                    [
                      31,
                      "male"
                    ],
                    [
                      44,
                      "male"
                    ],
                    [
                      33,
                      "female"
                    ],
                    [
                      55,
                      "female"
                    ],
                    [
                      40,
                      "male"
                    ],
                    [
                      54,
                      "male"
                    ],
                    [
                      60,
                      "female"
                    ],
                    [
                      24,
                      "male"
                    ],
                    [
                      19,
                      "male"
                    ],
                    [
                      29,
                      "male"
                    ],
                    [
                      27,
                      "male"
                    ],
                    [
                      55,
                      "female"
                    ],
                    [
                      38,
                      "female"
                    ],
                    [
                      51,
                      "male"
                    ],
                    [
                      58,
                      "female"
                    ],
                    [
                      53,
                      "female"
                    ],
                    [
                      59,
                      "female"
                    ],
                    [
                      45,
                      "male"
                    ],
                    [
                      49,
                      "male"
                    ],
                    [
                      18,
                      "male"
                    ],
                    [
                      41,
                      "male"
                    ],
                    [
                      50,
                      "male"
                    ],
                    [
                      25,
                      "male"
                    ],
                    [
                      47,
                      "female"
                    ],
                    [
                      19,
                      "male"
                    ],
                    [
                      22,
                      "female"
                    ],
                    [
                      59,
                      "male"
                    ],
                    [
                      51,
                      "female"
                    ],
                    [
                      30,
                      "male"
                    ],
                    [
                      55,
                      "female"
                    ],
                    [
                      52,
                      "female"
                    ],
                    [
                      46,
                      "male"
                    ],
                    [
                      46,
                      "female"
                    ],
                    [
                      63,
                      "female"
                    ],
                    [
                      52,
                      "male"
                    ],
                    [
                      28,
                      "female"
                    ],
                    [
                      29,
                      "male"
                    ],
                    [
                      22,
                      "female"
                    ],
                    [
                      25,
                      "male"
                    ],
                    [
                      18,
                      "male"
                    ],
                    [
                      48,
                      "female"
                    ],
                    [
                      36,
                      "male"
                    ],
                    [
                      56,
                      "female"
                    ],
                    [
                      28,
                      "female"
                    ],
                    [
                      57,
                      "female"
                    ],
                    [
                      29,
                      "male"
                    ],
                    [
                      28,
                      "female"
                    ],
                    [
                      30,
                      "female"
                    ],
                    [
                      58,
                      "male"
                    ],
                    [
                      41,
                      "female"
                    ],
                    [
                      50,
                      "male"
                    ],
                    [
                      19,
                      "female"
                    ],
                    [
                      49,
                      "male"
                    ],
                    [
                      52,
                      "male"
                    ],
                    [
                      50,
                      "male"
                    ],
                    [
                      54,
                      "male"
                    ],
                    [
                      44,
                      "female"
                    ],
                    [
                      32,
                      "male"
                    ],
                    [
                      34,
                      "male"
                    ],
                    [
                      26,
                      "female"
                    ],
                    [
                      57,
                      "male"
                    ],
                    [
                      29,
                      "male"
                    ],
                    [
                      40,
                      "male"
                    ],
                    [
                      27,
                      "female"
                    ],
                    [
                      52,
                      "male"
                    ],
                    [
                      61,
                      "female"
                    ],
                    [
                      56,
                      "female"
                    ],
                    [
                      43,
                      "female"
                    ],
                    [
                      64,
                      "male"
                    ],
                    [
                      60,
                      "male"
                    ],
                    [
                      62,
                      "male"
                    ],
                    [
                      46,
                      "female"
                    ],
                    [
                      24,
                      "female"
                    ],
                    [
                      62,
                      "male"
                    ],
                    [
                      60,
                      "female"
                    ],
                    [
                      63,
                      "male"
                    ],
                    [
                      49,
                      "female"
                    ],
                    [
                      34,
                      "female"
                    ],
                    [
                      33,
                      "male"
                    ],
                    [
                      46,
                      "male"
                    ],
                    [
                      36,
                      "female"
                    ],
                    [
                      19,
                      "male"
                    ],
                    [
                      57,
                      "female"
                    ],
                    [
                      50,
                      "female"
                    ],
                    [
                      30,
                      "female"
                    ],
                    [
                      33,
                      "male"
                    ],
                    [
                      18,
                      "female"
                    ],
                    [
                      46,
                      "male"
                    ],
                    [
                      46,
                      "male"
                    ],
                    [
                      47,
                      "male"
                    ],
                    [
                      23,
                      "male"
                    ],
                    [
                      18,
                      "female"
                    ],
                    [
                      48,
                      "female"
                    ],
                    [
                      35,
                      "male"
                    ],
                    [
                      21,
                      "female"
                    ],
                    [
                      21,
                      "female"
                    ],
                    [
                      49,
                      "female"
                    ],
                    [
                      56,
                      "female"
                    ],
                    [
                      42,
                      "female"
                    ],
                    [
                      44,
                      "male"
                    ],
                    [
                      18,
                      "male"
                    ],
                    [
                      61,
                      "female"
                    ],
                    [
                      57,
                      "female"
                    ],
                    [
                      42,
                      "female"
                    ],
                    [
                      20,
                      "male"
                    ],
                    [
                      64,
                      "female"
                    ],
                    [
                      62,
                      "male"
                    ],
                    [
                      55,
                      "male"
                    ],
                    [
                      35,
                      "female"
                    ],
                    [
                      44,
                      "male"
                    ],
                    [
                      19,
                      "male"
                    ],
                    [
                      58,
                      "female"
                    ],
                    [
                      50,
                      "male"
                    ],
                    [
                      26,
                      "female"
                    ],
                    [
                      24,
                      "female"
                    ],
                    [
                      48,
                      "male"
                    ],
                    [
                      19,
                      "female"
                    ],
                    [
                      48,
                      "male"
                    ],
                    [
                      49,
                      "male"
                    ],
                    [
                      46,
                      "female"
                    ],
                    [
                      46,
                      "male"
                    ],
                    [
                      43,
                      "female"
                    ],
                    [
                      21,
                      "male"
                    ],
                    [
                      64,
                      "male"
                    ],
                    [
                      18,
                      "female"
                    ],
                    [
                      51,
                      "female"
                    ],
                    [
                      47,
                      "male"
                    ],
                    [
                      64,
                      "female"
                    ],
                    [
                      49,
                      "male"
                    ],
                    [
                      31,
                      "male"
                    ],
                    [
                      52,
                      "female"
                    ],
                    [
                      33,
                      "female"
                    ],
                    [
                      47,
                      "female"
                    ],
                    [
                      38,
                      "male"
                    ],
                    [
                      32,
                      "male"
                    ],
                    [
                      19,
                      "male"
                    ],
                    [
                      25,
                      "male"
                    ],
                    [
                      19,
                      "female"
                    ],
                    [
                      43,
                      "female"
                    ],
                    [
                      52,
                      "male"
                    ],
                    [
                      64,
                      "male"
                    ],
                    [
                      25,
                      "male"
                    ],
                    [
                      48,
                      "male"
                    ],
                    [
                      45,
                      "male"
                    ],
                    [
                      38,
                      "female"
                    ],
                    [
                      18,
                      "female"
                    ],
                    [
                      21,
                      "female"
                    ],
                    [
                      27,
                      "female"
                    ],
                    [
                      19,
                      "male"
                    ],
                    [
                      29,
                      "female"
                    ],
                    [
                      42,
                      "male"
                    ],
                    [
                      60,
                      "female"
                    ],
                    [
                      31,
                      "male"
                    ],
                    [
                      60,
                      "male"
                    ],
                    [
                      22,
                      "male"
                    ],
                    [
                      35,
                      "male"
                    ],
                    [
                      52,
                      "female"
                    ],
                    [
                      26,
                      "male"
                    ],
                    [
                      31,
                      "female"
                    ],
                    [
                      18,
                      "male"
                    ],
                    [
                      59,
                      "female"
                    ],
                    [
                      45,
                      "female"
                    ],
                    [
                      60,
                      "male"
                    ],
                    [
                      56,
                      "female"
                    ],
                    [
                      40,
                      "female"
                    ],
                    [
                      35,
                      "male"
                    ],
                    [
                      39,
                      "male"
                    ],
                    [
                      30,
                      "male"
                    ],
                    [
                      24,
                      "male"
                    ],
                    [
                      20,
                      "male"
                    ],
                    [
                      32,
                      "male"
                    ],
                    [
                      59,
                      "male"
                    ],
                    [
                      55,
                      "female"
                    ],
                    [
                      57,
                      "female"
                    ],
                    [
                      56,
                      "male"
                    ],
                    [
                      40,
                      "female"
                    ],
                    [
                      49,
                      "female"
                    ],
                    [
                      62,
                      "female"
                    ],
                    [
                      56,
                      "male"
                    ],
                    [
                      19,
                      "male"
                    ],
                    [
                      60,
                      "female"
                    ],
                    [
                      56,
                      "female"
                    ],
                    [
                      28,
                      "female"
                    ],
                    [
                      18,
                      "female"
                    ],
                    [
                      27,
                      "male"
                    ],
                    [
                      18,
                      "female"
                    ],
                    [
                      19,
                      "female"
                    ],
                    [
                      47,
                      "female"
                    ],
                    [
                      25,
                      "male"
                    ],
                    [
                      21,
                      "male"
                    ],
                    [
                      23,
                      "male"
                    ],
                    [
                      63,
                      "male"
                    ],
                    [
                      49,
                      "male"
                    ],
                    [
                      18,
                      "female"
                    ],
                    [
                      51,
                      "female"
                    ],
                    [
                      48,
                      "male"
                    ],
                    [
                      31,
                      "female"
                    ],
                    [
                      54,
                      "female"
                    ],
                    [
                      19,
                      "male"
                    ],
                    [
                      53,
                      "male"
                    ],
                    [
                      19,
                      "female"
                    ],
                    [
                      61,
                      "female"
                    ],
                    [
                      18,
                      "female"
                    ],
                    [
                      61,
                      "male"
                    ],
                    [
                      20,
                      "male"
                    ],
                    [
                      31,
                      "female"
                    ],
                    [
                      45,
                      "male"
                    ],
                    [
                      44,
                      "female"
                    ],
                    [
                      62,
                      "female"
                    ],
                    [
                      43,
                      "male"
                    ],
                    [
                      38,
                      "female"
                    ],
                    [
                      37,
                      "male"
                    ],
                    [
                      22,
                      "male"
                    ],
                    [
                      21,
                      "male"
                    ],
                    [
                      24,
                      "female"
                    ],
                    [
                      57,
                      "female"
                    ],
                    [
                      56,
                      "male"
                    ],
                    [
                      27,
                      "male"
                    ],
                    [
                      51,
                      "male"
                    ],
                    [
                      19,
                      "male"
                    ],
                    [
                      58,
                      "male"
                    ],
                    [
                      20,
                      "male"
                    ],
                    [
                      45,
                      "male"
                    ],
                    [
                      35,
                      "female"
                    ],
                    [
                      31,
                      "male"
                    ],
                    [
                      50,
                      "female"
                    ],
                    [
                      32,
                      "female"
                    ],
                    [
                      51,
                      "female"
                    ],
                    [
                      38,
                      "female"
                    ],
                    [
                      18,
                      "female"
                    ],
                    [
                      19,
                      "female"
                    ],
                    [
                      51,
                      "female"
                    ],
                    [
                      46,
                      "male"
                    ],
                    [
                      18,
                      "male"
                    ],
                    [
                      62,
                      "female"
                    ],
                    [
                      59,
                      "male"
                    ],
                    [
                      37,
                      "male"
                    ],
                    [
                      64,
                      "male"
                    ],
                    [
                      38,
                      "male"
                    ],
                    [
                      33,
                      "female"
                    ],
                    [
                      46,
                      "female"
                    ],
                    [
                      46,
                      "female"
                    ],
                    [
                      53,
                      "male"
                    ],
                    [
                      34,
                      "female"
                    ],
                    [
                      20,
                      "female"
                    ],
                    [
                      63,
                      "female"
                    ],
                    [
                      54,
                      "male"
                    ],
                    [
                      28,
                      "male"
                    ],
                    [
                      54,
                      "female"
                    ],
                    [
                      25,
                      "female"
                    ],
                    [
                      63,
                      "male"
                    ],
                    [
                      32,
                      "female"
                    ],
                    [
                      62,
                      "male"
                    ],
                    [
                      52,
                      "female"
                    ],
                    [
                      25,
                      "female"
                    ],
                    [
                      28,
                      "male"
                    ],
                    [
                      46,
                      "male"
                    ],
                    [
                      34,
                      "male"
                    ],
                    [
                      19,
                      "male"
                    ],
                    [
                      46,
                      "female"
                    ],
                    [
                      54,
                      "female"
                    ],
                    [
                      27,
                      "male"
                    ],
                    [
                      50,
                      "male"
                    ],
                    [
                      18,
                      "female"
                    ],
                    [
                      19,
                      "female"
                    ],
                    [
                      38,
                      "female"
                    ],
                    [
                      41,
                      "male"
                    ],
                    [
                      49,
                      "female"
                    ],
                    [
                      31,
                      "female"
                    ],
                    [
                      18,
                      "female"
                    ],
                    [
                      30,
                      "female"
                    ],
                    [
                      62,
                      "female"
                    ],
                    [
                      57,
                      "female"
                    ],
                    [
                      58,
                      "female"
                    ],
                    [
                      22,
                      "male"
                    ],
                    [
                      52,
                      "male"
                    ],
                    [
                      25,
                      "female"
                    ],
                    [
                      59,
                      "male"
                    ],
                    [
                      19,
                      "male"
                    ],
                    [
                      39,
                      "male"
                    ],
                    [
                      32,
                      "female"
                    ],
                    [
                      19,
                      "male"
                    ],
                    [
                      33,
                      "female"
                    ],
                    [
                      21,
                      "male"
                    ],
                    [
                      61,
                      "female"
                    ],
                    [
                      38,
                      "female"
                    ],
                    [
                      58,
                      "female"
                    ],
                    [
                      47,
                      "male"
                    ],
                    [
                      20,
                      "male"
                    ],
                    [
                      41,
                      "male"
                    ],
                    [
                      46,
                      "female"
                    ],
                    [
                      42,
                      "female"
                    ],
                    [
                      34,
                      "female"
                    ],
                    [
                      43,
                      "male"
                    ],
                    [
                      52,
                      "female"
                    ],
                    [
                      18,
                      "female"
                    ],
                    [
                      51,
                      "male"
                    ],
                    [
                      56,
                      "female"
                    ],
                    [
                      64,
                      "female"
                    ],
                    [
                      51,
                      "female"
                    ],
                    [
                      27,
                      "female"
                    ],
                    [
                      28,
                      "male"
                    ],
                    [
                      47,
                      "female"
                    ],
                    [
                      38,
                      "female"
                    ],
                    [
                      18,
                      "female"
                    ],
                    [
                      34,
                      "female"
                    ],
                    [
                      20,
                      "female"
                    ],
                    [
                      56,
                      "female"
                    ],
                    [
                      55,
                      "female"
                    ],
                    [
                      30,
                      "male"
                    ],
                    [
                      49,
                      "female"
                    ],
                    [
                      59,
                      "male"
                    ],
                    [
                      29,
                      "female"
                    ],
                    [
                      36,
                      "male"
                    ],
                    [
                      33,
                      "male"
                    ],
                    [
                      58,
                      "male"
                    ],
                    [
                      53,
                      "male"
                    ],
                    [
                      24,
                      "male"
                    ],
                    [
                      29,
                      "female"
                    ],
                    [
                      40,
                      "male"
                    ],
                    [
                      51,
                      "male"
                    ],
                    [
                      64,
                      "male"
                    ],
                    [
                      19,
                      "female"
                    ],
                    [
                      35,
                      "female"
                    ],
                    [
                      56,
                      "male"
                    ],
                    [
                      33,
                      "male"
                    ],
                    [
                      61,
                      "male"
                    ],
                    [
                      23,
                      "female"
                    ],
                    [
                      43,
                      "male"
                    ],
                    [
                      48,
                      "male"
                    ],
                    [
                      39,
                      "male"
                    ],
                    [
                      40,
                      "female"
                    ],
                    [
                      18,
                      "male"
                    ],
                    [
                      58,
                      "female"
                    ],
                    [
                      49,
                      "female"
                    ],
                    [
                      53,
                      "female"
                    ],
                    [
                      48,
                      "female"
                    ],
                    [
                      45,
                      "female"
                    ],
                    [
                      59,
                      "female"
                    ],
                    [
                      26,
                      "female"
                    ],
                    [
                      27,
                      "male"
                    ],
                    [
                      48,
                      "female"
                    ],
                    [
                      57,
                      "female"
                    ],
                    [
                      37,
                      "male"
                    ],
                    [
                      57,
                      "female"
                    ],
                    [
                      32,
                      "female"
                    ],
                    [
                      18,
                      "male"
                    ],
                    [
                      49,
                      "male"
                    ],
                    [
                      40,
                      "female"
                    ],
                    [
                      30,
                      "male"
                    ],
                    [
                      29,
                      "female"
                    ],
                    [
                      36,
                      "male"
                    ],
                    [
                      41,
                      "female"
                    ],
                    [
                      45,
                      "male"
                    ],
                    [
                      55,
                      "female"
                    ],
                    [
                      56,
                      "male"
                    ],
                    [
                      49,
                      "female"
                    ],
                    [
                      21,
                      "female"
                    ],
                    [
                      19,
                      "male"
                    ],
                    [
                      53,
                      "male"
                    ],
                    [
                      33,
                      "female"
                    ],
                    [
                      53,
                      "male"
                    ],
                    [
                      42,
                      "male"
                    ],
                    [
                      40,
                      "male"
                    ],
                    [
                      47,
                      "female"
                    ],
                    [
                      21,
                      "male"
                    ],
                    [
                      47,
                      "male"
                    ],
                    [
                      20,
                      "male"
                    ],
                    [
                      24,
                      "male"
                    ],
                    [
                      27,
                      "female"
                    ],
                    [
                      26,
                      "female"
                    ],
                    [
                      53,
                      "female"
                    ],
                    [
                      56,
                      "male"
                    ],
                    [
                      23,
                      "female"
                    ],
                    [
                      21,
                      "female"
                    ],
                    [
                      50,
                      "female"
                    ],
                    [
                      53,
                      "male"
                    ],
                    [
                      34,
                      "female"
                    ],
                    [
                      47,
                      "female"
                    ],
                    [
                      33,
                      "female"
                    ],
                    [
                      49,
                      "male"
                    ],
                    [
                      31,
                      "female"
                    ],
                    [
                      36,
                      "female"
                    ],
                    [
                      18,
                      "male"
                    ],
                    [
                      50,
                      "female"
                    ],
                    [
                      43,
                      "female"
                    ],
                    [
                      20,
                      "male"
                    ],
                    [
                      24,
                      "female"
                    ],
                    [
                      60,
                      "male"
                    ],
                    [
                      49,
                      "female"
                    ],
                    [
                      60,
                      "male"
                    ],
                    [
                      51,
                      "female"
                    ],
                    [
                      58,
                      "female"
                    ],
                    [
                      51,
                      "female"
                    ],
                    [
                      53,
                      "male"
                    ],
                    [
                      62,
                      "male"
                    ],
                    [
                      19,
                      "male"
                    ],
                    [
                      50,
                      "female"
                    ],
                    [
                      41,
                      "male"
                    ],
                    [
                      18,
                      "female"
                    ],
                    [
                      41,
                      "female"
                    ],
                    [
                      53,
                      "male"
                    ],
                    [
                      24,
                      "female"
                    ],
                    [
                      48,
                      "female"
                    ],
                    [
                      59,
                      "female"
                    ],
                    [
                      49,
                      "female"
                    ],
                    [
                      26,
                      "male"
                    ],
                    [
                      45,
                      "male"
                    ],
                    [
                      31,
                      "female"
                    ],
                    [
                      50,
                      "male"
                    ],
                    [
                      50,
                      "female"
                    ],
                    [
                      34,
                      "male"
                    ],
                    [
                      19,
                      "male"
                    ],
                    [
                      47,
                      "female"
                    ],
                    [
                      28,
                      "male"
                    ],
                    [
                      21,
                      "male"
                    ],
                    [
                      64,
                      "male"
                    ],
                    [
                      58,
                      "female"
                    ],
                    [
                      24,
                      "male"
                    ],
                    [
                      31,
                      "male"
                    ],
                    [
                      39,
                      "female"
                    ],
                    [
                      30,
                      "male"
                    ],
                    [
                      22,
                      "female"
                    ],
                    [
                      23,
                      "male"
                    ],
                    [
                      27,
                      "male"
                    ],
                    [
                      45,
                      "female"
                    ],
                    [
                      57,
                      "female"
                    ],
                    [
                      47,
                      "male"
                    ],
                    [
                      42,
                      "female"
                    ],
                    [
                      64,
                      "female"
                    ],
                    [
                      38,
                      "female"
                    ],
                    [
                      61,
                      "male"
                    ],
                    [
                      53,
                      "female"
                    ],
                    [
                      44,
                      "female"
                    ],
                    [
                      41,
                      "male"
                    ],
                    [
                      51,
                      "male"
                    ],
                    [
                      40,
                      "male"
                    ],
                    [
                      45,
                      "male"
                    ],
                    [
                      35,
                      "male"
                    ],
                    [
                      53,
                      "male"
                    ],
                    [
                      18,
                      "male"
                    ],
                    [
                      51,
                      "male"
                    ],
                    [
                      31,
                      "female"
                    ],
                    [
                      35,
                      "female"
                    ],
                    [
                      60,
                      "male"
                    ],
                    [
                      21,
                      "male"
                    ],
                    [
                      29,
                      "male"
                    ],
                    [
                      62,
                      "female"
                    ],
                    [
                      39,
                      "female"
                    ],
                    [
                      19,
                      "male"
                    ],
                    [
                      22,
                      "female"
                    ],
                    [
                      39,
                      "female"
                    ],
                    [
                      30,
                      "male"
                    ],
                    [
                      30,
                      "female"
                    ],
                    [
                      58,
                      "female"
                    ],
                    [
                      42,
                      "female"
                    ],
                    [
                      64,
                      "female"
                    ],
                    [
                      21,
                      "male"
                    ],
                    [
                      23,
                      "male"
                    ],
                    [
                      45,
                      "female"
                    ],
                    [
                      40,
                      "female"
                    ],
                    [
                      19,
                      "female"
                    ],
                    [
                      18,
                      "male"
                    ],
                    [
                      25,
                      "male"
                    ],
                    [
                      46,
                      "female"
                    ],
                    [
                      33,
                      "female"
                    ],
                    [
                      54,
                      "male"
                    ],
                    [
                      28,
                      "male"
                    ],
                    [
                      36,
                      "male"
                    ],
                    [
                      20,
                      "female"
                    ],
                    [
                      24,
                      "female"
                    ],
                    [
                      23,
                      "male"
                    ],
                    [
                      45,
                      "male"
                    ],
                    [
                      26,
                      "male"
                    ],
                    [
                      18,
                      "female"
                    ],
                    [
                      44,
                      "female"
                    ],
                    [
                      60,
                      "male"
                    ],
                    [
                      64,
                      "female"
                    ],
                    [
                      39,
                      "male"
                    ],
                    [
                      63,
                      "male"
                    ],
                    [
                      36,
                      "female"
                    ],
                    [
                      28,
                      "female"
                    ],
                    [
                      58,
                      "male"
                    ],
                    [
                      36,
                      "male"
                    ],
                    [
                      42,
                      "male"
                    ],
                    [
                      36,
                      "male"
                    ],
                    [
                      56,
                      "female"
                    ],
                    [
                      35,
                      "female"
                    ],
                    [
                      59,
                      "female"
                    ],
                    [
                      21,
                      "male"
                    ],
                    [
                      59,
                      "male"
                    ],
                    [
                      53,
                      "male"
                    ],
                    [
                      51,
                      "female"
                    ],
                    [
                      23,
                      "male"
                    ],
                    [
                      27,
                      "female"
                    ],
                    [
                      55,
                      "male"
                    ],
                    [
                      61,
                      "male"
                    ],
                    [
                      53,
                      "female"
                    ],
                    [
                      20,
                      "female"
                    ],
                    [
                      25,
                      "female"
                    ],
                    [
                      57,
                      "male"
                    ],
                    [
                      38,
                      "female"
                    ],
                    [
                      55,
                      "female"
                    ],
                    [
                      36,
                      "female"
                    ],
                    [
                      51,
                      "male"
                    ],
                    [
                      40,
                      "male"
                    ],
                    [
                      18,
                      "male"
                    ],
                    [
                      57,
                      "male"
                    ],
                    [
                      61,
                      "male"
                    ],
                    [
                      25,
                      "female"
                    ],
                    [
                      50,
                      "male"
                    ],
                    [
                      26,
                      "female"
                    ],
                    [
                      42,
                      "male"
                    ],
                    [
                      43,
                      "male"
                    ],
                    [
                      44,
                      "male"
                    ],
                    [
                      23,
                      "female"
                    ],
                    [
                      49,
                      "female"
                    ],
                    [
                      33,
                      "male"
                    ],
                    [
                      41,
                      "male"
                    ],
                    [
                      37,
                      "female"
                    ],
                    [
                      22,
                      "male"
                    ],
                    [
                      23,
                      "male"
                    ],
                    [
                      21,
                      "female"
                    ],
                    [
                      25,
                      "male"
                    ],
                    [
                      36,
                      "female"
                    ],
                    [
                      22,
                      "male"
                    ],
                    [
                      57,
                      "male"
                    ],
                    [
                      36,
                      "female"
                    ],
                    [
                      54,
                      "male"
                    ],
                    [
                      62,
                      "male"
                    ],
                    [
                      61,
                      "female"
                    ],
                    [
                      19,
                      "male"
                    ],
                    [
                      18,
                      "female"
                    ],
                    [
                      19,
                      "female"
                    ],
                    [
                      49,
                      "male"
                    ],
                    [
                      26,
                      "male"
                    ],
                    [
                      49,
                      "male"
                    ],
                    [
                      60,
                      "female"
                    ],
                    [
                      26,
                      "female"
                    ],
                    [
                      27,
                      "male"
                    ],
                    [
                      44,
                      "female"
                    ],
                    [
                      63,
                      "male"
                    ],
                    [
                      22,
                      "male"
                    ],
                    [
                      59,
                      "female"
                    ],
                    [
                      44,
                      "female"
                    ],
                    [
                      33,
                      "male"
                    ],
                    [
                      24,
                      "female"
                    ],
                    [
                      61,
                      "female"
                    ],
                    [
                      35,
                      "female"
                    ],
                    [
                      62,
                      "female"
                    ],
                    [
                      62,
                      "female"
                    ],
                    [
                      38,
                      "male"
                    ],
                    [
                      34,
                      "male"
                    ],
                    [
                      43,
                      "male"
                    ],
                    [
                      50,
                      "male"
                    ],
                    [
                      19,
                      "female"
                    ],
                    [
                      57,
                      "female"
                    ],
                    [
                      62,
                      "female"
                    ],
                    [
                      41,
                      "male"
                    ],
                    [
                      26,
                      "male"
                    ],
                    [
                      39,
                      "female"
                    ],
                    [
                      46,
                      "male"
                    ],
                    [
                      45,
                      "female"
                    ],
                    [
                      32,
                      "male"
                    ],
                    [
                      59,
                      "female"
                    ],
                    [
                      44,
                      "male"
                    ],
                    [
                      39,
                      "female"
                    ],
                    [
                      18,
                      "male"
                    ],
                    [
                      53,
                      "male"
                    ],
                    [
                      18,
                      "male"
                    ],
                    [
                      50,
                      "female"
                    ],
                    [
                      18,
                      "female"
                    ],
                    [
                      19,
                      "male"
                    ],
                    [
                      62,
                      "male"
                    ],
                    [
                      56,
                      "female"
                    ],
                    [
                      42,
                      "male"
                    ],
                    [
                      42,
                      "male"
                    ],
                    [
                      57,
                      "male"
                    ],
                    [
                      30,
                      "female"
                    ],
                    [
                      31,
                      "male"
                    ],
                    [
                      24,
                      "male"
                    ],
                    [
                      48,
                      "male"
                    ],
                    [
                      19,
                      "female"
                    ],
                    [
                      29,
                      "female"
                    ],
                    [
                      63,
                      "female"
                    ],
                    [
                      46,
                      "male"
                    ],
                    [
                      52,
                      "male"
                    ],
                    [
                      35,
                      "male"
                    ],
                    [
                      44,
                      "male"
                    ],
                    [
                      21,
                      "male"
                    ],
                    [
                      39,
                      "female"
                    ],
                    [
                      50,
                      "female"
                    ],
                    [
                      34,
                      "female"
                    ],
                    [
                      22,
                      "female"
                    ],
                    [
                      19,
                      "female"
                    ],
                    [
                      26,
                      "male"
                    ],
                    [
                      48,
                      "male"
                    ],
                    [
                      26,
                      "male"
                    ],
                    [
                      45,
                      "female"
                    ],
                    [
                      36,
                      "female"
                    ],
                    [
                      54,
                      "male"
                    ],
                    [
                      34,
                      "male"
                    ],
                    [
                      27,
                      "female"
                    ],
                    [
                      20,
                      "male"
                    ],
                    [
                      44,
                      "female"
                    ],
                    [
                      43,
                      "male"
                    ],
                    [
                      45,
                      "female"
                    ],
                    [
                      34,
                      "male"
                    ],
                    [
                      26,
                      "female"
                    ],
                    [
                      38,
                      "female"
                    ],
                    [
                      50,
                      "female"
                    ],
                    [
                      38,
                      "male"
                    ],
                    [
                      39,
                      "female"
                    ],
                    [
                      39,
                      "female"
                    ],
                    [
                      63,
                      "female"
                    ],
                    [
                      33,
                      "female"
                    ],
                    [
                      36,
                      "female"
                    ],
                    [
                      24,
                      "male"
                    ],
                    [
                      48,
                      "male"
                    ],
                    [
                      47,
                      "male"
                    ],
                    [
                      29,
                      "male"
                    ],
                    [
                      28,
                      "male"
                    ],
                    [
                      25,
                      "male"
                    ],
                    [
                      51,
                      "male"
                    ],
                    [
                      48,
                      "female"
                    ],
                    [
                      61,
                      "female"
                    ],
                    [
                      48,
                      "male"
                    ],
                    [
                      38,
                      "female"
                    ],
                    [
                      59,
                      "male"
                    ],
                    [
                      19,
                      "female"
                    ],
                    [
                      26,
                      "female"
                    ],
                    [
                      54,
                      "female"
                    ],
                    [
                      21,
                      "female"
                    ],
                    [
                      51,
                      "male"
                    ],
                    [
                      18,
                      "male"
                    ],
                    [
                      47,
                      "female"
                    ],
                    [
                      21,
                      "female"
                    ],
                    [
                      23,
                      "male"
                    ],
                    [
                      54,
                      "male"
                    ],
                    [
                      37,
                      "female"
                    ],
                    [
                      30,
                      "female"
                    ],
                    [
                      61,
                      "male"
                    ],
                    [
                      54,
                      "female"
                    ],
                    [
                      22,
                      "male"
                    ],
                    [
                      19,
                      "male"
                    ],
                    [
                      18,
                      "male"
                    ],
                    [
                      28,
                      "female"
                    ],
                    [
                      55,
                      "male"
                    ],
                    [
                      43,
                      "female"
                    ],
                    [
                      25,
                      "female"
                    ],
                    [
                      44,
                      "female"
                    ],
                    [
                      64,
                      "male"
                    ],
                    [
                      49,
                      "male"
                    ],
                    [
                      27,
                      "female"
                    ],
                    [
                      55,
                      "male"
                    ],
                    [
                      48,
                      "female"
                    ],
                    [
                      45,
                      "female"
                    ],
                    [
                      24,
                      "female"
                    ],
                    [
                      32,
                      "male"
                    ],
                    [
                      24,
                      "male"
                    ],
                    [
                      57,
                      "male"
                    ],
                    [
                      36,
                      "male"
                    ],
                    [
                      29,
                      "female"
                    ],
                    [
                      42,
                      "female"
                    ],
                    [
                      48,
                      "male"
                    ],
                    [
                      39,
                      "male"
                    ],
                    [
                      63,
                      "male"
                    ],
                    [
                      54,
                      "female"
                    ],
                    [
                      63,
                      "male"
                    ],
                    [
                      21,
                      "male"
                    ],
                    [
                      54,
                      "female"
                    ],
                    [
                      60,
                      "female"
                    ],
                    [
                      32,
                      "female"
                    ],
                    [
                      47,
                      "female"
                    ],
                    [
                      21,
                      "male"
                    ],
                    [
                      63,
                      "male"
                    ],
                    [
                      18,
                      "male"
                    ],
                    [
                      32,
                      "male"
                    ],
                    [
                      38,
                      "male"
                    ],
                    [
                      32,
                      "male"
                    ],
                    [
                      62,
                      "female"
                    ],
                    [
                      55,
                      "male"
                    ],
                    [
                      57,
                      "male"
                    ],
                    [
                      52,
                      "male"
                    ],
                    [
                      56,
                      "male"
                    ],
                    [
                      55,
                      "female"
                    ],
                    [
                      23,
                      "male"
                    ],
                    [
                      50,
                      "female"
                    ],
                    [
                      18,
                      "female"
                    ],
                    [
                      22,
                      "male"
                    ],
                    [
                      52,
                      "female"
                    ],
                    [
                      25,
                      "female"
                    ],
                    [
                      53,
                      "male"
                    ],
                    [
                      29,
                      "male"
                    ],
                    [
                      58,
                      "male"
                    ],
                    [
                      37,
                      "male"
                    ],
                    [
                      54,
                      "female"
                    ],
                    [
                      49,
                      "female"
                    ],
                    [
                      50,
                      "female"
                    ],
                    [
                      26,
                      "male"
                    ],
                    [
                      45,
                      "male"
                    ],
                    [
                      54,
                      "female"
                    ],
                    [
                      28,
                      "female"
                    ],
                    [
                      23,
                      "male"
                    ],
                    [
                      55,
                      "male"
                    ],
                    [
                      41,
                      "male"
                    ],
                    [
                      30,
                      "female"
                    ],
                    [
                      46,
                      "male"
                    ],
                    [
                      27,
                      "female"
                    ],
                    [
                      63,
                      "female"
                    ],
                    [
                      55,
                      "male"
                    ],
                    [
                      35,
                      "female"
                    ],
                    [
                      34,
                      "male"
                    ],
                    [
                      19,
                      "female"
                    ],
                    [
                      39,
                      "female"
                    ],
                    [
                      27,
                      "male"
                    ],
                    [
                      57,
                      "male"
                    ],
                    [
                      52,
                      "female"
                    ],
                    [
                      28,
                      "male"
                    ],
                    [
                      50,
                      "female"
                    ],
                    [
                      44,
                      "female"
                    ],
                    [
                      26,
                      "female"
                    ],
                    [
                      33,
                      "male"
                    ],
                    [
                      50,
                      "male"
                    ],
                    [
                      41,
                      "female"
                    ],
                    [
                      52,
                      "female"
                    ],
                    [
                      39,
                      "male"
                    ],
                    [
                      50,
                      "male"
                    ],
                    [
                      52,
                      "male"
                    ],
                    [
                      20,
                      "female"
                    ],
                    [
                      55,
                      "male"
                    ],
                    [
                      42,
                      "male"
                    ],
                    [
                      18,
                      "female"
                    ],
                    [
                      58,
                      "female"
                    ],
                    [
                      35,
                      "female"
                    ],
                    [
                      48,
                      "female"
                    ],
                    [
                      36,
                      "female"
                    ],
                    [
                      23,
                      "female"
                    ],
                    [
                      20,
                      "female"
                    ],
                    [
                      32,
                      "female"
                    ],
                    [
                      43,
                      "female"
                    ],
                    [
                      34,
                      "male"
                    ],
                    [
                      30,
                      "male"
                    ],
                    [
                      18,
                      "female"
                    ],
                    [
                      41,
                      "female"
                    ],
                    [
                      35,
                      "female"
                    ],
                    [
                      57,
                      "male"
                    ],
                    [
                      29,
                      "female"
                    ],
                    [
                      32,
                      "male"
                    ],
                    [
                      37,
                      "female"
                    ],
                    [
                      56,
                      "female"
                    ],
                    [
                      38,
                      "male"
                    ],
                    [
                      29,
                      "male"
                    ],
                    [
                      22,
                      "female"
                    ],
                    [
                      40,
                      "female"
                    ],
                    [
                      23,
                      "female"
                    ],
                    [
                      42,
                      "female"
                    ],
                    [
                      24,
                      "female"
                    ],
                    [
                      25,
                      "female"
                    ],
                    [
                      48,
                      "female"
                    ],
                    [
                      45,
                      "male"
                    ],
                    [
                      62,
                      "female"
                    ],
                    [
                      23,
                      "female"
                    ],
                    [
                      31,
                      "female"
                    ],
                    [
                      41,
                      "female"
                    ],
                    [
                      58,
                      "female"
                    ],
                    [
                      48,
                      "female"
                    ],
                    [
                      31,
                      "female"
                    ],
                    [
                      19,
                      "female"
                    ],
                    [
                      41,
                      "male"
                    ],
                    [
                      40,
                      "male"
                    ],
                    [
                      31,
                      "female"
                    ],
                    [
                      37,
                      "male"
                    ],
                    [
                      46,
                      "male"
                    ],
                    [
                      22,
                      "male"
                    ],
                    [
                      51,
                      "male"
                    ],
                    [
                      35,
                      "male"
                    ],
                    [
                      59,
                      "female"
                    ],
                    [
                      59,
                      "male"
                    ],
                    [
                      36,
                      "male"
                    ],
                    [
                      39,
                      "male"
                    ],
                    [
                      18,
                      "male"
                    ],
                    [
                      52,
                      "female"
                    ],
                    [
                      27,
                      "female"
                    ],
                    [
                      18,
                      "male"
                    ],
                    [
                      40,
                      "male"
                    ],
                    [
                      29,
                      "male"
                    ],
                    [
                      38,
                      "female"
                    ],
                    [
                      30,
                      "female"
                    ],
                    [
                      40,
                      "male"
                    ],
                    [
                      50,
                      "male"
                    ],
                    [
                      41,
                      "male"
                    ],
                    [
                      33,
                      "female"
                    ],
                    [
                      38,
                      "male"
                    ],
                    [
                      42,
                      "male"
                    ],
                    [
                      56,
                      "male"
                    ],
                    [
                      58,
                      "male"
                    ],
                    [
                      54,
                      "female"
                    ],
                    [
                      58,
                      "male"
                    ],
                    [
                      45,
                      "female"
                    ],
                    [
                      26,
                      "male"
                    ],
                    [
                      63,
                      "female"
                    ],
                    [
                      58,
                      "female"
                    ],
                    [
                      37,
                      "male"
                    ],
                    [
                      25,
                      "female"
                    ],
                    [
                      22,
                      "female"
                    ],
                    [
                      28,
                      "female"
                    ],
                    [
                      18,
                      "male"
                    ],
                    [
                      28,
                      "male"
                    ],
                    [
                      45,
                      "female"
                    ],
                    [
                      33,
                      "male"
                    ],
                    [
                      18,
                      "female"
                    ],
                    [
                      19,
                      "male"
                    ],
                    [
                      40,
                      "female"
                    ],
                    [
                      34,
                      "female"
                    ],
                    [
                      42,
                      "female"
                    ],
                    [
                      51,
                      "female"
                    ],
                    [
                      54,
                      "female"
                    ],
                    [
                      55,
                      "male"
                    ],
                    [
                      52,
                      "female"
                    ],
                    [
                      32,
                      "female"
                    ],
                    [
                      28,
                      "male"
                    ],
                    [
                      41,
                      "female"
                    ],
                    [
                      43,
                      "female"
                    ],
                    [
                      49,
                      "female"
                    ],
                    [
                      55,
                      "female"
                    ],
                    [
                      20,
                      "female"
                    ],
                    [
                      45,
                      "male"
                    ],
                    [
                      26,
                      "male"
                    ],
                    [
                      25,
                      "female"
                    ],
                    [
                      43,
                      "male"
                    ],
                    [
                      35,
                      "male"
                    ],
                    [
                      57,
                      "male"
                    ],
                    [
                      22,
                      "female"
                    ],
                    [
                      32,
                      "female"
                    ],
                    [
                      25,
                      "female"
                    ],
                    [
                      48,
                      "female"
                    ],
                    [
                      18,
                      "male"
                    ],
                    [
                      47,
                      "female"
                    ],
                    [
                      28,
                      "female"
                    ],
                    [
                      36,
                      "female"
                    ],
                    [
                      44,
                      "male"
                    ],
                    [
                      38,
                      "female"
                    ],
                    [
                      21,
                      "male"
                    ],
                    [
                      46,
                      "male"
                    ],
                    [
                      58,
                      "male"
                    ],
                    [
                      20,
                      "male"
                    ],
                    [
                      18,
                      "male"
                    ],
                    [
                      28,
                      "female"
                    ],
                    [
                      33,
                      "male"
                    ],
                    [
                      19,
                      "female"
                    ],
                    [
                      25,
                      "female"
                    ],
                    [
                      24,
                      "female"
                    ],
                    [
                      41,
                      "male"
                    ],
                    [
                      42,
                      "male"
                    ],
                    [
                      33,
                      "female"
                    ],
                    [
                      34,
                      "male"
                    ],
                    [
                      18,
                      "male"
                    ],
                    [
                      19,
                      "female"
                    ],
                    [
                      18,
                      "male"
                    ],
                    [
                      35,
                      "male"
                    ],
                    [
                      39,
                      "female"
                    ],
                    [
                      31,
                      "male"
                    ],
                    [
                      62,
                      "male"
                    ],
                    [
                      31,
                      "male"
                    ],
                    [
                      61,
                      "male"
                    ],
                    [
                      42,
                      "female"
                    ],
                    [
                      51,
                      "male"
                    ],
                    [
                      23,
                      "female"
                    ],
                    [
                      52,
                      "male"
                    ],
                    [
                      57,
                      "female"
                    ],
                    [
                      23,
                      "female"
                    ],
                    [
                      52,
                      "female"
                    ],
                    [
                      50,
                      "male"
                    ],
                    [
                      18,
                      "female"
                    ],
                    [
                      18,
                      "female"
                    ],
                    [
                      21,
                      "female"
                    ]
                  ],
                  "hovertemplate": "smoker=no<br>Body Mass Index (BMI)=%{x}<br>Insurance Charges ($)=%{y}<br>age=%{customdata[0]}<br>sex=%{customdata[1]}<extra></extra>",
                  "legendgroup": "no",
                  "marker": {
                    "color": "#EF553B",
                    "symbol": "circle"
                  },
                  "mode": "markers",
                  "name": "no",
                  "showlegend": true,
                  "type": "scattergl",
                  "x": {
                    "bdata": "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",
                    "dtype": "f8"
                  },
                  "xaxis": "x",
                  "y": {
                    "bdata": "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",
                    "dtype": "f8"
                  },
                  "yaxis": "y"
                }
              ],
              "layout": {
                "legend": {
                  "title": {
                    "text": "smoker"
                  },
                  "tracegroupgap": 0
                },
                "template": {
                  "data": {
                    "bar": [
                      {
                        "error_x": {
                          "color": "#2a3f5f"
                        },
                        "error_y": {
                          "color": "#2a3f5f"
                        },
                        "marker": {
                          "line": {
                            "color": "#E5ECF6",
                            "width": 0.5
                          },
                          "pattern": {
                            "fillmode": "overlay",
                            "size": 10,
                            "solidity": 0.2
                          }
                        },
                        "type": "bar"
                      }
                    ],
                    "barpolar": [
                      {
                        "marker": {
                          "line": {
                            "color": "#E5ECF6",
                            "width": 0.5
                          },
                          "pattern": {
                            "fillmode": "overlay",
                            "size": 10,
                            "solidity": 0.2
                          }
                        },
                        "type": "barpolar"
                      }
                    ],
                    "carpet": [
                      {
                        "aaxis": {
                          "endlinecolor": "#2a3f5f",
                          "gridcolor": "white",
                          "linecolor": "white",
                          "minorgridcolor": "white",
                          "startlinecolor": "#2a3f5f"
                        },
                        "baxis": {
                          "endlinecolor": "#2a3f5f",
                          "gridcolor": "white",
                          "linecolor": "white",
                          "minorgridcolor": "white",
                          "startlinecolor": "#2a3f5f"
                        },
                        "type": "carpet"
                      }
                    ],
                    "choropleth": [
                      {
                        "colorbar": {
                          "outlinewidth": 0,
                          "ticks": ""
                        },
                        "type": "choropleth"
                      }
                    ],
                    "contour": [
                      {
                        "colorbar": {
                          "outlinewidth": 0,
                          "ticks": ""
                        },
                        "colorscale": [
                          [
                            0,
                            "#0d0887"
                          ],
                          [
                            0.1111111111111111,
                            "#46039f"
                          ],
                          [
                            0.2222222222222222,
                            "#7201a8"
                          ],
                          [
                            0.3333333333333333,
                            "#9c179e"
                          ],
                          [
                            0.4444444444444444,
                            "#bd3786"
                          ],
                          [
                            0.5555555555555556,
                            "#d8576b"
                          ],
                          [
                            0.6666666666666666,
                            "#ed7953"
                          ],
                          [
                            0.7777777777777778,
                            "#fb9f3a"
                          ],
                          [
                            0.8888888888888888,
                            "#fdca26"
                          ],
                          [
                            1,
                            "#f0f921"
                          ]
                        ],
                        "type": "contour"
                      }
                    ],
                    "contourcarpet": [
                      {
                        "colorbar": {
                          "outlinewidth": 0,
                          "ticks": ""
                        },
                        "type": "contourcarpet"
                      }
                    ],
                    "heatmap": [
                      {
                        "colorbar": {
                          "outlinewidth": 0,
                          "ticks": ""
                        },
                        "colorscale": [
                          [
                            0,
                            "#0d0887"
                          ],
                          [
                            0.1111111111111111,
                            "#46039f"
                          ],
                          [
                            0.2222222222222222,
                            "#7201a8"
                          ],
                          [
                            0.3333333333333333,
                            "#9c179e"
                          ],
                          [
                            0.4444444444444444,
                            "#bd3786"
                          ],
                          [
                            0.5555555555555556,
                            "#d8576b"
                          ],
                          [
                            0.6666666666666666,
                            "#ed7953"
                          ],
                          [
                            0.7777777777777778,
                            "#fb9f3a"
                          ],
                          [
                            0.8888888888888888,
                            "#fdca26"
                          ],
                          [
                            1,
                            "#f0f921"
                          ]
                        ],
                        "type": "heatmap"
                      }
                    ],
                    "histogram": [
                      {
                        "marker": {
                          "pattern": {
                            "fillmode": "overlay",
                            "size": 10,
                            "solidity": 0.2
                          }
                        },
                        "type": "histogram"
                      }
                    ],
                    "histogram2d": [
                      {
                        "colorbar": {
                          "outlinewidth": 0,
                          "ticks": ""
                        },
                        "colorscale": [
                          [
                            0,
                            "#0d0887"
                          ],
                          [
                            0.1111111111111111,
                            "#46039f"
                          ],
                          [
                            0.2222222222222222,
                            "#7201a8"
                          ],
                          [
                            0.3333333333333333,
                            "#9c179e"
                          ],
                          [
                            0.4444444444444444,
                            "#bd3786"
                          ],
                          [
                            0.5555555555555556,
                            "#d8576b"
                          ],
                          [
                            0.6666666666666666,
                            "#ed7953"
                          ],
                          [
                            0.7777777777777778,
                            "#fb9f3a"
                          ],
                          [
                            0.8888888888888888,
                            "#fdca26"
                          ],
                          [
                            1,
                            "#f0f921"
                          ]
                        ],
                        "type": "histogram2d"
                      }
                    ],
                    "histogram2dcontour": [
                      {
                        "colorbar": {
                          "outlinewidth": 0,
                          "ticks": ""
                        },
                        "colorscale": [
                          [
                            0,
                            "#0d0887"
                          ],
                          [
                            0.1111111111111111,
                            "#46039f"
                          ],
                          [
                            0.2222222222222222,
                            "#7201a8"
                          ],
                          [
                            0.3333333333333333,
                            "#9c179e"
                          ],
                          [
                            0.4444444444444444,
                            "#bd3786"
                          ],
                          [
                            0.5555555555555556,
                            "#d8576b"
                          ],
                          [
                            0.6666666666666666,
                            "#ed7953"
                          ],
                          [
                            0.7777777777777778,
                            "#fb9f3a"
                          ],
                          [
                            0.8888888888888888,
                            "#fdca26"
                          ],
                          [
                            1,
                            "#f0f921"
                          ]
                        ],
                        "type": "histogram2dcontour"
                      }
                    ],
                    "mesh3d": [
                      {
                        "colorbar": {
                          "outlinewidth": 0,
                          "ticks": ""
                        },
                        "type": "mesh3d"
                      }
                    ],
                    "parcoords": [
                      {
                        "line": {
                          "colorbar": {
                            "outlinewidth": 0,
                            "ticks": ""
                          }
                        },
                        "type": "parcoords"
                      }
                    ],
                    "pie": [
                      {
                        "automargin": true,
                        "type": "pie"
                      }
                    ],
                    "scatter": [
                      {
                        "fillpattern": {
                          "fillmode": "overlay",
                          "size": 10,
                          "solidity": 0.2
                        },
                        "type": "scatter"
                      }
                    ],
                    "scatter3d": [
                      {
                        "line": {
                          "colorbar": {
                            "outlinewidth": 0,
                            "ticks": ""
                          }
                        },
                        "marker": {
                          "colorbar": {
                            "outlinewidth": 0,
                            "ticks": ""
                          }
                        },
                        "type": "scatter3d"
                      }
                    ],
                    "scattercarpet": [
                      {
                        "marker": {
                          "colorbar": {
                            "outlinewidth": 0,
                            "ticks": ""
                          }
                        },
                        "type": "scattercarpet"
                      }
                    ],
                    "scattergeo": [
                      {
                        "marker": {
                          "colorbar": {
                            "outlinewidth": 0,
                            "ticks": ""
                          }
                        },
                        "type": "scattergeo"
                      }
                    ],
                    "scattergl": [
                      {
                        "marker": {
                          "colorbar": {
                            "outlinewidth": 0,
                            "ticks": ""
                          }
                        },
                        "type": "scattergl"
                      }
                    ],
                    "scattermap": [
                      {
                        "marker": {
                          "colorbar": {
                            "outlinewidth": 0,
                            "ticks": ""
                          }
                        },
                        "type": "scattermap"
                      }
                    ],
                    "scattermapbox": [
                      {
                        "marker": {
                          "colorbar": {
                            "outlinewidth": 0,
                            "ticks": ""
                          }
                        },
                        "type": "scattermapbox"
                      }
                    ],
                    "scatterpolar": [
                      {
                        "marker": {
                          "colorbar": {
                            "outlinewidth": 0,
                            "ticks": ""
                          }
                        },
                        "type": "scatterpolar"
                      }
                    ],
                    "scatterpolargl": [
                      {
                        "marker": {
                          "colorbar": {
                            "outlinewidth": 0,
                            "ticks": ""
                          }
                        },
                        "type": "scatterpolargl"
                      }
                    ],
                    "scatterternary": [
                      {
                        "marker": {
                          "colorbar": {
                            "outlinewidth": 0,
                            "ticks": ""
                          }
                        },
                        "type": "scatterternary"
                      }
                    ],
                    "surface": [
                      {
                        "colorbar": {
                          "outlinewidth": 0,
                          "ticks": ""
                        },
                        "colorscale": [
                          [
                            0,
                            "#0d0887"
                          ],
                          [
                            0.1111111111111111,
                            "#46039f"
                          ],
                          [
                            0.2222222222222222,
                            "#7201a8"
                          ],
                          [
                            0.3333333333333333,
                            "#9c179e"
                          ],
                          [
                            0.4444444444444444,
                            "#bd3786"
                          ],
                          [
                            0.5555555555555556,
                            "#d8576b"
                          ],
                          [
                            0.6666666666666666,
                            "#ed7953"
                          ],
                          [
                            0.7777777777777778,
                            "#fb9f3a"
                          ],
                          [
                            0.8888888888888888,
                            "#fdca26"
                          ],
                          [
                            1,
                            "#f0f921"
                          ]
                        ],
                        "type": "surface"
                      }
                    ],
                    "table": [
                      {
                        "cells": {
                          "fill": {
                            "color": "#EBF0F8"
                          },
                          "line": {
                            "color": "white"
                          }
                        },
                        "header": {
                          "fill": {
                            "color": "#C8D4E3"
                          },
                          "line": {
                            "color": "white"
                          }
                        },
                        "type": "table"
                      }
                    ]
                  },
                  "layout": {
                    "annotationdefaults": {
                      "arrowcolor": "#2a3f5f",
                      "arrowhead": 0,
                      "arrowwidth": 1
                    },
                    "autotypenumbers": "strict",
                    "coloraxis": {
                      "colorbar": {
                        "outlinewidth": 0,
                        "ticks": ""
                      }
                    },
                    "colorscale": {
                      "diverging": [
                        [
                          0,
                          "#8e0152"
                        ],
                        [
                          0.1,
                          "#c51b7d"
                        ],
                        [
                          0.2,
                          "#de77ae"
                        ],
                        [
                          0.3,
                          "#f1b6da"
                        ],
                        [
                          0.4,
                          "#fde0ef"
                        ],
                        [
                          0.5,
                          "#f7f7f7"
                        ],
                        [
                          0.6,
                          "#e6f5d0"
                        ],
                        [
                          0.7,
                          "#b8e186"
                        ],
                        [
                          0.8,
                          "#7fbc41"
                        ],
                        [
                          0.9,
                          "#4d9221"
                        ],
                        [
                          1,
                          "#276419"
                        ]
                      ],
                      "sequential": [
                        [
                          0,
                          "#0d0887"
                        ],
                        [
                          0.1111111111111111,
                          "#46039f"
                        ],
                        [
                          0.2222222222222222,
                          "#7201a8"
                        ],
                        [
                          0.3333333333333333,
                          "#9c179e"
                        ],
                        [
                          0.4444444444444444,
                          "#bd3786"
                        ],
                        [
                          0.5555555555555556,
                          "#d8576b"
                        ],
                        [
                          0.6666666666666666,
                          "#ed7953"
                        ],
                        [
                          0.7777777777777778,
                          "#fb9f3a"
                        ],
                        [
                          0.8888888888888888,
                          "#fdca26"
                        ],
                        [
                          1,
                          "#f0f921"
                        ]
                      ],
                      "sequentialminus": [
                        [
                          0,
                          "#0d0887"
                        ],
                        [
                          0.1111111111111111,
                          "#46039f"
                        ],
                        [
                          0.2222222222222222,
                          "#7201a8"
                        ],
                        [
                          0.3333333333333333,
                          "#9c179e"
                        ],
                        [
                          0.4444444444444444,
                          "#bd3786"
                        ],
                        [
                          0.5555555555555556,
                          "#d8576b"
                        ],
                        [
                          0.6666666666666666,
                          "#ed7953"
                        ],
                        [
                          0.7777777777777778,
                          "#fb9f3a"
                        ],
                        [
                          0.8888888888888888,
                          "#fdca26"
                        ],
                        [
                          1,
                          "#f0f921"
                        ]
                      ]
                    },
                    "colorway": [
                      "#636efa",
                      "#EF553B",
                      "#00cc96",
                      "#ab63fa",
                      "#FFA15A",
                      "#19d3f3",
                      "#FF6692",
                      "#B6E880",
                      "#FF97FF",
                      "#FECB52"
                    ],
                    "font": {
                      "color": "#2a3f5f"
                    },
                    "geo": {
                      "bgcolor": "white",
                      "lakecolor": "white",
                      "landcolor": "#E5ECF6",
                      "showlakes": true,
                      "showland": true,
                      "subunitcolor": "white"
                    },
                    "hoverlabel": {
                      "align": "left"
                    },
                    "hovermode": "closest",
                    "mapbox": {
                      "style": "light"
                    },
                    "paper_bgcolor": "white",
                    "plot_bgcolor": "#E5ECF6",
                    "polar": {
                      "angularaxis": {
                        "gridcolor": "white",
                        "linecolor": "white",
                        "ticks": ""
                      },
                      "bgcolor": "#E5ECF6",
                      "radialaxis": {
                        "gridcolor": "white",
                        "linecolor": "white",
                        "ticks": ""
                      }
                    },
                    "scene": {
                      "xaxis": {
                        "backgroundcolor": "#E5ECF6",
                        "gridcolor": "white",
                        "gridwidth": 2,
                        "linecolor": "white",
                        "showbackground": true,
                        "ticks": "",
                        "zerolinecolor": "white"
                      },
                      "yaxis": {
                        "backgroundcolor": "#E5ECF6",
                        "gridcolor": "white",
                        "gridwidth": 2,
                        "linecolor": "white",
                        "showbackground": true,
                        "ticks": "",
                        "zerolinecolor": "white"
                      },
                      "zaxis": {
                        "backgroundcolor": "#E5ECF6",
                        "gridcolor": "white",
                        "gridwidth": 2,
                        "linecolor": "white",
                        "showbackground": true,
                        "ticks": "",
                        "zerolinecolor": "white"
                      }
                    },
                    "shapedefaults": {
                      "line": {
                        "color": "#2a3f5f"
                      }
                    },
                    "ternary": {
                      "aaxis": {
                        "gridcolor": "white",
                        "linecolor": "white",
                        "ticks": ""
                      },
                      "baxis": {
                        "gridcolor": "white",
                        "linecolor": "white",
                        "ticks": ""
                      },
                      "bgcolor": "#E5ECF6",
                      "caxis": {
                        "gridcolor": "white",
                        "linecolor": "white",
                        "ticks": ""
                      }
                    },
                    "title": {
                      "x": 0.05
                    },
                    "xaxis": {
                      "automargin": true,
                      "gridcolor": "white",
                      "linecolor": "white",
                      "ticks": "",
                      "title": {
                        "standoff": 15
                      },
                      "zerolinecolor": "white",
                      "zerolinewidth": 2
                    },
                    "yaxis": {
                      "automargin": true,
                      "gridcolor": "white",
                      "linecolor": "white",
                      "ticks": "",
                      "title": {
                        "standoff": 15
                      },
                      "zerolinecolor": "white",
                      "zerolinewidth": 2
                    }
                  }
                },
                "title": {
                  "text": "BMI vs Insurance Charges (by Smoking Status)"
                },
                "xaxis": {
                  "anchor": "y",
                  "domain": [
                    0,
                    1
                  ],
                  "title": {
                    "text": "Body Mass Index (BMI)"
                  }
                },
                "yaxis": {
                  "anchor": "x",
                  "domain": [
                    0,
                    1
                  ],
                  "title": {
                    "text": "Insurance Charges ($)"
                  }
                }
              }
            }
          },
          "metadata": {},
          "output_type": "display_data"
        },
        {
          "name": "stdout",
          "output_type": "stream",
          "text": [
            "Correlation between BMI and Charges: 0.198\n"
          ]
        }
      ],
      "source": [
        "# Scatter plot: BMI vs Charges colored by Smoking Status\n",
        "fig = px.scatter(df, x='bmi', y='charges', color='smoker',\n",
        "                 title='BMI vs Insurance Charges (by Smoking Status)',\n",
        "                 labels={'bmi': 'Body Mass Index (BMI)', 'charges': 'Insurance Charges ($)'},\n",
        "                 hover_data=['age', 'sex'])\n",
        "fig.show()\n",
        "\n",
        "# Correlation analysis\n",
        "bmi_charges_corr = df['bmi'].corr(df['charges'])\n",
        "print(f\"Correlation between BMI and Charges: {bmi_charges_corr:.3f}\")"
      ]
    },
    {
      "cell_type": "markdown",
      "metadata": {},
      "source": [
        "### Regional and Demographic Analysis\n",
        "\n",
        "Compare charges across different regions and demographic factors."
      ]
    },
    {
      "cell_type": "code",
      "execution_count": 10,
      "metadata": {},
      "outputs": [
        {
          "data": {
            "application/vnd.plotly.v1+json": {
              "config": {
                "plotlyServerURL": "https://plot.ly"
              },
              "data": [
                {
                  "hovertemplate": "Region=%{x}<br>Average Charges ($)=%{y}<extra></extra>",
                  "legendgroup": "",
                  "marker": {
                    "color": "#636efa",
                    "pattern": {
                      "shape": ""
                    }
                  },
                  "name": "",
                  "orientation": "v",
                  "showlegend": false,
                  "textposition": "auto",
                  "type": "bar",
                  "x": [
                    "northeast",
                    "northwest",
                    "southeast",
                    "southwest"
                  ],
                  "xaxis": "x",
                  "y": {
                    "bdata": "z0eIOjEvykDpNSWfyUDIQBLrfau0x8xAG4dAAHgdyEA=",
                    "dtype": "f8"
                  },
                  "yaxis": "y"
                }
              ],
              "layout": {
                "barmode": "relative",
                "legend": {
                  "tracegroupgap": 0
                },
                "template": {
                  "data": {
                    "bar": [
                      {
                        "error_x": {
                          "color": "#2a3f5f"
                        },
                        "error_y": {
                          "color": "#2a3f5f"
                        },
                        "marker": {
                          "line": {
                            "color": "#E5ECF6",
                            "width": 0.5
                          },
                          "pattern": {
                            "fillmode": "overlay",
                            "size": 10,
                            "solidity": 0.2
                          }
                        },
                        "type": "bar"
                      }
                    ],
                    "barpolar": [
                      {
                        "marker": {
                          "line": {
                            "color": "#E5ECF6",
                            "width": 0.5
                          },
                          "pattern": {
                            "fillmode": "overlay",
                            "size": 10,
                            "solidity": 0.2
                          }
                        },
                        "type": "barpolar"
                      }
                    ],
                    "carpet": [
                      {
                        "aaxis": {
                          "endlinecolor": "#2a3f5f",
                          "gridcolor": "white",
                          "linecolor": "white",
                          "minorgridcolor": "white",
                          "startlinecolor": "#2a3f5f"
                        },
                        "baxis": {
                          "endlinecolor": "#2a3f5f",
                          "gridcolor": "white",
                          "linecolor": "white",
                          "minorgridcolor": "white",
                          "startlinecolor": "#2a3f5f"
                        },
                        "type": "carpet"
                      }
                    ],
                    "choropleth": [
                      {
                        "colorbar": {
                          "outlinewidth": 0,
                          "ticks": ""
                        },
                        "type": "choropleth"
                      }
                    ],
                    "contour": [
                      {
                        "colorbar": {
                          "outlinewidth": 0,
                          "ticks": ""
                        },
                        "colorscale": [
                          [
                            0,
                            "#0d0887"
                          ],
                          [
                            0.1111111111111111,
                            "#46039f"
                          ],
                          [
                            0.2222222222222222,
                            "#7201a8"
                          ],
                          [
                            0.3333333333333333,
                            "#9c179e"
                          ],
                          [
                            0.4444444444444444,
                            "#bd3786"
                          ],
                          [
                            0.5555555555555556,
                            "#d8576b"
                          ],
                          [
                            0.6666666666666666,
                            "#ed7953"
                          ],
                          [
                            0.7777777777777778,
                            "#fb9f3a"
                          ],
                          [
                            0.8888888888888888,
                            "#fdca26"
                          ],
                          [
                            1,
                            "#f0f921"
                          ]
                        ],
                        "type": "contour"
                      }
                    ],
                    "contourcarpet": [
                      {
                        "colorbar": {
                          "outlinewidth": 0,
                          "ticks": ""
                        },
                        "type": "contourcarpet"
                      }
                    ],
                    "heatmap": [
                      {
                        "colorbar": {
                          "outlinewidth": 0,
                          "ticks": ""
                        },
                        "colorscale": [
                          [
                            0,
                            "#0d0887"
                          ],
                          [
                            0.1111111111111111,
                            "#46039f"
                          ],
                          [
                            0.2222222222222222,
                            "#7201a8"
                          ],
                          [
                            0.3333333333333333,
                            "#9c179e"
                          ],
                          [
                            0.4444444444444444,
                            "#bd3786"
                          ],
                          [
                            0.5555555555555556,
                            "#d8576b"
                          ],
                          [
                            0.6666666666666666,
                            "#ed7953"
                          ],
                          [
                            0.7777777777777778,
                            "#fb9f3a"
                          ],
                          [
                            0.8888888888888888,
                            "#fdca26"
                          ],
                          [
                            1,
                            "#f0f921"
                          ]
                        ],
                        "type": "heatmap"
                      }
                    ],
                    "histogram": [
                      {
                        "marker": {
                          "pattern": {
                            "fillmode": "overlay",
                            "size": 10,
                            "solidity": 0.2
                          }
                        },
                        "type": "histogram"
                      }
                    ],
                    "histogram2d": [
                      {
                        "colorbar": {
                          "outlinewidth": 0,
                          "ticks": ""
                        },
                        "colorscale": [
                          [
                            0,
                            "#0d0887"
                          ],
                          [
                            0.1111111111111111,
                            "#46039f"
                          ],
                          [
                            0.2222222222222222,
                            "#7201a8"
                          ],
                          [
                            0.3333333333333333,
                            "#9c179e"
                          ],
                          [
                            0.4444444444444444,
                            "#bd3786"
                          ],
                          [
                            0.5555555555555556,
                            "#d8576b"
                          ],
                          [
                            0.6666666666666666,
                            "#ed7953"
                          ],
                          [
                            0.7777777777777778,
                            "#fb9f3a"
                          ],
                          [
                            0.8888888888888888,
                            "#fdca26"
                          ],
                          [
                            1,
                            "#f0f921"
                          ]
                        ],
                        "type": "histogram2d"
                      }
                    ],
                    "histogram2dcontour": [
                      {
                        "colorbar": {
                          "outlinewidth": 0,
                          "ticks": ""
                        },
                        "colorscale": [
                          [
                            0,
                            "#0d0887"
                          ],
                          [
                            0.1111111111111111,
                            "#46039f"
                          ],
                          [
                            0.2222222222222222,
                            "#7201a8"
                          ],
                          [
                            0.3333333333333333,
                            "#9c179e"
                          ],
                          [
                            0.4444444444444444,
                            "#bd3786"
                          ],
                          [
                            0.5555555555555556,
                            "#d8576b"
                          ],
                          [
                            0.6666666666666666,
                            "#ed7953"
                          ],
                          [
                            0.7777777777777778,
                            "#fb9f3a"
                          ],
                          [
                            0.8888888888888888,
                            "#fdca26"
                          ],
                          [
                            1,
                            "#f0f921"
                          ]
                        ],
                        "type": "histogram2dcontour"
                      }
                    ],
                    "mesh3d": [
                      {
                        "colorbar": {
                          "outlinewidth": 0,
                          "ticks": ""
                        },
                        "type": "mesh3d"
                      }
                    ],
                    "parcoords": [
                      {
                        "line": {
                          "colorbar": {
                            "outlinewidth": 0,
                            "ticks": ""
                          }
                        },
                        "type": "parcoords"
                      }
                    ],
                    "pie": [
                      {
                        "automargin": true,
                        "type": "pie"
                      }
                    ],
                    "scatter": [
                      {
                        "fillpattern": {
                          "fillmode": "overlay",
                          "size": 10,
                          "solidity": 0.2
                        },
                        "type": "scatter"
                      }
                    ],
                    "scatter3d": [
                      {
                        "line": {
                          "colorbar": {
                            "outlinewidth": 0,
                            "ticks": ""
                          }
                        },
                        "marker": {
                          "colorbar": {
                            "outlinewidth": 0,
                            "ticks": ""
                          }
                        },
                        "type": "scatter3d"
                      }
                    ],
                    "scattercarpet": [
                      {
                        "marker": {
                          "colorbar": {
                            "outlinewidth": 0,
                            "ticks": ""
                          }
                        },
                        "type": "scattercarpet"
                      }
                    ],
                    "scattergeo": [
                      {
                        "marker": {
                          "colorbar": {
                            "outlinewidth": 0,
                            "ticks": ""
                          }
                        },
                        "type": "scattergeo"
                      }
                    ],
                    "scattergl": [
                      {
                        "marker": {
                          "colorbar": {
                            "outlinewidth": 0,
                            "ticks": ""
                          }
                        },
                        "type": "scattergl"
                      }
                    ],
                    "scattermap": [
                      {
                        "marker": {
                          "colorbar": {
                            "outlinewidth": 0,
                            "ticks": ""
                          }
                        },
                        "type": "scattermap"
                      }
                    ],
                    "scattermapbox": [
                      {
                        "marker": {
                          "colorbar": {
                            "outlinewidth": 0,
                            "ticks": ""
                          }
                        },
                        "type": "scattermapbox"
                      }
                    ],
                    "scatterpolar": [
                      {
                        "marker": {
                          "colorbar": {
                            "outlinewidth": 0,
                            "ticks": ""
                          }
                        },
                        "type": "scatterpolar"
                      }
                    ],
                    "scatterpolargl": [
                      {
                        "marker": {
                          "colorbar": {
                            "outlinewidth": 0,
                            "ticks": ""
                          }
                        },
                        "type": "scatterpolargl"
                      }
                    ],
                    "scatterternary": [
                      {
                        "marker": {
                          "colorbar": {
                            "outlinewidth": 0,
                            "ticks": ""
                          }
                        },
                        "type": "scatterternary"
                      }
                    ],
                    "surface": [
                      {
                        "colorbar": {
                          "outlinewidth": 0,
                          "ticks": ""
                        },
                        "colorscale": [
                          [
                            0,
                            "#0d0887"
                          ],
                          [
                            0.1111111111111111,
                            "#46039f"
                          ],
                          [
                            0.2222222222222222,
                            "#7201a8"
                          ],
                          [
                            0.3333333333333333,
                            "#9c179e"
                          ],
                          [
                            0.4444444444444444,
                            "#bd3786"
                          ],
                          [
                            0.5555555555555556,
                            "#d8576b"
                          ],
                          [
                            0.6666666666666666,
                            "#ed7953"
                          ],
                          [
                            0.7777777777777778,
                            "#fb9f3a"
                          ],
                          [
                            0.8888888888888888,
                            "#fdca26"
                          ],
                          [
                            1,
                            "#f0f921"
                          ]
                        ],
                        "type": "surface"
                      }
                    ],
                    "table": [
                      {
                        "cells": {
                          "fill": {
                            "color": "#EBF0F8"
                          },
                          "line": {
                            "color": "white"
                          }
                        },
                        "header": {
                          "fill": {
                            "color": "#C8D4E3"
                          },
                          "line": {
                            "color": "white"
                          }
                        },
                        "type": "table"
                      }
                    ]
                  },
                  "layout": {
                    "annotationdefaults": {
                      "arrowcolor": "#2a3f5f",
                      "arrowhead": 0,
                      "arrowwidth": 1
                    },
                    "autotypenumbers": "strict",
                    "coloraxis": {
                      "colorbar": {
                        "outlinewidth": 0,
                        "ticks": ""
                      }
                    },
                    "colorscale": {
                      "diverging": [
                        [
                          0,
                          "#8e0152"
                        ],
                        [
                          0.1,
                          "#c51b7d"
                        ],
                        [
                          0.2,
                          "#de77ae"
                        ],
                        [
                          0.3,
                          "#f1b6da"
                        ],
                        [
                          0.4,
                          "#fde0ef"
                        ],
                        [
                          0.5,
                          "#f7f7f7"
                        ],
                        [
                          0.6,
                          "#e6f5d0"
                        ],
                        [
                          0.7,
                          "#b8e186"
                        ],
                        [
                          0.8,
                          "#7fbc41"
                        ],
                        [
                          0.9,
                          "#4d9221"
                        ],
                        [
                          1,
                          "#276419"
                        ]
                      ],
                      "sequential": [
                        [
                          0,
                          "#0d0887"
                        ],
                        [
                          0.1111111111111111,
                          "#46039f"
                        ],
                        [
                          0.2222222222222222,
                          "#7201a8"
                        ],
                        [
                          0.3333333333333333,
                          "#9c179e"
                        ],
                        [
                          0.4444444444444444,
                          "#bd3786"
                        ],
                        [
                          0.5555555555555556,
                          "#d8576b"
                        ],
                        [
                          0.6666666666666666,
                          "#ed7953"
                        ],
                        [
                          0.7777777777777778,
                          "#fb9f3a"
                        ],
                        [
                          0.8888888888888888,
                          "#fdca26"
                        ],
                        [
                          1,
                          "#f0f921"
                        ]
                      ],
                      "sequentialminus": [
                        [
                          0,
                          "#0d0887"
                        ],
                        [
                          0.1111111111111111,
                          "#46039f"
                        ],
                        [
                          0.2222222222222222,
                          "#7201a8"
                        ],
                        [
                          0.3333333333333333,
                          "#9c179e"
                        ],
                        [
                          0.4444444444444444,
                          "#bd3786"
                        ],
                        [
                          0.5555555555555556,
                          "#d8576b"
                        ],
                        [
                          0.6666666666666666,
                          "#ed7953"
                        ],
                        [
                          0.7777777777777778,
                          "#fb9f3a"
                        ],
                        [
                          0.8888888888888888,
                          "#fdca26"
                        ],
                        [
                          1,
                          "#f0f921"
                        ]
                      ]
                    },
                    "colorway": [
                      "#636efa",
                      "#EF553B",
                      "#00cc96",
                      "#ab63fa",
                      "#FFA15A",
                      "#19d3f3",
                      "#FF6692",
                      "#B6E880",
                      "#FF97FF",
                      "#FECB52"
                    ],
                    "font": {
                      "color": "#2a3f5f"
                    },
                    "geo": {
                      "bgcolor": "white",
                      "lakecolor": "white",
                      "landcolor": "#E5ECF6",
                      "showlakes": true,
                      "showland": true,
                      "subunitcolor": "white"
                    },
                    "hoverlabel": {
                      "align": "left"
                    },
                    "hovermode": "closest",
                    "mapbox": {
                      "style": "light"
                    },
                    "paper_bgcolor": "white",
                    "plot_bgcolor": "#E5ECF6",
                    "polar": {
                      "angularaxis": {
                        "gridcolor": "white",
                        "linecolor": "white",
                        "ticks": ""
                      },
                      "bgcolor": "#E5ECF6",
                      "radialaxis": {
                        "gridcolor": "white",
                        "linecolor": "white",
                        "ticks": ""
                      }
                    },
                    "scene": {
                      "xaxis": {
                        "backgroundcolor": "#E5ECF6",
                        "gridcolor": "white",
                        "gridwidth": 2,
                        "linecolor": "white",
                        "showbackground": true,
                        "ticks": "",
                        "zerolinecolor": "white"
                      },
                      "yaxis": {
                        "backgroundcolor": "#E5ECF6",
                        "gridcolor": "white",
                        "gridwidth": 2,
                        "linecolor": "white",
                        "showbackground": true,
                        "ticks": "",
                        "zerolinecolor": "white"
                      },
                      "zaxis": {
                        "backgroundcolor": "#E5ECF6",
                        "gridcolor": "white",
                        "gridwidth": 2,
                        "linecolor": "white",
                        "showbackground": true,
                        "ticks": "",
                        "zerolinecolor": "white"
                      }
                    },
                    "shapedefaults": {
                      "line": {
                        "color": "#2a3f5f"
                      }
                    },
                    "ternary": {
                      "aaxis": {
                        "gridcolor": "white",
                        "linecolor": "white",
                        "ticks": ""
                      },
                      "baxis": {
                        "gridcolor": "white",
                        "linecolor": "white",
                        "ticks": ""
                      },
                      "bgcolor": "#E5ECF6",
                      "caxis": {
                        "gridcolor": "white",
                        "linecolor": "white",
                        "ticks": ""
                      }
                    },
                    "title": {
                      "x": 0.05
                    },
                    "xaxis": {
                      "automargin": true,
                      "gridcolor": "white",
                      "linecolor": "white",
                      "ticks": "",
                      "title": {
                        "standoff": 15
                      },
                      "zerolinecolor": "white",
                      "zerolinewidth": 2
                    },
                    "yaxis": {
                      "automargin": true,
                      "gridcolor": "white",
                      "linecolor": "white",
                      "ticks": "",
                      "title": {
                        "standoff": 15
                      },
                      "zerolinecolor": "white",
                      "zerolinewidth": 2
                    }
                  }
                },
                "title": {
                  "text": "Average Insurance Charges by Region"
                },
                "xaxis": {
                  "anchor": "y",
                  "domain": [
                    0,
                    1
                  ],
                  "title": {
                    "text": "Region"
                  }
                },
                "yaxis": {
                  "anchor": "x",
                  "domain": [
                    0,
                    1
                  ],
                  "title": {
                    "text": "Average Charges ($)"
                  }
                }
              }
            }
          },
          "metadata": {},
          "output_type": "display_data"
        },
        {
          "name": "stdout",
          "output_type": "stream",
          "text": [
            "\n",
            "Charges by Gender:\n",
            "            mean  count\n",
            "sex                    \n",
            "female  12569.58    662\n",
            "male    13956.75    676\n"
          ]
        }
      ],
      "source": [
        "# Bar chart: Average charges by region\n",
        "region_avg = df.groupby('region')['charges'].mean().reset_index()\n",
        "fig = px.bar(region_avg, x='region', y='charges',\n",
        "             title='Average Insurance Charges by Region',\n",
        "             labels={'region': 'Region', 'charges': 'Average Charges ($)'})\n",
        "fig.show()\n",
        "\n",
        "# Gender comparison\n",
        "gender_comparison = df.groupby('sex')['charges'].agg(['mean', 'count']).round(2)\n",
        "print(\"\\nCharges by Gender:\")\n",
        "print(gender_comparison)"
      ]
    },
    {
      "cell_type": "markdown",
      "metadata": {},
      "source": [
        "### Key Insights Summary\n",
        "\n",
        "Based on the visualizations above, here are the main findings from our analysis:"
      ]
    },
    {
      "cell_type": "markdown",
      "metadata": {},
      "source": [
        "## 📊 Data Insights & Conclusions\n",
        "\n",
        "### Key Findings:\n",
        "\n",
        "1. **🚬 Smoking Impact**: Smokers have significantly higher insurance charges than non-smokers\n",
        "   - This is the strongest predictor of insurance costs\n",
        "\n",
        "2. **📈 Age Factor**: Insurance charges generally increase with age\n",
        "   - Linear relationship suggests age-based pricing\n",
        "\n",
        "3. **⚖️ BMI Relationship**: Higher BMI correlates with increased charges\n",
        "   - Particularly noticeable among smokers\n",
        "\n",
        "4. **🌍 Regional Variations**: Different regions show varying average charges\n",
        "   - May reflect cost of living or healthcare costs by region\n",
        "\n",
        "5. **👥 Demographics**: Gender appears to have minimal impact on charges\n",
        "   - Number of children may influence costs\n",
        "\n",
        "### Recommendations for Further Analysis:\n",
        "- **Multi-factor analysis**: Examine combined effects (age + smoking, BMI + age, etc.)\n",
        "- **Predictive modeling**: Build models to predict charges based on these factors\n",
        "- **Cost optimization**: Identify factors that could reduce insurance costs"
      ]
    }
  ],
  "metadata": {
    "accelerator": "GPU",
    "colab": {
      "name": "Data Practitioner Jupyter Notebook.ipynb",
      "provenance": [],
      "toc_visible": true
    },
    "kernelspec": {
      "display_name": "Python 3",
      "language": "python",
      "name": "python3"
    },
    "language_info": {
      "codemirror_mode": {
        "name": "ipython",
        "version": 3
      },
      "file_extension": ".py",
      "mimetype": "text/x-python",
      "name": "python",
      "nbconvert_exporter": "python",
      "pygments_lexer": "ipython3",
      "version": "3.12.8"
    },
    "orig_nbformat": 2
  },
  "nbformat": 4,
  "nbformat_minor": 2
}
